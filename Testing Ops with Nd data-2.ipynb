{
 "cells": [
  {
   "cell_type": "markdown",
   "id": "a1a54266",
   "metadata": {},
   "source": [
    "## Results\n",
    "Below Ops are not supporting batched data\n",
    "1. at.linalg.det\n",
    "2. at.linalg.eigh\n",
    "3. matrix_inverse\n",
    "4. cholesky\n",
    "\n",
    "\n",
    "- np.diag -> fails with batched data\n",
    "- np.matrix.trace -> give sum of every diag in a list but aesara give total sum \n",
    "- np.fill_diagonal -> inplace operation and doesn't return anything but aesara return the data\n",
    "\n",
    "- at.or_ , np.logical_or -> different behavior\n",
    "- at.and_, np.logical_and"
   ]
  },
  {
   "cell_type": "code",
   "execution_count": 146,
   "id": "b862e3b6",
   "metadata": {},
   "outputs": [],
   "source": [
    "import numpy as np\n",
    "import aesara.tensor as at"
   ]
  },
  {
   "cell_type": "code",
   "execution_count": 147,
   "id": "a2c907a5",
   "metadata": {},
   "outputs": [
    {
     "data": {
      "text/plain": [
       "((3, 3), (2, 3, 3))"
      ]
     },
     "execution_count": 147,
     "metadata": {},
     "output_type": "execute_result"
    }
   ],
   "source": [
    "d2 = np.full((3,3), np.eye(3))\n",
    "d3 = np.full((2,3,3), np.eye(3))\n",
    "d2.shape, d3.shape"
   ]
  },
  {
   "cell_type": "code",
   "execution_count": 148,
   "id": "1f87e090",
   "metadata": {},
   "outputs": [],
   "source": [
    "x1 = np.arange(3*3).reshape(3,3)\n",
    "x2 = np.arange(1*2*3).reshape(1,2,3)\n",
    "x3 = np.arange(1*2*3*4).reshape(1,2,3,4)"
   ]
  },
  {
   "cell_type": "markdown",
   "id": "356e986b",
   "metadata": {},
   "source": [
    "## at.broadcast_arrays"
   ]
  },
  {
   "cell_type": "code",
   "execution_count": 151,
   "id": "5f8def73",
   "metadata": {},
   "outputs": [],
   "source": [
    "x = np.array([[1,2,3]])\n",
    "y = np.array([[4],[5]])"
   ]
  },
  {
   "cell_type": "markdown",
   "id": "b3b5d3c7",
   "metadata": {},
   "source": [
    "#### Deprecated in numpy since version 1.17:"
   ]
  },
  {
   "cell_type": "code",
   "execution_count": 152,
   "id": "e03c20ad",
   "metadata": {},
   "outputs": [
    {
     "data": {
      "text/plain": [
       "[array([[1, 2, 3],\n",
       "        [1, 2, 3]]),\n",
       " array([[4, 4, 4],\n",
       "        [5, 5, 5]])]"
      ]
     },
     "execution_count": 152,
     "metadata": {},
     "output_type": "execute_result"
    }
   ],
   "source": [
    "np.broadcast_arrays(x, y)"
   ]
  },
  {
   "cell_type": "code",
   "execution_count": 159,
   "id": "d25f2b67",
   "metadata": {},
   "outputs": [
    {
     "data": {
      "text/plain": [
       "(BroadcastTo.0, BroadcastTo.0)"
      ]
     },
     "execution_count": 159,
     "metadata": {},
     "output_type": "execute_result"
    }
   ],
   "source": [
    "at.broadcast_arrays(x, y)"
   ]
  },
  {
   "cell_type": "code",
   "execution_count": 153,
   "id": "01007ba7",
   "metadata": {},
   "outputs": [
    {
     "data": {
      "text/plain": [
       "array([[1, 2, 3],\n",
       "       [1, 2, 3]])"
      ]
     },
     "execution_count": 153,
     "metadata": {},
     "output_type": "execute_result"
    }
   ],
   "source": [
    "at.broadcast_arrays(x, y)[0].eval()"
   ]
  },
  {
   "cell_type": "code",
   "execution_count": 155,
   "id": "3bc5a904",
   "metadata": {},
   "outputs": [
    {
     "data": {
      "text/plain": [
       "array([[4, 4, 4],\n",
       "       [5, 5, 5]])"
      ]
     },
     "execution_count": 155,
     "metadata": {},
     "output_type": "execute_result"
    }
   ],
   "source": [
    "at.broadcast_arrays(x, y)[1].eval()"
   ]
  },
  {
   "cell_type": "markdown",
   "id": "89e98e43",
   "metadata": {},
   "source": [
    "## at.concatenate"
   ]
  },
  {
   "cell_type": "code",
   "execution_count": 58,
   "id": "55fdbb33",
   "metadata": {},
   "outputs": [
    {
     "data": {
      "text/plain": [
       "True"
      ]
     },
     "execution_count": 58,
     "metadata": {},
     "output_type": "execute_result"
    }
   ],
   "source": [
    "np.allclose(np.concatenate([x3, x3]), at.concatenate([x3, x3]).eval())"
   ]
  },
  {
   "cell_type": "code",
   "execution_count": 13,
   "id": "2330ec4d",
   "metadata": {},
   "outputs": [
    {
     "data": {
      "text/plain": [
       "array([[[1., 0., 0.],\n",
       "        [0., 1., 0.],\n",
       "        [0., 0., 1.]],\n",
       "\n",
       "       [[1., 0., 0.],\n",
       "        [0., 1., 0.],\n",
       "        [0., 0., 1.]],\n",
       "\n",
       "       [[1., 0., 0.],\n",
       "        [0., 1., 0.],\n",
       "        [0., 0., 1.]],\n",
       "\n",
       "       [[1., 0., 0.],\n",
       "        [0., 1., 0.],\n",
       "        [0., 0., 1.]]])"
      ]
     },
     "execution_count": 13,
     "metadata": {},
     "output_type": "execute_result"
    }
   ],
   "source": [
    "at.concatenate([d3, d3]).eval()"
   ]
  },
  {
   "cell_type": "markdown",
   "id": "b0f97064",
   "metadata": {},
   "source": [
    "## at.full"
   ]
  },
  {
   "cell_type": "code",
   "execution_count": 59,
   "id": "d9013b42",
   "metadata": {},
   "outputs": [
    {
     "data": {
      "text/plain": [
       "True"
      ]
     },
     "execution_count": 59,
     "metadata": {},
     "output_type": "execute_result"
    }
   ],
   "source": [
    "np.allclose(np.full((2,2,2), 1), at.full((2,2,2), 1).eval())"
   ]
  },
  {
   "cell_type": "code",
   "execution_count": 60,
   "id": "09f71326",
   "metadata": {},
   "outputs": [
    {
     "data": {
      "text/plain": [
       "array([[[1, 1],\n",
       "        [1, 1]],\n",
       "\n",
       "       [[1, 1],\n",
       "        [1, 1]]], dtype=int8)"
      ]
     },
     "execution_count": 60,
     "metadata": {},
     "output_type": "execute_result"
    }
   ],
   "source": [
    "at.full((2,2,2), 1).eval()"
   ]
  },
  {
   "cell_type": "markdown",
   "id": "2ac1bc37",
   "metadata": {},
   "source": [
    "## at.diag"
   ]
  },
  {
   "cell_type": "code",
   "execution_count": 54,
   "id": "803b96ab",
   "metadata": {},
   "outputs": [
    {
     "data": {
      "text/plain": [
       "True"
      ]
     },
     "execution_count": 54,
     "metadata": {},
     "output_type": "execute_result"
    }
   ],
   "source": [
    "np.allclose(np.diag(d2), at.diag(d2).eval())"
   ]
  },
  {
   "cell_type": "code",
   "execution_count": 53,
   "id": "7f900a5d",
   "metadata": {},
   "outputs": [
    {
     "data": {
      "text/plain": [
       "array([[1., 0.],\n",
       "       [0., 1.],\n",
       "       [0., 0.]])"
      ]
     },
     "execution_count": 53,
     "metadata": {},
     "output_type": "execute_result"
    }
   ],
   "source": [
    "at.diag(d3).eval()"
   ]
  },
  {
   "cell_type": "code",
   "execution_count": 56,
   "id": "6826db08",
   "metadata": {},
   "outputs": [
    {
     "ename": "ValueError",
     "evalue": "Input must be 1- or 2-d.",
     "output_type": "error",
     "traceback": [
      "\u001b[1;31m---------------------------------------------------------------------------\u001b[0m",
      "\u001b[1;31mValueError\u001b[0m                                Traceback (most recent call last)",
      "Input \u001b[1;32mIn [56]\u001b[0m, in \u001b[0;36m<cell line: 2>\u001b[1;34m()\u001b[0m\n\u001b[0;32m      1\u001b[0m \u001b[38;5;66;03m# Numpy fails on batched data\u001b[39;00m\n\u001b[1;32m----> 2\u001b[0m \u001b[43mnp\u001b[49m\u001b[38;5;241;43m.\u001b[39;49m\u001b[43mdiag\u001b[49m\u001b[43m(\u001b[49m\u001b[43md3\u001b[49m\u001b[43m)\u001b[49m\n",
      "File \u001b[1;32m<__array_function__ internals>:180\u001b[0m, in \u001b[0;36mdiag\u001b[1;34m(*args, **kwargs)\u001b[0m\n",
      "File \u001b[1;32m~\\anaconda3\\envs\\aesara-dev\\lib\\site-packages\\numpy\\lib\\twodim_base.py:303\u001b[0m, in \u001b[0;36mdiag\u001b[1;34m(v, k)\u001b[0m\n\u001b[0;32m    301\u001b[0m     \u001b[38;5;28;01mreturn\u001b[39;00m diagonal(v, k)\n\u001b[0;32m    302\u001b[0m \u001b[38;5;28;01melse\u001b[39;00m:\n\u001b[1;32m--> 303\u001b[0m     \u001b[38;5;28;01mraise\u001b[39;00m \u001b[38;5;167;01mValueError\u001b[39;00m(\u001b[38;5;124m\"\u001b[39m\u001b[38;5;124mInput must be 1- or 2-d.\u001b[39m\u001b[38;5;124m\"\u001b[39m)\n",
      "\u001b[1;31mValueError\u001b[0m: Input must be 1- or 2-d."
     ]
    }
   ],
   "source": [
    "# Numpy fails on batched data\n",
    "np.diag(d3)"
   ]
  },
  {
   "cell_type": "markdown",
   "id": "d1ff805a",
   "metadata": {},
   "source": [
    "## at.all"
   ]
  },
  {
   "cell_type": "code",
   "execution_count": 61,
   "id": "5a9ff6d5",
   "metadata": {},
   "outputs": [
    {
     "data": {
      "text/plain": [
       "True"
      ]
     },
     "execution_count": 61,
     "metadata": {},
     "output_type": "execute_result"
    }
   ],
   "source": [
    "np.allclose(np.all(x3), at.all(x3).eval())"
   ]
  },
  {
   "cell_type": "code",
   "execution_count": 22,
   "id": "0bd7ac4e",
   "metadata": {},
   "outputs": [
    {
     "data": {
      "text/plain": [
       "array(False)"
      ]
     },
     "execution_count": 22,
     "metadata": {},
     "output_type": "execute_result"
    }
   ],
   "source": [
    "at.all(d3).eval()"
   ]
  },
  {
   "cell_type": "markdown",
   "id": "1e4abe00",
   "metadata": {},
   "source": [
    "## at.sum"
   ]
  },
  {
   "cell_type": "code",
   "execution_count": 63,
   "id": "7f0d15b5",
   "metadata": {},
   "outputs": [
    {
     "data": {
      "text/plain": [
       "True"
      ]
     },
     "execution_count": 63,
     "metadata": {},
     "output_type": "execute_result"
    }
   ],
   "source": [
    "np.allclose(np.sum(x3), at.sum(x3).eval())"
   ]
  },
  {
   "cell_type": "code",
   "execution_count": 25,
   "id": "a188dad1",
   "metadata": {},
   "outputs": [
    {
     "data": {
      "text/plain": [
       "array(6.)"
      ]
     },
     "execution_count": 25,
     "metadata": {},
     "output_type": "execute_result"
    }
   ],
   "source": [
    "at.sum(d3).eval()"
   ]
  },
  {
   "cell_type": "markdown",
   "id": "04a37854",
   "metadata": {},
   "source": [
    "## at.log"
   ]
  },
  {
   "cell_type": "code",
   "execution_count": 71,
   "id": "668e4957",
   "metadata": {},
   "outputs": [
    {
     "name": "stderr",
     "output_type": "stream",
     "text": [
      "C:\\Users\\Purna\\AppData\\Local\\Temp\\ipykernel_8680\\1408697670.py:1: RuntimeWarning: divide by zero encountered in log\n",
      "  np.allclose(np.log(d3), at.log(d3).eval())\n"
     ]
    },
    {
     "data": {
      "text/plain": [
       "True"
      ]
     },
     "execution_count": 71,
     "metadata": {},
     "output_type": "execute_result"
    }
   ],
   "source": [
    "np.allclose(np.log(d3), at.log(d3).eval())"
   ]
  },
  {
   "cell_type": "code",
   "execution_count": 66,
   "id": "5f5dd5ee",
   "metadata": {},
   "outputs": [
    {
     "data": {
      "text/plain": [
       "array([[[  0., -inf, -inf],\n",
       "        [-inf,   0., -inf],\n",
       "        [-inf, -inf,   0.]],\n",
       "\n",
       "       [[  0., -inf, -inf],\n",
       "        [-inf,   0., -inf],\n",
       "        [-inf, -inf,   0.]]])"
      ]
     },
     "execution_count": 66,
     "metadata": {},
     "output_type": "execute_result"
    }
   ],
   "source": [
    "at.log(d3).eval()"
   ]
  },
  {
   "cell_type": "markdown",
   "id": "e3f8d525",
   "metadata": {},
   "source": [
    "## at.dot"
   ]
  },
  {
   "cell_type": "code",
   "execution_count": 73,
   "id": "30e0fabb",
   "metadata": {},
   "outputs": [
    {
     "data": {
      "text/plain": [
       "True"
      ]
     },
     "execution_count": 73,
     "metadata": {},
     "output_type": "execute_result"
    }
   ],
   "source": [
    "np.allclose(np.dot(x2, x3), at.dot(x2, x3).eval())"
   ]
  },
  {
   "cell_type": "code",
   "execution_count": 29,
   "id": "507501e4",
   "metadata": {},
   "outputs": [
    {
     "data": {
      "text/plain": [
       "array([[[1., 0., 0.],\n",
       "        [1., 0., 0.]],\n",
       "\n",
       "       [[0., 1., 0.],\n",
       "        [0., 1., 0.]],\n",
       "\n",
       "       [[0., 0., 1.],\n",
       "        [0., 0., 1.]]])"
      ]
     },
     "execution_count": 29,
     "metadata": {},
     "output_type": "execute_result"
    }
   ],
   "source": [
    "at.dot(d2, d3).eval()"
   ]
  },
  {
   "cell_type": "markdown",
   "id": "44851ca9",
   "metadata": {},
   "source": [
    "## aesara.tensor.gammaln"
   ]
  },
  {
   "cell_type": "code",
   "execution_count": 141,
   "id": "8708ea10",
   "metadata": {},
   "outputs": [],
   "source": [
    "import scipy"
   ]
  },
  {
   "cell_type": "code",
   "execution_count": 142,
   "id": "5359b6b4",
   "metadata": {},
   "outputs": [
    {
     "data": {
      "text/plain": [
       "True"
      ]
     },
     "execution_count": 142,
     "metadata": {},
     "output_type": "execute_result"
    }
   ],
   "source": [
    "np.allclose(scipy.special.gammaln(x3), at.gammaln(x3).eval())"
   ]
  },
  {
   "cell_type": "code",
   "execution_count": 30,
   "id": "ef0643b6",
   "metadata": {},
   "outputs": [
    {
     "data": {
      "text/plain": [
       "array([[[ 0., inf, inf],\n",
       "        [inf,  0., inf],\n",
       "        [inf, inf,  0.]],\n",
       "\n",
       "       [[ 0., inf, inf],\n",
       "        [inf,  0., inf],\n",
       "        [inf, inf,  0.]]])"
      ]
     },
     "execution_count": 30,
     "metadata": {},
     "output_type": "execute_result"
    }
   ],
   "source": [
    "at.gammaln(d3).eval()"
   ]
  },
  {
   "cell_type": "markdown",
   "id": "423c7fd6",
   "metadata": {},
   "source": [
    "## at.log1p"
   ]
  },
  {
   "cell_type": "code",
   "execution_count": 79,
   "id": "a48fec1f",
   "metadata": {},
   "outputs": [
    {
     "data": {
      "text/plain": [
       "True"
      ]
     },
     "execution_count": 79,
     "metadata": {},
     "output_type": "execute_result"
    }
   ],
   "source": [
    "np.allclose(np.log1p(x3), at.log1p(x3).eval())"
   ]
  },
  {
   "cell_type": "code",
   "execution_count": 31,
   "id": "69ffe3f8",
   "metadata": {},
   "outputs": [
    {
     "data": {
      "text/plain": [
       "array([[[0.69314718, 0.        , 0.        ],\n",
       "        [0.        , 0.69314718, 0.        ],\n",
       "        [0.        , 0.        , 0.69314718]],\n",
       "\n",
       "       [[0.69314718, 0.        , 0.        ],\n",
       "        [0.        , 0.69314718, 0.        ],\n",
       "        [0.        , 0.        , 0.69314718]]])"
      ]
     },
     "execution_count": 31,
     "metadata": {},
     "output_type": "execute_result"
    }
   ],
   "source": [
    "at.log1p(d3).eval()"
   ]
  },
  {
   "cell_type": "markdown",
   "id": "9c14cacd",
   "metadata": {},
   "source": [
    "## at.transpose"
   ]
  },
  {
   "cell_type": "code",
   "execution_count": 28,
   "id": "3521ba17",
   "metadata": {},
   "outputs": [
    {
     "data": {
      "text/plain": [
       "array([[[1., 1.],\n",
       "        [0., 0.],\n",
       "        [0., 0.]],\n",
       "\n",
       "       [[0., 0.],\n",
       "        [1., 1.],\n",
       "        [0., 0.]],\n",
       "\n",
       "       [[0., 0.],\n",
       "        [0., 0.],\n",
       "        [1., 1.]]])"
      ]
     },
     "execution_count": 28,
     "metadata": {},
     "output_type": "execute_result"
    }
   ],
   "source": [
    "at.transpose(d3).eval()"
   ]
  },
  {
   "cell_type": "code",
   "execution_count": 29,
   "id": "1a8d2ba6",
   "metadata": {},
   "outputs": [
    {
     "data": {
      "text/plain": [
       "array([[[1., 1.],\n",
       "        [0., 0.],\n",
       "        [0., 0.]],\n",
       "\n",
       "       [[0., 0.],\n",
       "        [1., 1.],\n",
       "        [0., 0.]],\n",
       "\n",
       "       [[0., 0.],\n",
       "        [0., 0.],\n",
       "        [1., 1.]]])"
      ]
     },
     "execution_count": 29,
     "metadata": {},
     "output_type": "execute_result"
    }
   ],
   "source": [
    "np.transpose(d3)"
   ]
  },
  {
   "cell_type": "code",
   "execution_count": 30,
   "id": "c5790a08",
   "metadata": {},
   "outputs": [
    {
     "data": {
      "text/plain": [
       "True"
      ]
     },
     "execution_count": 30,
     "metadata": {},
     "output_type": "execute_result"
    }
   ],
   "source": [
    "np.allclose(np.transpose(d3), at.transpose(d3).eval())"
   ]
  },
  {
   "cell_type": "code",
   "execution_count": 31,
   "id": "f9ce5abd",
   "metadata": {},
   "outputs": [],
   "source": [
    "x1 = np.arange(3*3).reshape(3,3)\n",
    "x2 = np.arange(1*2*3).reshape(1,2,3)\n",
    "x3 = np.arange(1*2*3*4).reshape(1,2,3,4)"
   ]
  },
  {
   "cell_type": "code",
   "execution_count": 32,
   "id": "7e6a8ee3",
   "metadata": {},
   "outputs": [
    {
     "data": {
      "text/plain": [
       "True"
      ]
     },
     "execution_count": 32,
     "metadata": {},
     "output_type": "execute_result"
    }
   ],
   "source": [
    "np.allclose(np.transpose(x1), at.transpose(x1).eval())"
   ]
  },
  {
   "cell_type": "code",
   "execution_count": 33,
   "id": "2c214436",
   "metadata": {},
   "outputs": [
    {
     "data": {
      "text/plain": [
       "True"
      ]
     },
     "execution_count": 33,
     "metadata": {},
     "output_type": "execute_result"
    }
   ],
   "source": [
    "np.allclose(np.transpose(x2), at.transpose(x2).eval())"
   ]
  },
  {
   "cell_type": "code",
   "execution_count": 34,
   "id": "628cc180",
   "metadata": {},
   "outputs": [
    {
     "data": {
      "text/plain": [
       "True"
      ]
     },
     "execution_count": 34,
     "metadata": {},
     "output_type": "execute_result"
    }
   ],
   "source": [
    "np.allclose(np.transpose(x2), at.transpose(x2).eval())"
   ]
  },
  {
   "cell_type": "markdown",
   "id": "4f192edd",
   "metadata": {},
   "source": [
    "# at.sqrt"
   ]
  },
  {
   "cell_type": "code",
   "execution_count": 80,
   "id": "17794d3c",
   "metadata": {},
   "outputs": [
    {
     "data": {
      "text/plain": [
       "True"
      ]
     },
     "execution_count": 80,
     "metadata": {},
     "output_type": "execute_result"
    }
   ],
   "source": [
    "np.allclose(np.sqrt(x3), at.sqrt(x3).eval())"
   ]
  },
  {
   "cell_type": "code",
   "execution_count": 34,
   "id": "37debe21",
   "metadata": {},
   "outputs": [
    {
     "data": {
      "text/plain": [
       "array([[[1., 0., 0.],\n",
       "        [0., 1., 0.],\n",
       "        [0., 0., 1.]],\n",
       "\n",
       "       [[1., 0., 0.],\n",
       "        [0., 1., 0.],\n",
       "        [0., 0., 1.]]])"
      ]
     },
     "execution_count": 34,
     "metadata": {},
     "output_type": "execute_result"
    }
   ],
   "source": [
    "at.sqrt(d3).eval()"
   ]
  },
  {
   "cell_type": "markdown",
   "id": "32bb403d",
   "metadata": {},
   "source": [
    "## at.batched_dot"
   ]
  },
  {
   "cell_type": "code",
   "execution_count": 82,
   "id": "b6f9348e",
   "metadata": {},
   "outputs": [
    {
     "data": {
      "text/plain": [
       "array([[[1., 0., 0.],\n",
       "        [0., 1., 0.],\n",
       "        [0., 0., 1.]],\n",
       "\n",
       "       [[1., 0., 0.],\n",
       "        [0., 1., 0.],\n",
       "        [0., 0., 1.]]])"
      ]
     },
     "execution_count": 82,
     "metadata": {},
     "output_type": "execute_result"
    }
   ],
   "source": [
    "# batched_dot doesn't present in numpy\n",
    "at.batched_dot(d3, d3).eval()"
   ]
  },
  {
   "cell_type": "markdown",
   "id": "c04bf26c",
   "metadata": {},
   "source": [
    "## at.full_like"
   ]
  },
  {
   "cell_type": "code",
   "execution_count": 83,
   "id": "bdd14fb0",
   "metadata": {},
   "outputs": [
    {
     "data": {
      "text/plain": [
       "True"
      ]
     },
     "execution_count": 83,
     "metadata": {},
     "output_type": "execute_result"
    }
   ],
   "source": [
    "np.allclose(np.full_like(d3, 1), at.full_like(d3, 1).eval())"
   ]
  },
  {
   "cell_type": "code",
   "execution_count": 51,
   "id": "ffb16066",
   "metadata": {},
   "outputs": [
    {
     "data": {
      "text/plain": [
       "array([[[1, 1, 1],\n",
       "        [1, 1, 1],\n",
       "        [1, 1, 1]],\n",
       "\n",
       "       [[1, 1, 1],\n",
       "        [1, 1, 1],\n",
       "        [1, 1, 1]]], dtype=int8)"
      ]
     },
     "execution_count": 51,
     "metadata": {},
     "output_type": "execute_result"
    }
   ],
   "source": [
    "at.full_like(d3, 1).eval()"
   ]
  },
  {
   "cell_type": "markdown",
   "id": "1048b5f7",
   "metadata": {},
   "source": [
    "## at.nlinalg.matrix_dot"
   ]
  },
  {
   "cell_type": "code",
   "execution_count": 87,
   "id": "3d2e14ce",
   "metadata": {},
   "outputs": [
    {
     "data": {
      "text/plain": [
       "True"
      ]
     },
     "execution_count": 87,
     "metadata": {},
     "output_type": "execute_result"
    }
   ],
   "source": [
    "np.allclose(np.matrix.dot(d3, d3), at.nlinalg.matrix_dot(d3, d3).eval())"
   ]
  },
  {
   "cell_type": "code",
   "execution_count": 84,
   "id": "d38f6969",
   "metadata": {},
   "outputs": [
    {
     "data": {
      "text/plain": [
       "array([[[1., 0., 0.],\n",
       "        [1., 0., 0.]],\n",
       "\n",
       "       [[0., 1., 0.],\n",
       "        [0., 1., 0.]],\n",
       "\n",
       "       [[0., 0., 1.],\n",
       "        [0., 0., 1.]]])"
      ]
     },
     "execution_count": 84,
     "metadata": {},
     "output_type": "execute_result"
    }
   ],
   "source": [
    "at.nlinalg.matrix_dot(d2, d3).eval()"
   ]
  },
  {
   "cell_type": "markdown",
   "id": "94e1c265",
   "metadata": {},
   "source": [
    "## at.nlinalg.trace"
   ]
  },
  {
   "cell_type": "code",
   "execution_count": 91,
   "id": "4db3f4c9",
   "metadata": {},
   "outputs": [
    {
     "data": {
      "text/plain": [
       "False"
      ]
     },
     "execution_count": 91,
     "metadata": {},
     "output_type": "execute_result"
    }
   ],
   "source": [
    "np.allclose(np.matrix.trace(d3), at.nlinalg.trace(d3).eval())"
   ]
  },
  {
   "cell_type": "code",
   "execution_count": 162,
   "id": "8e43b9b9",
   "metadata": {},
   "outputs": [
    {
     "data": {
      "text/plain": [
       "array([1., 1., 0.])"
      ]
     },
     "execution_count": 162,
     "metadata": {},
     "output_type": "execute_result"
    }
   ],
   "source": [
    "np.matrix.trace(d3)"
   ]
  },
  {
   "cell_type": "code",
   "execution_count": 93,
   "id": "fbbcb87b",
   "metadata": {},
   "outputs": [
    {
     "data": {
      "text/plain": [
       "2.0"
      ]
     },
     "execution_count": 93,
     "metadata": {},
     "output_type": "execute_result"
    }
   ],
   "source": [
    "np.matrix.trace(d3).sum()"
   ]
  },
  {
   "cell_type": "code",
   "execution_count": 164,
   "id": "384bb7c8",
   "metadata": {},
   "outputs": [
    {
     "data": {
      "text/plain": [
       "(1, 2, 3, 4)"
      ]
     },
     "execution_count": 164,
     "metadata": {},
     "output_type": "execute_result"
    }
   ],
   "source": [
    "x3.shape"
   ]
  },
  {
   "cell_type": "code",
   "execution_count": 166,
   "id": "ce2f4bc9",
   "metadata": {},
   "outputs": [
    {
     "data": {
      "text/plain": [
       "array([[ 0,  1,  2,  3],\n",
       "       [ 4,  5,  6,  7],\n",
       "       [ 8,  9, 10, 11]])"
      ]
     },
     "execution_count": 166,
     "metadata": {},
     "output_type": "execute_result"
    }
   ],
   "source": [
    "np.matrix.trace(x3)"
   ]
  },
  {
   "cell_type": "code",
   "execution_count": 167,
   "id": "fdde3470",
   "metadata": {},
   "outputs": [
    {
     "data": {
      "text/plain": [
       "array(66, dtype=int64)"
      ]
     },
     "execution_count": 167,
     "metadata": {},
     "output_type": "execute_result"
    }
   ],
   "source": [
    "at.nlinalg.trace(x3).eval()"
   ]
  },
  {
   "cell_type": "code",
   "execution_count": 94,
   "id": "7af2f92a",
   "metadata": {},
   "outputs": [
    {
     "data": {
      "text/plain": [
       "True"
      ]
     },
     "execution_count": 94,
     "metadata": {},
     "output_type": "execute_result"
    }
   ],
   "source": [
    "np.allclose(np.matrix.trace(x3).sum(), at.nlinalg.trace(x3).eval())"
   ]
  },
  {
   "cell_type": "code",
   "execution_count": 55,
   "id": "974dd71a",
   "metadata": {},
   "outputs": [
    {
     "data": {
      "text/plain": [
       "array(2.)"
      ]
     },
     "execution_count": 55,
     "metadata": {},
     "output_type": "execute_result"
    }
   ],
   "source": [
    "at.nlinalg.trace(d3).eval()"
   ]
  },
  {
   "cell_type": "code",
   "execution_count": null,
   "id": "f5e9264d",
   "metadata": {},
   "outputs": [],
   "source": []
  },
  {
   "cell_type": "markdown",
   "id": "0712eb9d",
   "metadata": {},
   "source": [
    "## at.zeros_like"
   ]
  },
  {
   "cell_type": "code",
   "execution_count": 96,
   "id": "866249b6",
   "metadata": {},
   "outputs": [
    {
     "data": {
      "text/plain": [
       "True"
      ]
     },
     "execution_count": 96,
     "metadata": {},
     "output_type": "execute_result"
    }
   ],
   "source": [
    "np.allclose(np.zeros_like(d3), at.zeros_like(d3).eval())"
   ]
  },
  {
   "cell_type": "code",
   "execution_count": 57,
   "id": "e969c5c5",
   "metadata": {},
   "outputs": [
    {
     "data": {
      "text/plain": [
       "array([[[0., 0., 0.],\n",
       "        [0., 0., 0.],\n",
       "        [0., 0., 0.]],\n",
       "\n",
       "       [[0., 0., 0.],\n",
       "        [0., 0., 0.],\n",
       "        [0., 0., 0.]]])"
      ]
     },
     "execution_count": 57,
     "metadata": {},
     "output_type": "execute_result"
    }
   ],
   "source": [
    "at.zeros_like(d3).eval()"
   ]
  },
  {
   "cell_type": "markdown",
   "id": "9777b5d8",
   "metadata": {},
   "source": [
    "## at.take"
   ]
  },
  {
   "cell_type": "code",
   "execution_count": 98,
   "id": "7ceba440",
   "metadata": {},
   "outputs": [
    {
     "data": {
      "text/plain": [
       "True"
      ]
     },
     "execution_count": 98,
     "metadata": {},
     "output_type": "execute_result"
    }
   ],
   "source": [
    "np.allclose(np.take(x3, [0,1,2]), at.take(x3, [0,1,2]).eval())"
   ]
  },
  {
   "cell_type": "code",
   "execution_count": 60,
   "id": "0d894d25",
   "metadata": {},
   "outputs": [
    {
     "data": {
      "text/plain": [
       "array([1., 0., 0.])"
      ]
     },
     "execution_count": 60,
     "metadata": {},
     "output_type": "execute_result"
    }
   ],
   "source": [
    "at.take(d3, [0,1,2]).eval()"
   ]
  },
  {
   "cell_type": "markdown",
   "id": "bbbeef92",
   "metadata": {},
   "source": [
    "## at.fill_diagonal"
   ]
  },
  {
   "cell_type": "code",
   "execution_count": 105,
   "id": "a8bbdbcb",
   "metadata": {},
   "outputs": [
    {
     "data": {
      "text/plain": [
       "True"
      ]
     },
     "execution_count": 105,
     "metadata": {},
     "output_type": "execute_result"
    }
   ],
   "source": [
    "a = np.zeros((3, 3, 3))\n",
    "b = np.zeros((3, 3, 3))\n",
    "np.fill_diagonal(a, 4)\n",
    "np.allclose(a, at.fill_diagonal(b, 4).eval())"
   ]
  },
  {
   "cell_type": "code",
   "execution_count": 168,
   "id": "3c7676ce",
   "metadata": {},
   "outputs": [],
   "source": [
    "a = np.zeros((3, 3, 3))\n",
    "np.fill_diagonal(a, 4)"
   ]
  },
  {
   "cell_type": "code",
   "execution_count": 169,
   "id": "0ffc9983",
   "metadata": {},
   "outputs": [
    {
     "data": {
      "text/plain": [
       "array([[[4., 0., 0.],\n",
       "        [0., 0., 0.],\n",
       "        [0., 0., 0.]],\n",
       "\n",
       "       [[0., 0., 0.],\n",
       "        [0., 4., 0.],\n",
       "        [0., 0., 0.]],\n",
       "\n",
       "       [[0., 0., 0.],\n",
       "        [0., 0., 0.],\n",
       "        [0., 0., 4.]]])"
      ]
     },
     "execution_count": 169,
     "metadata": {},
     "output_type": "execute_result"
    }
   ],
   "source": [
    "a"
   ]
  },
  {
   "cell_type": "code",
   "execution_count": 170,
   "id": "e0da8090",
   "metadata": {},
   "outputs": [
    {
     "data": {
      "text/plain": [
       "array([[[4., 0., 0.],\n",
       "        [0., 0., 0.],\n",
       "        [0., 0., 0.]],\n",
       "\n",
       "       [[0., 0., 0.],\n",
       "        [0., 4., 0.],\n",
       "        [0., 0., 0.]],\n",
       "\n",
       "       [[0., 0., 0.],\n",
       "        [0., 0., 0.],\n",
       "        [0., 0., 4.]]])"
      ]
     },
     "execution_count": 170,
     "metadata": {},
     "output_type": "execute_result"
    }
   ],
   "source": [
    "a = np.zeros((3, 3, 3))\n",
    "at.fill_diagonal(a, 4).eval()"
   ]
  },
  {
   "cell_type": "markdown",
   "id": "9dc68cfe",
   "metadata": {},
   "source": [
    "## at.linalg.det"
   ]
  },
  {
   "cell_type": "code",
   "execution_count": 107,
   "id": "d86870e7",
   "metadata": {},
   "outputs": [
    {
     "data": {
      "text/plain": [
       "array([1., 1.])"
      ]
     },
     "execution_count": 107,
     "metadata": {},
     "output_type": "execute_result"
    }
   ],
   "source": [
    "np.linalg.det(d3)"
   ]
  },
  {
   "cell_type": "code",
   "execution_count": 109,
   "id": "c6ee85f0",
   "metadata": {},
   "outputs": [
    {
     "data": {
      "text/plain": [
       "True"
      ]
     },
     "execution_count": 109,
     "metadata": {},
     "output_type": "execute_result"
    }
   ],
   "source": [
    "np.allclose(np.linalg.det(d2), at.linalg.det(d2).eval())"
   ]
  },
  {
   "cell_type": "code",
   "execution_count": 89,
   "id": "f22ba01d",
   "metadata": {},
   "outputs": [
    {
     "ename": "AssertionError",
     "evalue": "",
     "output_type": "error",
     "traceback": [
      "\u001b[1;31m---------------------------------------------------------------------------\u001b[0m",
      "\u001b[1;31mAssertionError\u001b[0m                            Traceback (most recent call last)",
      "Input \u001b[1;32mIn [89]\u001b[0m, in \u001b[0;36m<cell line: 1>\u001b[1;34m()\u001b[0m\n\u001b[1;32m----> 1\u001b[0m \u001b[43mat\u001b[49m\u001b[38;5;241;43m.\u001b[39;49m\u001b[43mlinalg\u001b[49m\u001b[38;5;241;43m.\u001b[39;49m\u001b[43mdet\u001b[49m\u001b[43m(\u001b[49m\u001b[43md3\u001b[49m\u001b[43m)\u001b[49m\u001b[38;5;241m.\u001b[39meval()\n",
      "File \u001b[1;32mD:\\OpenSource\\aesara\\aesara\\graph\\op.py:297\u001b[0m, in \u001b[0;36mOp.__call__\u001b[1;34m(self, *inputs, **kwargs)\u001b[0m\n\u001b[0;32m    255\u001b[0m \u001b[38;5;124mr\u001b[39m\u001b[38;5;124;03m\"\"\"Construct an `Apply` node using :meth:`Op.make_node` and return its outputs.\u001b[39;00m\n\u001b[0;32m    256\u001b[0m \n\u001b[0;32m    257\u001b[0m \u001b[38;5;124;03mThis method is just a wrapper around :meth:`Op.make_node`.\u001b[39;00m\n\u001b[1;32m   (...)\u001b[0m\n\u001b[0;32m    294\u001b[0m \n\u001b[0;32m    295\u001b[0m \u001b[38;5;124;03m\"\"\"\u001b[39;00m\n\u001b[0;32m    296\u001b[0m return_list \u001b[38;5;241m=\u001b[39m kwargs\u001b[38;5;241m.\u001b[39mpop(\u001b[38;5;124m\"\u001b[39m\u001b[38;5;124mreturn_list\u001b[39m\u001b[38;5;124m\"\u001b[39m, \u001b[38;5;28;01mFalse\u001b[39;00m)\n\u001b[1;32m--> 297\u001b[0m node \u001b[38;5;241m=\u001b[39m \u001b[38;5;28mself\u001b[39m\u001b[38;5;241m.\u001b[39mmake_node(\u001b[38;5;241m*\u001b[39minputs, \u001b[38;5;241m*\u001b[39m\u001b[38;5;241m*\u001b[39mkwargs)\n\u001b[0;32m    299\u001b[0m \u001b[38;5;28;01mif\u001b[39;00m config\u001b[38;5;241m.\u001b[39mcompute_test_value \u001b[38;5;241m!=\u001b[39m \u001b[38;5;124m\"\u001b[39m\u001b[38;5;124moff\u001b[39m\u001b[38;5;124m\"\u001b[39m:\n\u001b[0;32m    300\u001b[0m     compute_test_value(node)\n",
      "File \u001b[1;32mD:\\OpenSource\\aesara\\aesara\\tensor\\nlinalg.py:213\u001b[0m, in \u001b[0;36mDet.make_node\u001b[1;34m(self, x)\u001b[0m\n\u001b[0;32m    211\u001b[0m \u001b[38;5;28;01mdef\u001b[39;00m \u001b[38;5;21mmake_node\u001b[39m(\u001b[38;5;28mself\u001b[39m, x):\n\u001b[0;32m    212\u001b[0m     x \u001b[38;5;241m=\u001b[39m as_tensor_variable(x)\n\u001b[1;32m--> 213\u001b[0m     \u001b[38;5;28;01massert\u001b[39;00m x\u001b[38;5;241m.\u001b[39mndim \u001b[38;5;241m==\u001b[39m \u001b[38;5;241m2\u001b[39m\n\u001b[0;32m    214\u001b[0m     o \u001b[38;5;241m=\u001b[39m scalar(dtype\u001b[38;5;241m=\u001b[39mx\u001b[38;5;241m.\u001b[39mdtype)\n\u001b[0;32m    215\u001b[0m     \u001b[38;5;28;01mreturn\u001b[39;00m Apply(\u001b[38;5;28mself\u001b[39m, [x], [o])\n",
      "\u001b[1;31mAssertionError\u001b[0m: "
     ]
    }
   ],
   "source": [
    "at.linalg.det(d3).eval()"
   ]
  },
  {
   "cell_type": "markdown",
   "id": "8f580f54",
   "metadata": {},
   "source": [
    "## at.cumsum"
   ]
  },
  {
   "cell_type": "code",
   "execution_count": 111,
   "id": "2f6572d7",
   "metadata": {},
   "outputs": [
    {
     "data": {
      "text/plain": [
       "True"
      ]
     },
     "execution_count": 111,
     "metadata": {},
     "output_type": "execute_result"
    }
   ],
   "source": [
    "np.allclose(np.cumsum(d3), at.cumsum(d3).eval())"
   ]
  },
  {
   "cell_type": "code",
   "execution_count": 92,
   "id": "65f7f5a1",
   "metadata": {},
   "outputs": [
    {
     "data": {
      "text/plain": [
       "array([1., 1., 1., 1., 2., 2., 2., 2., 3., 4., 4., 4., 4., 5., 5., 5., 5.,\n",
       "       6.])"
      ]
     },
     "execution_count": 92,
     "metadata": {},
     "output_type": "execute_result"
    }
   ],
   "source": [
    "at.cumsum(d3).eval()"
   ]
  },
  {
   "cell_type": "markdown",
   "id": "5fdb537c",
   "metadata": {},
   "source": [
    "## at.zeros"
   ]
  },
  {
   "cell_type": "code",
   "execution_count": 112,
   "id": "56400885",
   "metadata": {},
   "outputs": [
    {
     "data": {
      "text/plain": [
       "True"
      ]
     },
     "execution_count": 112,
     "metadata": {},
     "output_type": "execute_result"
    }
   ],
   "source": [
    "np.allclose(np.zeros((2,3,3)), at.zeros((2,3,3)).eval())"
   ]
  },
  {
   "cell_type": "code",
   "execution_count": 95,
   "id": "a26d4bba",
   "metadata": {},
   "outputs": [
    {
     "data": {
      "text/plain": [
       "array([[[0., 0., 0.],\n",
       "        [0., 0., 0.],\n",
       "        [0., 0., 0.]],\n",
       "\n",
       "       [[0., 0., 0.],\n",
       "        [0., 0., 0.],\n",
       "        [0., 0., 0.]]])"
      ]
     },
     "execution_count": 95,
     "metadata": {},
     "output_type": "execute_result"
    }
   ],
   "source": [
    "at.zeros((2,3,3)).eval()"
   ]
  },
  {
   "cell_type": "markdown",
   "id": "10448e81",
   "metadata": {},
   "source": [
    "## at.sqrt"
   ]
  },
  {
   "cell_type": "code",
   "execution_count": 114,
   "id": "551f5605",
   "metadata": {},
   "outputs": [
    {
     "data": {
      "text/plain": [
       "True"
      ]
     },
     "execution_count": 114,
     "metadata": {},
     "output_type": "execute_result"
    }
   ],
   "source": [
    "np.allclose(np.sqrt(x3), at.sqrt(x3).eval())"
   ]
  },
  {
   "cell_type": "code",
   "execution_count": 99,
   "id": "f9abf845",
   "metadata": {},
   "outputs": [
    {
     "data": {
      "text/plain": [
       "array([[[1., 0., 0.],\n",
       "        [0., 1., 0.],\n",
       "        [0., 0., 1.]],\n",
       "\n",
       "       [[1., 0., 0.],\n",
       "        [0., 1., 0.],\n",
       "        [0., 0., 1.]]])"
      ]
     },
     "execution_count": 99,
     "metadata": {},
     "output_type": "execute_result"
    }
   ],
   "source": [
    "at.sqrt(d3).eval()"
   ]
  },
  {
   "cell_type": "markdown",
   "id": "04787a2e",
   "metadata": {},
   "source": [
    "## at.or_"
   ]
  },
  {
   "cell_type": "code",
   "execution_count": 124,
   "id": "a6c042f4",
   "metadata": {},
   "outputs": [],
   "source": [
    "a = np.zeros((2, 2, 2), int)\n",
    "b = np.ones((2, 2, 2), int) * 3"
   ]
  },
  {
   "cell_type": "code",
   "execution_count": 125,
   "id": "21348f9e",
   "metadata": {},
   "outputs": [
    {
     "data": {
      "text/plain": [
       "array([[[ True,  True],\n",
       "        [ True,  True]],\n",
       "\n",
       "       [[ True,  True],\n",
       "        [ True,  True]]])"
      ]
     },
     "execution_count": 125,
     "metadata": {},
     "output_type": "execute_result"
    }
   ],
   "source": [
    "np.logical_or(a, b)"
   ]
  },
  {
   "cell_type": "code",
   "execution_count": 128,
   "id": "65089229",
   "metadata": {},
   "outputs": [
    {
     "data": {
      "text/plain": [
       "array([[[3, 3],\n",
       "        [3, 3]],\n",
       "\n",
       "       [[3, 3],\n",
       "        [3, 3]]])"
      ]
     },
     "execution_count": 128,
     "metadata": {},
     "output_type": "execute_result"
    }
   ],
   "source": [
    "at.or_(a,b).eval()"
   ]
  },
  {
   "cell_type": "markdown",
   "id": "fbdb02e4",
   "metadata": {},
   "source": [
    "## at.and_"
   ]
  },
  {
   "cell_type": "code",
   "execution_count": 130,
   "id": "865096f8",
   "metadata": {},
   "outputs": [
    {
     "data": {
      "text/plain": [
       "array([[[False, False],\n",
       "        [False, False]],\n",
       "\n",
       "       [[False, False],\n",
       "        [False, False]]])"
      ]
     },
     "execution_count": 130,
     "metadata": {},
     "output_type": "execute_result"
    }
   ],
   "source": [
    "np.logical_and(a, b)"
   ]
  },
  {
   "cell_type": "code",
   "execution_count": 129,
   "id": "4b7c43e6",
   "metadata": {},
   "outputs": [
    {
     "data": {
      "text/plain": [
       "array([[[0, 0],\n",
       "        [0, 0]],\n",
       "\n",
       "       [[0, 0],\n",
       "        [0, 0]]])"
      ]
     },
     "execution_count": 129,
     "metadata": {},
     "output_type": "execute_result"
    }
   ],
   "source": [
    "at.and_(a, b).eval()"
   ]
  },
  {
   "cell_type": "markdown",
   "id": "26584a1e",
   "metadata": {},
   "source": [
    "## at.le"
   ]
  },
  {
   "cell_type": "code",
   "execution_count": 135,
   "id": "09a0774c",
   "metadata": {},
   "outputs": [
    {
     "data": {
      "text/plain": [
       "True"
      ]
     },
     "execution_count": 135,
     "metadata": {},
     "output_type": "execute_result"
    }
   ],
   "source": [
    "np.allclose(np.ndarray.__le__(a,b), at.le(a,b).eval())"
   ]
  },
  {
   "cell_type": "code",
   "execution_count": 111,
   "id": "343400c1",
   "metadata": {},
   "outputs": [
    {
     "data": {
      "text/plain": [
       "array([[[ True,  True],\n",
       "        [ True,  True]],\n",
       "\n",
       "       [[ True,  True],\n",
       "        [ True,  True]]])"
      ]
     },
     "execution_count": 111,
     "metadata": {},
     "output_type": "execute_result"
    }
   ],
   "source": [
    "at.le(a,b).eval()"
   ]
  },
  {
   "cell_type": "markdown",
   "id": "8f4cc289",
   "metadata": {},
   "source": [
    "# at.ge"
   ]
  },
  {
   "cell_type": "code",
   "execution_count": 136,
   "id": "2b198b12",
   "metadata": {},
   "outputs": [
    {
     "data": {
      "text/plain": [
       "True"
      ]
     },
     "execution_count": 136,
     "metadata": {},
     "output_type": "execute_result"
    }
   ],
   "source": [
    "np.allclose(np.ndarray.__ge__(a,b), at.ge(a,b).eval())"
   ]
  },
  {
   "cell_type": "code",
   "execution_count": 112,
   "id": "07b4268e",
   "metadata": {},
   "outputs": [
    {
     "data": {
      "text/plain": [
       "array([[[False, False],\n",
       "        [False, False]],\n",
       "\n",
       "       [[False, False],\n",
       "        [False, False]]])"
      ]
     },
     "execution_count": 112,
     "metadata": {},
     "output_type": "execute_result"
    }
   ],
   "source": [
    "at.ge(a, b).eval()"
   ]
  },
  {
   "cell_type": "markdown",
   "id": "963eb536",
   "metadata": {},
   "source": [
    "## at.neq"
   ]
  },
  {
   "cell_type": "code",
   "execution_count": 137,
   "id": "a00ca6bf",
   "metadata": {},
   "outputs": [
    {
     "data": {
      "text/plain": [
       "True"
      ]
     },
     "execution_count": 137,
     "metadata": {},
     "output_type": "execute_result"
    }
   ],
   "source": [
    "np.allclose(np.not_equal(a,b), at.neq(a, b).eval())"
   ]
  },
  {
   "cell_type": "code",
   "execution_count": 115,
   "id": "b1e1dcbc",
   "metadata": {},
   "outputs": [
    {
     "data": {
      "text/plain": [
       "array([[[ True,  True],\n",
       "        [ True,  True]],\n",
       "\n",
       "       [[ True,  True],\n",
       "        [ True,  True]]])"
      ]
     },
     "execution_count": 115,
     "metadata": {},
     "output_type": "execute_result"
    }
   ],
   "source": [
    "at.neq(a, b).eval()"
   ]
  },
  {
   "cell_type": "markdown",
   "id": "9e846a00",
   "metadata": {},
   "source": [
    "## at.any"
   ]
  },
  {
   "cell_type": "code",
   "execution_count": 138,
   "id": "26271db6",
   "metadata": {},
   "outputs": [
    {
     "data": {
      "text/plain": [
       "True"
      ]
     },
     "execution_count": 138,
     "metadata": {},
     "output_type": "execute_result"
    }
   ],
   "source": [
    "np.allclose(np.any(d3), at.any(d3).eval())"
   ]
  },
  {
   "cell_type": "code",
   "execution_count": 118,
   "id": "5cb89916",
   "metadata": {},
   "outputs": [
    {
     "data": {
      "text/plain": [
       "array(True)"
      ]
     },
     "execution_count": 118,
     "metadata": {},
     "output_type": "execute_result"
    }
   ],
   "source": [
    "at.any(d3).eval()"
   ]
  },
  {
   "cell_type": "markdown",
   "id": "1ed5b128",
   "metadata": {},
   "source": [
    "## at.allclose"
   ]
  },
  {
   "cell_type": "code",
   "execution_count": 119,
   "id": "6e69037c",
   "metadata": {},
   "outputs": [
    {
     "data": {
      "text/plain": [
       "array(True)"
      ]
     },
     "execution_count": 119,
     "metadata": {},
     "output_type": "execute_result"
    }
   ],
   "source": [
    "at.allclose(d3, d3).eval()"
   ]
  },
  {
   "cell_type": "markdown",
   "id": "71dbe84a",
   "metadata": {},
   "source": [
    "## at.sigmoid"
   ]
  },
  {
   "cell_type": "code",
   "execution_count": 143,
   "id": "443f808f",
   "metadata": {},
   "outputs": [
    {
     "data": {
      "text/plain": [
       "True"
      ]
     },
     "execution_count": 143,
     "metadata": {},
     "output_type": "execute_result"
    }
   ],
   "source": [
    "np.allclose(scipy.special.expit(d3), at.sigmoid(d3).eval())"
   ]
  },
  {
   "cell_type": "code",
   "execution_count": 124,
   "id": "44f1f03a",
   "metadata": {},
   "outputs": [
    {
     "data": {
      "text/plain": [
       "array([[[0.73105858, 0.5       , 0.5       ],\n",
       "        [0.5       , 0.73105858, 0.5       ],\n",
       "        [0.5       , 0.5       , 0.73105858]],\n",
       "\n",
       "       [[0.73105858, 0.5       , 0.5       ],\n",
       "        [0.5       , 0.73105858, 0.5       ],\n",
       "        [0.5       , 0.5       , 0.73105858]]])"
      ]
     },
     "execution_count": 124,
     "metadata": {},
     "output_type": "execute_result"
    }
   ],
   "source": [
    "at.sigmoid(d3).eval()"
   ]
  },
  {
   "cell_type": "markdown",
   "id": "43b8d428",
   "metadata": {},
   "source": [
    "## at.nlinalg.eigh"
   ]
  },
  {
   "cell_type": "code",
   "execution_count": 145,
   "id": "244e8cea",
   "metadata": {},
   "outputs": [
    {
     "data": {
      "text/plain": [
       "[Eigh{UPLO='L'}.0, Eigh{UPLO='L'}.1]"
      ]
     },
     "execution_count": 145,
     "metadata": {},
     "output_type": "execute_result"
    }
   ],
   "source": [
    "at.nlinalg.eigh(d2)"
   ]
  },
  {
   "cell_type": "code",
   "execution_count": 130,
   "id": "1581ad3b",
   "metadata": {
    "scrolled": true
   },
   "outputs": [
    {
     "ename": "AssertionError",
     "evalue": "",
     "output_type": "error",
     "traceback": [
      "\u001b[1;31m---------------------------------------------------------------------------\u001b[0m",
      "\u001b[1;31mAssertionError\u001b[0m                            Traceback (most recent call last)",
      "Input \u001b[1;32mIn [130]\u001b[0m, in \u001b[0;36m<cell line: 1>\u001b[1;34m()\u001b[0m\n\u001b[1;32m----> 1\u001b[0m \u001b[43mat\u001b[49m\u001b[38;5;241;43m.\u001b[39;49m\u001b[43mnlinalg\u001b[49m\u001b[38;5;241;43m.\u001b[39;49m\u001b[43meigh\u001b[49m\u001b[43m(\u001b[49m\u001b[43md3\u001b[49m\u001b[43m)\u001b[49m\n",
      "File \u001b[1;32mD:\\OpenSource\\aesara\\aesara\\tensor\\nlinalg.py:409\u001b[0m, in \u001b[0;36meigh\u001b[1;34m(a, UPLO)\u001b[0m\n\u001b[0;32m    408\u001b[0m \u001b[38;5;28;01mdef\u001b[39;00m \u001b[38;5;21meigh\u001b[39m(a, UPLO\u001b[38;5;241m=\u001b[39m\u001b[38;5;124m\"\u001b[39m\u001b[38;5;124mL\u001b[39m\u001b[38;5;124m\"\u001b[39m):\n\u001b[1;32m--> 409\u001b[0m     \u001b[38;5;28;01mreturn\u001b[39;00m \u001b[43mEigh\u001b[49m\u001b[43m(\u001b[49m\u001b[43mUPLO\u001b[49m\u001b[43m)\u001b[49m\u001b[43m(\u001b[49m\u001b[43ma\u001b[49m\u001b[43m)\u001b[49m\n",
      "File \u001b[1;32mD:\\OpenSource\\aesara\\aesara\\graph\\op.py:297\u001b[0m, in \u001b[0;36mOp.__call__\u001b[1;34m(self, *inputs, **kwargs)\u001b[0m\n\u001b[0;32m    255\u001b[0m \u001b[38;5;124mr\u001b[39m\u001b[38;5;124;03m\"\"\"Construct an `Apply` node using :meth:`Op.make_node` and return its outputs.\u001b[39;00m\n\u001b[0;32m    256\u001b[0m \n\u001b[0;32m    257\u001b[0m \u001b[38;5;124;03mThis method is just a wrapper around :meth:`Op.make_node`.\u001b[39;00m\n\u001b[1;32m   (...)\u001b[0m\n\u001b[0;32m    294\u001b[0m \n\u001b[0;32m    295\u001b[0m \u001b[38;5;124;03m\"\"\"\u001b[39;00m\n\u001b[0;32m    296\u001b[0m return_list \u001b[38;5;241m=\u001b[39m kwargs\u001b[38;5;241m.\u001b[39mpop(\u001b[38;5;124m\"\u001b[39m\u001b[38;5;124mreturn_list\u001b[39m\u001b[38;5;124m\"\u001b[39m, \u001b[38;5;28;01mFalse\u001b[39;00m)\n\u001b[1;32m--> 297\u001b[0m node \u001b[38;5;241m=\u001b[39m \u001b[38;5;28mself\u001b[39m\u001b[38;5;241m.\u001b[39mmake_node(\u001b[38;5;241m*\u001b[39minputs, \u001b[38;5;241m*\u001b[39m\u001b[38;5;241m*\u001b[39mkwargs)\n\u001b[0;32m    299\u001b[0m \u001b[38;5;28;01mif\u001b[39;00m config\u001b[38;5;241m.\u001b[39mcompute_test_value \u001b[38;5;241m!=\u001b[39m \u001b[38;5;124m\"\u001b[39m\u001b[38;5;124moff\u001b[39m\u001b[38;5;124m\"\u001b[39m:\n\u001b[0;32m    300\u001b[0m     compute_test_value(node)\n",
      "File \u001b[1;32mD:\\OpenSource\\aesara\\aesara\\tensor\\nlinalg.py:285\u001b[0m, in \u001b[0;36mEigh.make_node\u001b[1;34m(self, x)\u001b[0m\n\u001b[0;32m    283\u001b[0m \u001b[38;5;28;01mdef\u001b[39;00m \u001b[38;5;21mmake_node\u001b[39m(\u001b[38;5;28mself\u001b[39m, x):\n\u001b[0;32m    284\u001b[0m     x \u001b[38;5;241m=\u001b[39m as_tensor_variable(x)\n\u001b[1;32m--> 285\u001b[0m     \u001b[38;5;28;01massert\u001b[39;00m x\u001b[38;5;241m.\u001b[39mndim \u001b[38;5;241m==\u001b[39m \u001b[38;5;241m2\u001b[39m\n\u001b[0;32m    286\u001b[0m     \u001b[38;5;66;03m# Numpy's linalg.eigh may return either double or single\u001b[39;00m\n\u001b[0;32m    287\u001b[0m     \u001b[38;5;66;03m# presision eigenvalues depending on installed version of\u001b[39;00m\n\u001b[0;32m    288\u001b[0m     \u001b[38;5;66;03m# LAPACK.  Rather than trying to reproduce the (rather\u001b[39;00m\n\u001b[0;32m    289\u001b[0m     \u001b[38;5;66;03m# involved) logic, we just probe linalg.eigh with a trivial\u001b[39;00m\n\u001b[0;32m    290\u001b[0m     \u001b[38;5;66;03m# input.\u001b[39;00m\n\u001b[0;32m    291\u001b[0m     w_dtype \u001b[38;5;241m=\u001b[39m \u001b[38;5;28mself\u001b[39m\u001b[38;5;241m.\u001b[39m_numop([[np\u001b[38;5;241m.\u001b[39mdtype(x\u001b[38;5;241m.\u001b[39mdtype)\u001b[38;5;241m.\u001b[39mtype()]])[\u001b[38;5;241m0\u001b[39m]\u001b[38;5;241m.\u001b[39mdtype\u001b[38;5;241m.\u001b[39mname\n",
      "\u001b[1;31mAssertionError\u001b[0m: "
     ]
    }
   ],
   "source": [
    "at.nlinalg.eigh(d3)"
   ]
  }
 ],
 "metadata": {
  "kernelspec": {
   "display_name": "Python 3 (ipykernel)",
   "language": "python",
   "name": "python3"
  },
  "language_info": {
   "codemirror_mode": {
    "name": "ipython",
    "version": 3
   },
   "file_extension": ".py",
   "mimetype": "text/x-python",
   "name": "python",
   "nbconvert_exporter": "python",
   "pygments_lexer": "ipython3",
   "version": "3.10.5"
  }
 },
 "nbformat": 4,
 "nbformat_minor": 5
}
