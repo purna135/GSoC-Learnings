{
 "cells": [
  {
   "cell_type": "code",
   "execution_count": 1,
   "id": "ae6fa868",
   "metadata": {},
   "outputs": [
    {
     "name": "stdout",
     "output_type": "stream",
     "text": [
      "WARN: Could not locate executable g77\n",
      "WARN: Could not locate executable f77\n",
      "WARN: Could not locate executable ifort\n",
      "WARN: Could not locate executable ifl\n",
      "WARN: Could not locate executable f90\n",
      "WARN: Could not locate executable DF\n",
      "WARN: Could not locate executable efl\n"
     ]
    }
   ],
   "source": [
    "import aesara\n",
    "from aesara.graph.basic import Apply\n",
    "from aesara.graph.op import Op\n",
    "from aesara.tensor.type import TensorType"
   ]
  },
  {
   "cell_type": "markdown",
   "id": "6ac4565a",
   "metadata": {},
   "source": [
    "# 1. Op returns x * y"
   ]
  },
  {
   "cell_type": "code",
   "execution_count": 2,
   "id": "82c5f5a8",
   "metadata": {},
   "outputs": [],
   "source": [
    "class ProdOp(Op):\n",
    "    def make_node(self, x, y):\n",
    "        x = at.as_tensor_variable(x)\n",
    "        y = at.as_tensor_variable(y)\n",
    "        outdim = x.ndim\n",
    "        output = TensorType(\n",
    "            dtype=aesara.scalar.upcast(x.dtype, y.dtype), shape=[False] * outdim\n",
    "        )()\n",
    "        return Apply(self, inputs=[x, y], outputs=[output])\n",
    "\n",
    "    def perform(self, node, inputs, output_storage):\n",
    "        x, y = inputs\n",
    "        z = output_storage[0]\n",
    "        z[0] = x * y\n",
    "\n",
    "    def infer_shape(self, fgraph, node, i0_shapes):\n",
    "        return [i0_shapes[0]]\n",
    "\n",
    "    def grad(self, inputs, output_grads):\n",
    "        return [output_grads[0] * inputs[1], output_grads[0] * inputs[0]]\n"
   ]
  },
  {
   "cell_type": "markdown",
   "id": "1fe09eae",
   "metadata": {},
   "source": [
    "# 2. Op returns x + y and x - y"
   ]
  },
  {
   "cell_type": "code",
   "execution_count": 3,
   "id": "0bfb2e77",
   "metadata": {},
   "outputs": [],
   "source": [
    "class SumDiffOp(Op):\n",
    "    def make_node(self, x, y):\n",
    "        x = at.as_tensor_variable(x)\n",
    "        y = at.as_tensor_variable(y)\n",
    "        outdim = x.ndim\n",
    "        output1 = TensorType(\n",
    "            dtype=aesara.scalar.upcast(x.dtype, y.dtype), shape=[False] * outdim\n",
    "        )()\n",
    "        output2 = TensorType(\n",
    "            dtype=aesara.scalar.upcast(x.dtype, y.dtype), shape=[False] * outdim\n",
    "        )()\n",
    "        return Apply(self, inputs=[x, y], outputs=[output1, output2])\n",
    "\n",
    "    def perform(self, node, inputs, output_storage):\n",
    "        x, y = inputs\n",
    "        z1, z2 = output_storage\n",
    "        z1[0] = x + y\n",
    "        z2[0] = x - y\n",
    "\n",
    "    def infer_shape(self, fgraph, node, i0_shapes):\n",
    "        return [i0_shapes[0], i0_shapes[0]]\n",
    "\n",
    "    def grad(self, inputs, output_grads):\n",
    "        og1, og2 = output_grads\n",
    "        if og1 is None:\n",
    "            og1 = at.zeros_like(og2)\n",
    "        if og2 is None:\n",
    "            og2 = at.zeros_like(og1)\n",
    "        return [og1 + og2, og1 - og2]"
   ]
  },
  {
   "cell_type": "markdown",
   "id": "d09755d8",
   "metadata": {},
   "source": [
    "# 3. Testing apparatus"
   ]
  },
  {
   "cell_type": "code",
   "execution_count": 4,
   "id": "c272718b",
   "metadata": {},
   "outputs": [],
   "source": [
    "import numpy as np\n",
    "\n",
    "from tests import unittest_tools as utt\n",
    "from aesara import function, printing\n",
    "from aesara import tensor as at\n",
    "from aesara.graph.basic import Apply\n",
    "from aesara.graph.op import Op\n",
    "from aesara.tensor.type import dmatrix, matrix"
   ]
  },
  {
   "cell_type": "code",
   "execution_count": 5,
   "id": "6e8edb4c",
   "metadata": {},
   "outputs": [],
   "source": [
    "class TestProdOp(utt.InferShapeTester):\n",
    "    def setup_method(self):\n",
    "        super().setup_method()\n",
    "        self.op_class = ProdOp  # case 1\n",
    "\n",
    "    def test_perform(self):\n",
    "        rng = np.random.default_rng(43)\n",
    "        x = matrix()\n",
    "        y = matrix()\n",
    "        f = aesara.function([x, y], self.op_class()(x, y))\n",
    "        x_val = rng.random((5, 4))\n",
    "        y_val = rng.random((5, 4))\n",
    "        out = f(x_val, y_val)\n",
    "        assert np.allclose(x_val * y_val, out)\n",
    "\n",
    "    def test_gradient(self):\n",
    "        rng = np.random.default_rng(43)\n",
    "        utt.verify_grad(\n",
    "            self.op_class(),\n",
    "            [rng.random((5, 4)), rng.random((5, 4))],\n",
    "            n_tests=1,\n",
    "            rng=TestProdOp.rng,\n",
    "        )\n",
    "\n",
    "    def test_infer_shape(self):\n",
    "        rng = np.random.default_rng(43)\n",
    "        x = dmatrix()\n",
    "        y = dmatrix()\n",
    "\n",
    "        self._compile_and_check(\n",
    "            [x, y],\n",
    "            [self.op_class()(x, y)],\n",
    "            [rng.random(5, 6), rng.random((5, 6))],\n",
    "            self.op_class,\n",
    "        )\n"
   ]
  },
  {
   "cell_type": "code",
   "execution_count": 6,
   "id": "2a1d6e93",
   "metadata": {},
   "outputs": [],
   "source": [
    "class TestSumDiffOp(utt.InferShapeTester):\n",
    "    def setup_method(self):\n",
    "        super().setup_method()\n",
    "        self.op_class = SumDiffOp\n",
    "\n",
    "    def test_perform(self):\n",
    "        rng = np.random.RandomState(43)\n",
    "        x = matrix()\n",
    "        y = matrix()\n",
    "        f = aesara.function([x, y], self.op_class()(x, y))\n",
    "        x_val = rng.random((5, 4))\n",
    "        y_val = rng.random((5, 4))\n",
    "        out = f(x_val, y_val)\n",
    "        assert np.allclose([x_val + y_val, x_val - y_val], out)\n",
    "\n",
    "    def test_gradient(self):\n",
    "        rng = np.random.RandomState(43)\n",
    "\n",
    "        def output_0(x, y):\n",
    "            return self.op_class()(x, y)[0]\n",
    "\n",
    "        def output_1(x, y):\n",
    "            return self.op_class()(x, y)[1]\n",
    "\n",
    "        utt.verify_grad(\n",
    "            output_0,\n",
    "            [rng.random((5, 4)), rng.random((5, 4))],\n",
    "            n_tests=1,\n",
    "            rng=TestSumDiffOp.rng,\n",
    "        )\n",
    "        utt.verify_grad(\n",
    "            output_1,\n",
    "            [rng.random((5, 4)), rng.random((5, 4))],\n",
    "            n_tests=1,\n",
    "            rng=TestSumDiffOp.rng,\n",
    "        )\n",
    "\n",
    "    def test_infer_shape(self):\n",
    "        rng = np.random.RandomState(43)\n",
    "\n",
    "        x = dmatrix()\n",
    "        y = dmatrix()\n",
    "\n",
    "        # adapt the choice of the next instruction to the op under test\n",
    "\n",
    "        self._compile_and_check(\n",
    "            [x, y],\n",
    "            self.op_class()(x, y),\n",
    "            [rng.random((5, 6)), rng.random((5, 6))],\n",
    "            self.op_class,\n",
    "        )\n"
   ]
  },
  {
   "cell_type": "code",
   "execution_count": null,
   "id": "6e341c52",
   "metadata": {},
   "outputs": [],
   "source": []
  }
 ],
 "metadata": {
  "kernelspec": {
   "display_name": "Python 3 (ipykernel)",
   "language": "python",
   "name": "python3"
  },
  "language_info": {
   "codemirror_mode": {
    "name": "ipython",
    "version": 3
   },
   "file_extension": ".py",
   "mimetype": "text/x-python",
   "name": "python",
   "nbconvert_exporter": "python",
   "pygments_lexer": "ipython3",
   "version": "3.10.5"
  }
 },
 "nbformat": 4,
 "nbformat_minor": 5
}
