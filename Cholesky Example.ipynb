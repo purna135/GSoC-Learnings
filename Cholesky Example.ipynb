{
 "cells": [
  {
   "cell_type": "code",
   "execution_count": 1,
   "id": "42da1301",
   "metadata": {},
   "outputs": [],
   "source": [
    "import aesara.tensor as at\n",
    "import numpy as np"
   ]
  },
  {
   "cell_type": "code",
   "execution_count": 2,
   "id": "4b288438",
   "metadata": {},
   "outputs": [
    {
     "data": {
      "text/plain": [
       "array([[ 1.+0.j, -0.-2.j],\n",
       "       [ 0.+2.j,  5.+0.j]])"
      ]
     },
     "execution_count": 2,
     "metadata": {},
     "output_type": "execute_result"
    }
   ],
   "source": [
    "A = np.array([[1,-2j],[2j,5]])\n",
    "A"
   ]
  },
  {
   "cell_type": "code",
   "execution_count": 4,
   "id": "539bdf81",
   "metadata": {},
   "outputs": [
    {
     "data": {
      "text/plain": [
       "array([[1.+0.j, 0.+0.j],\n",
       "       [0.+2.j, 1.+0.j]])"
      ]
     },
     "execution_count": 4,
     "metadata": {},
     "output_type": "execute_result"
    }
   ],
   "source": [
    "L = at.nlinalg.cholesky(A).eval()\n",
    "L"
   ]
  },
  {
   "cell_type": "code",
   "execution_count": 5,
   "id": "26495629",
   "metadata": {},
   "outputs": [
    {
     "data": {
      "text/plain": [
       "array([[1.+0.j, 0.-2.j],\n",
       "       [0.+2.j, 5.+0.j]])"
      ]
     },
     "execution_count": 5,
     "metadata": {},
     "output_type": "execute_result"
    }
   ],
   "source": [
    "np.dot(L, L.T.conj()) # verify that L * L.H = A"
   ]
  },
  {
   "cell_type": "code",
   "execution_count": 6,
   "id": "6ed15e0f",
   "metadata": {},
   "outputs": [],
   "source": [
    "A = [[1,-2j],[2j,5]] # what happens if A is only array_like?"
   ]
  },
  {
   "cell_type": "code",
   "execution_count": 7,
   "id": "3656608b",
   "metadata": {},
   "outputs": [
    {
     "data": {
      "text/plain": [
       "array([[1.+0.j, 0.+0.j],\n",
       "       [0.+2.j, 1.+0.j]])"
      ]
     },
     "execution_count": 7,
     "metadata": {},
     "output_type": "execute_result"
    }
   ],
   "source": [
    "at.nlinalg.cholesky(A).eval() # an ndarray object is returned"
   ]
  },
  {
   "cell_type": "code",
   "execution_count": 8,
   "id": "4e7e2993",
   "metadata": {},
   "outputs": [
    {
     "data": {
      "text/plain": [
       "matrix([[1.+0.j, 0.+0.j],\n",
       "        [0.+2.j, 1.+0.j]])"
      ]
     },
     "execution_count": 8,
     "metadata": {},
     "output_type": "execute_result"
    }
   ],
   "source": [
    "# But a matrix object is returned if A is a matrix object\n",
    "at.nlinalg.cholesky(np.matrix(A)).eval()"
   ]
  },
  {
   "cell_type": "code",
   "execution_count": null,
   "id": "6917ad84",
   "metadata": {},
   "outputs": [],
   "source": []
  }
 ],
 "metadata": {
  "kernelspec": {
   "display_name": "Python 3 (ipykernel)",
   "language": "python",
   "name": "python3"
  },
  "language_info": {
   "codemirror_mode": {
    "name": "ipython",
    "version": 3
   },
   "file_extension": ".py",
   "mimetype": "text/x-python",
   "name": "python",
   "nbconvert_exporter": "python",
   "pygments_lexer": "ipython3",
   "version": "3.10.5"
  }
 },
 "nbformat": 4,
 "nbformat_minor": 5
}
