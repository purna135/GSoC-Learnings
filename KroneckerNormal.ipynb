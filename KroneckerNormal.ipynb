{
 "cells": [
  {
   "cell_type": "code",
   "execution_count": 1,
   "id": "47c13ebc",
   "metadata": {},
   "outputs": [],
   "source": [
    "import pymc as pm\n",
    "import numpy as np"
   ]
  },
  {
   "cell_type": "code",
   "execution_count": 3,
   "id": "f3c7377b",
   "metadata": {},
   "outputs": [],
   "source": [
    "# Parameters\n",
    "#     ----------\n",
    "#     mu: array\n",
    "#         Vector of means, just as in `MvNormal`.\n",
    "#     covs: list of arrays\n",
    "#         The set of covariance matrices :math:`[K_1, K_2, ...]` to be\n",
    "#         Kroneckered in the order provided :math:`\\bigotimes K_i`.\n",
    "#     chols: list of arrays\n",
    "#         The set of lower cholesky matrices :math:`[L_1, L_2, ...]` such that\n",
    "#         :math:`K_i = L_i L_i'`.\n",
    "#     evds: list of tuples\n",
    "#         The set of eigenvalue-vector, eigenvector-matrix pairs\n",
    "#         :math:`[(v_1, Q_1), (v_2, Q_2), ...]` such that\n",
    "#         :math:`K_i = Q_i \\text{diag}(v_i) Q_i'`. For example::\n",
    "\n",
    "#             v_i, Q_i = at.nlinalg.eigh(K_i)\n",
    "\n",
    "#     sigma: scalar, variable\n",
    "#         Standard deviation of the Gaussian white noise."
   ]
  },
  {
   "cell_type": "code",
   "execution_count": 15,
   "id": "ceab6dd5",
   "metadata": {},
   "outputs": [
    {
     "data": {
      "text/plain": [
       "kroneckernormal_rv{1, (1, 0, 2), floatX, False}.out"
      ]
     },
     "execution_count": 15,
     "metadata": {},
     "output_type": "execute_result"
    }
   ],
   "source": [
    "K1 = np.array([[1., 0.5, 1.0], [0.5, 2, 10.0]])\n",
    "K2 = np.array([[1., 0.4, 0.2], [0.4, 2, 0.3], [0.2, 0.3, 1]])\n",
    "covs = [K1, K2, K1, K2]\n",
    "\n",
    "pm.KroneckerNormal.dist(mu=np.zeros(6), covs=covs)"
   ]
  },
  {
   "cell_type": "code",
   "execution_count": 19,
   "id": "99b1de3b",
   "metadata": {},
   "outputs": [
    {
     "data": {
      "text/plain": [
       "kroneckernormal_rv{1, (1, 0, 2), floatX, False}.out"
      ]
     },
     "execution_count": 19,
     "metadata": {},
     "output_type": "execute_result"
    }
   ],
   "source": [
    "pm.KroneckerNormal.dist(mu=np.zeros(6), covs=covs)"
   ]
  },
  {
   "cell_type": "code",
   "execution_count": 20,
   "id": "9b0e2c4a",
   "metadata": {},
   "outputs": [
    {
     "data": {
      "text/plain": [
       "kroneckernormal_rv{1, (1, 0, 2), floatX, False}.out"
      ]
     },
     "execution_count": 20,
     "metadata": {},
     "output_type": "execute_result"
    }
   ],
   "source": [
    "pm.KroneckerNormal.dist(mu=np.zeros(6), chols=covs)"
   ]
  },
  {
   "cell_type": "code",
   "execution_count": 22,
   "id": "331463aa",
   "metadata": {},
   "outputs": [
    {
     "data": {
      "text/plain": [
       "[array([[ 1. ,  0.5,  1. ],\n",
       "        [ 0.5,  2. , 10. ]]),\n",
       " array([[1. , 0.4, 0.2],\n",
       "        [0.4, 2. , 0.3],\n",
       "        [0.2, 0.3, 1. ]]),\n",
       " array([[ 1. ,  0.5,  1. ],\n",
       "        [ 0.5,  2. , 10. ]]),\n",
       " array([[1. , 0.4, 0.2],\n",
       "        [0.4, 2. , 0.3],\n",
       "        [0.2, 0.3, 1. ]])]"
      ]
     },
     "execution_count": 22,
     "metadata": {},
     "output_type": "execute_result"
    }
   ],
   "source": [
    "covs"
   ]
  },
  {
   "cell_type": "code",
   "execution_count": null,
   "id": "de5483db",
   "metadata": {},
   "outputs": [],
   "source": []
  }
 ],
 "metadata": {
  "kernelspec": {
   "display_name": "Python 3 (ipykernel)",
   "language": "python",
   "name": "python3"
  },
  "language_info": {
   "codemirror_mode": {
    "name": "ipython",
    "version": 3
   },
   "file_extension": ".py",
   "mimetype": "text/x-python",
   "name": "python",
   "nbconvert_exporter": "python",
   "pygments_lexer": "ipython3",
   "version": "3.8.13"
  }
 },
 "nbformat": 4,
 "nbformat_minor": 5
}
