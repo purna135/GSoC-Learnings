{
 "cells": [
  {
   "cell_type": "code",
   "execution_count": 3,
   "id": "7967f549",
   "metadata": {},
   "outputs": [],
   "source": [
    "import pymc as pm\n",
    "import numpy as np"
   ]
  },
  {
   "cell_type": "code",
   "execution_count": 1,
   "id": "eef91b1a",
   "metadata": {},
   "outputs": [],
   "source": [
    "# Parameters\n",
    "#     ----------\n",
    "#     mu: array\n",
    "#         Array of means. Must be broadcastable with the random variable X such\n",
    "#         that the shape of mu + X is (m,n).\n",
    "#     rowcov: mxm array\n",
    "#         Among-row covariance matrix. Defines variance within\n",
    "#         columns. Exactly one of rowcov or rowchol is needed.\n",
    "#     rowchol: mxm array\n",
    "#         Cholesky decomposition of among-row covariance matrix. Exactly one of\n",
    "#         rowcov or rowchol is needed.\n",
    "#     colcov: nxn array\n",
    "#         Among-column covariance matrix. If rowcov is the identity matrix,\n",
    "#         this functions as `cov` in MvNormal.\n",
    "#         Exactly one of colcov or colchol is needed.\n",
    "#     colchol: nxn array\n",
    "#         Cholesky decomposition of among-column covariance matrix. Exactly one\n",
    "#         of colcov or colchol is needed."
   ]
  },
  {
   "cell_type": "code",
   "execution_count": 4,
   "id": "71f124a8",
   "metadata": {},
   "outputs": [],
   "source": [
    "colcov = np.array([[1., 0.5], [0.5, 2]])\n",
    "rowcov = np.array([[1, 0, 0], [0, 4, 0], [0, 0, 16]])"
   ]
  },
  {
   "cell_type": "code",
   "execution_count": 6,
   "id": "2ad54db7",
   "metadata": {},
   "outputs": [
    {
     "data": {
      "text/plain": [
       "(3, 2)"
      ]
     },
     "execution_count": 6,
     "metadata": {},
     "output_type": "execute_result"
    }
   ],
   "source": [
    "m = rowcov.shape[0]\n",
    "n = colcov.shape[0]\n",
    "\n",
    "m, n"
   ]
  },
  {
   "cell_type": "code",
   "execution_count": 7,
   "id": "296c6414",
   "metadata": {},
   "outputs": [
    {
     "data": {
      "text/plain": [
       "array([[0., 0.],\n",
       "       [0., 0.],\n",
       "       [0., 0.]])"
      ]
     },
     "execution_count": 7,
     "metadata": {},
     "output_type": "execute_result"
    }
   ],
   "source": [
    "mu = np.zeros((m, n))\n",
    "mu"
   ]
  },
  {
   "cell_type": "code",
   "execution_count": 10,
   "id": "d73a4b5d",
   "metadata": {},
   "outputs": [],
   "source": [
    "vals = pm.MatrixNormal.dist(mu=mu, colcov=colcov, rowcov=rowcov)"
   ]
  },
  {
   "cell_type": "code",
   "execution_count": 11,
   "id": "fdb3ff8a",
   "metadata": {},
   "outputs": [
    {
     "data": {
      "text/plain": [
       "matrixnormal_rv{2, (2, 2, 2), floatX, False}.out"
      ]
     },
     "execution_count": 11,
     "metadata": {},
     "output_type": "execute_result"
    }
   ],
   "source": [
    "vals"
   ]
  },
  {
   "cell_type": "code",
   "execution_count": 13,
   "id": "8bc2da30",
   "metadata": {},
   "outputs": [
    {
     "data": {
      "text/plain": [
       "array([[[1., 1.],\n",
       "        [1., 1.]],\n",
       "\n",
       "       [[1., 1.],\n",
       "        [1., 1.]]])"
      ]
     },
     "execution_count": 13,
     "metadata": {},
     "output_type": "execute_result"
    }
   ],
   "source": [
    "colcov = np.ones((2,2,2))\n",
    "colcov"
   ]
  },
  {
   "cell_type": "code",
   "execution_count": 14,
   "id": "8211cf98",
   "metadata": {},
   "outputs": [
    {
     "data": {
      "text/plain": [
       "array([[[1., 1., 1.],\n",
       "        [1., 1., 1.],\n",
       "        [1., 1., 1.]],\n",
       "\n",
       "       [[1., 1., 1.],\n",
       "        [1., 1., 1.],\n",
       "        [1., 1., 1.]],\n",
       "\n",
       "       [[1., 1., 1.],\n",
       "        [1., 1., 1.],\n",
       "        [1., 1., 1.]]])"
      ]
     },
     "execution_count": 14,
     "metadata": {},
     "output_type": "execute_result"
    }
   ],
   "source": [
    "rowcov = np.ones((3,3,3))\n",
    "rowcov"
   ]
  },
  {
   "cell_type": "code",
   "execution_count": 15,
   "id": "05939677",
   "metadata": {},
   "outputs": [
    {
     "data": {
      "text/plain": [
       "array([[0., 0.],\n",
       "       [0., 0.],\n",
       "       [0., 0.]])"
      ]
     },
     "execution_count": 15,
     "metadata": {},
     "output_type": "execute_result"
    }
   ],
   "source": [
    "mu = np.zeros((3, 2))\n",
    "mu"
   ]
  },
  {
   "cell_type": "code",
   "execution_count": 16,
   "id": "97d882b9",
   "metadata": {},
   "outputs": [
    {
     "ename": "ValueError",
     "evalue": "rowcov must be two dimensional.",
     "output_type": "error",
     "traceback": [
      "\u001b[1;31m---------------------------------------------------------------------------\u001b[0m",
      "\u001b[1;31mValueError\u001b[0m                                Traceback (most recent call last)",
      "Input \u001b[1;32mIn [16]\u001b[0m, in \u001b[0;36m<cell line: 1>\u001b[1;34m()\u001b[0m\n\u001b[1;32m----> 1\u001b[0m \u001b[43mpm\u001b[49m\u001b[38;5;241;43m.\u001b[39;49m\u001b[43mMatrixNormal\u001b[49m\u001b[38;5;241;43m.\u001b[39;49m\u001b[43mdist\u001b[49m\u001b[43m(\u001b[49m\u001b[43mmu\u001b[49m\u001b[38;5;241;43m=\u001b[39;49m\u001b[43mmu\u001b[49m\u001b[43m,\u001b[49m\u001b[43m \u001b[49m\u001b[43mcolcov\u001b[49m\u001b[38;5;241;43m=\u001b[39;49m\u001b[43mcolcov\u001b[49m\u001b[43m,\u001b[49m\u001b[43m \u001b[49m\u001b[43mrowcov\u001b[49m\u001b[38;5;241;43m=\u001b[39;49m\u001b[43mrowcov\u001b[49m\u001b[43m)\u001b[49m\n",
      "File \u001b[1;32md:\\opensource\\pymc\\pymc\\distributions\\multivariate.py:1743\u001b[0m, in \u001b[0;36mMatrixNormal.dist\u001b[1;34m(cls, mu, rowcov, rowchol, colcov, colchol, *args, **kwargs)\u001b[0m\n\u001b[0;32m   1741\u001b[0m \u001b[38;5;28;01mif\u001b[39;00m rowcov \u001b[38;5;129;01mis\u001b[39;00m \u001b[38;5;129;01mnot\u001b[39;00m \u001b[38;5;28;01mNone\u001b[39;00m:\n\u001b[0;32m   1742\u001b[0m     \u001b[38;5;28;01mif\u001b[39;00m rowcov\u001b[38;5;241m.\u001b[39mndim \u001b[38;5;241m!=\u001b[39m \u001b[38;5;241m2\u001b[39m:\n\u001b[1;32m-> 1743\u001b[0m         \u001b[38;5;28;01mraise\u001b[39;00m \u001b[38;5;167;01mValueError\u001b[39;00m(\u001b[38;5;124m\"\u001b[39m\u001b[38;5;124mrowcov must be two dimensional.\u001b[39m\u001b[38;5;124m\"\u001b[39m)\n\u001b[0;32m   1744\u001b[0m     rowchol_cov \u001b[38;5;241m=\u001b[39m cholesky(rowcov)\n\u001b[0;32m   1745\u001b[0m \u001b[38;5;28;01melse\u001b[39;00m:\n",
      "\u001b[1;31mValueError\u001b[0m: rowcov must be two dimensional."
     ]
    }
   ],
   "source": [
    "pm.MatrixNormal.dist(mu=mu, colcov=colcov, rowcov=rowcov)"
   ]
  },
  {
   "cell_type": "code",
   "execution_count": null,
   "id": "62ba411f",
   "metadata": {},
   "outputs": [],
   "source": []
  }
 ],
 "metadata": {
  "kernelspec": {
   "display_name": "Python 3 (ipykernel)",
   "language": "python",
   "name": "python3"
  },
  "language_info": {
   "codemirror_mode": {
    "name": "ipython",
    "version": 3
   },
   "file_extension": ".py",
   "mimetype": "text/x-python",
   "name": "python",
   "nbconvert_exporter": "python",
   "pygments_lexer": "ipython3",
   "version": "3.8.13"
  }
 },
 "nbformat": 4,
 "nbformat_minor": 5
}
