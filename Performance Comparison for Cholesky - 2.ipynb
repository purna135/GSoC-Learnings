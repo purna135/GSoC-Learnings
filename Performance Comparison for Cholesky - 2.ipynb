{
 "cells": [
  {
   "cell_type": "code",
   "execution_count": 1,
   "id": "26f4e47b",
   "metadata": {},
   "outputs": [
    {
     "name": "stdout",
     "output_type": "stream",
     "text": [
      "WARN: Could not locate executable g77\n",
      "WARN: Could not locate executable f77\n",
      "WARN: Could not locate executable ifort\n",
      "WARN: Could not locate executable ifl\n",
      "WARN: Could not locate executable f90\n",
      "WARN: Could not locate executable DF\n",
      "WARN: Could not locate executable efl\n"
     ]
    }
   ],
   "source": [
    "import aesara\n",
    "import aesara.tensor as at\n",
    "import numpy as np\n",
    "import scipy as sp"
   ]
  },
  {
   "cell_type": "markdown",
   "id": "8c15efb8",
   "metadata": {},
   "source": [
    "### Data preparation"
   ]
  },
  {
   "cell_type": "code",
   "execution_count": 2,
   "id": "0c058751",
   "metadata": {},
   "outputs": [],
   "source": [
    "# data_2d = np.full((100, 100), np.eye(100))\n",
    "data_3d = np.full((200, 100, 100), np.eye(100))\n",
    "data_4d = np.full((50, 100, 100, 100), np.eye(100))\n",
    "data_5d = np.array([data_4d, data_4d])\n",
    "data_6d = np.array([data_5d, data_5d])\n",
    "data_7d = np.array([data_6d, data_6d])"
   ]
  },
  {
   "cell_type": "markdown",
   "id": "118a0f60",
   "metadata": {},
   "source": [
    "### Calculating memory size of diff data"
   ]
  },
  {
   "cell_type": "code",
   "execution_count": 3,
   "id": "52e4f588",
   "metadata": {},
   "outputs": [],
   "source": [
    "from sys import getsizeof\n",
    "\n",
    "g = globals()\n",
    "data = []\n",
    "\n",
    "for i in range(3,8):\n",
    "    data_name = 'data_{}d'.format(i)\n",
    "    data_nd = g[data_name].ndim\n",
    "    data_size = g[data_name].size\n",
    "    data_MB = round(getsizeof(g[data_name]) / 1024 / 1024, 2)\n",
    "    data.append([data_nd, data_size, data_MB])"
   ]
  },
  {
   "cell_type": "code",
   "execution_count": 4,
   "id": "fae5eed3",
   "metadata": {},
   "outputs": [
    {
     "data": {
      "text/html": [
       "<div>\n",
       "<style scoped>\n",
       "    .dataframe tbody tr th:only-of-type {\n",
       "        vertical-align: middle;\n",
       "    }\n",
       "\n",
       "    .dataframe tbody tr th {\n",
       "        vertical-align: top;\n",
       "    }\n",
       "\n",
       "    .dataframe thead th {\n",
       "        text-align: right;\n",
       "    }\n",
       "</style>\n",
       "<table border=\"1\" class=\"dataframe\">\n",
       "  <thead>\n",
       "    <tr style=\"text-align: right;\">\n",
       "      <th></th>\n",
       "      <th>N-dims</th>\n",
       "      <th>Number of Elements</th>\n",
       "      <th>Memory Size(in MB)</th>\n",
       "    </tr>\n",
       "  </thead>\n",
       "  <tbody>\n",
       "    <tr>\n",
       "      <th>0</th>\n",
       "      <td>3</td>\n",
       "      <td>2000000</td>\n",
       "      <td>15.26</td>\n",
       "    </tr>\n",
       "    <tr>\n",
       "      <th>1</th>\n",
       "      <td>4</td>\n",
       "      <td>50000000</td>\n",
       "      <td>381.47</td>\n",
       "    </tr>\n",
       "    <tr>\n",
       "      <th>2</th>\n",
       "      <td>5</td>\n",
       "      <td>100000000</td>\n",
       "      <td>762.94</td>\n",
       "    </tr>\n",
       "    <tr>\n",
       "      <th>3</th>\n",
       "      <td>6</td>\n",
       "      <td>200000000</td>\n",
       "      <td>1525.88</td>\n",
       "    </tr>\n",
       "    <tr>\n",
       "      <th>4</th>\n",
       "      <td>7</td>\n",
       "      <td>400000000</td>\n",
       "      <td>3051.76</td>\n",
       "    </tr>\n",
       "  </tbody>\n",
       "</table>\n",
       "</div>"
      ],
      "text/plain": [
       "   N-dims  Number of Elements  Memory Size(in MB)\n",
       "0       3             2000000               15.26\n",
       "1       4            50000000              381.47\n",
       "2       5           100000000              762.94\n",
       "3       6           200000000             1525.88\n",
       "4       7           400000000             3051.76"
      ]
     },
     "execution_count": 4,
     "metadata": {},
     "output_type": "execute_result"
    }
   ],
   "source": [
    "import pandas as pd\n",
    "df = pd.DataFrame(data, columns=['N-dims', 'Number of Elements', 'Memory Size(in MB)'])\n",
    "df"
   ]
  },
  {
   "cell_type": "markdown",
   "id": "8e039daf",
   "metadata": {},
   "source": [
    "### Time for Aesara-Scipy with Vectorization"
   ]
  },
  {
   "cell_type": "code",
   "execution_count": 65,
   "id": "4a3874e2",
   "metadata": {},
   "outputs": [
    {
     "name": "stdout",
     "output_type": "stream",
     "text": [
      "123 ms ± 1.23 ms per loop (mean ± std. dev. of 7 runs, 10 loops each)\n"
     ]
    }
   ],
   "source": [
    "%%timeit\n",
    "x = at.tensor3()\n",
    "f = aesara.function([x], at.linalg.cholesky(x))\n",
    "f(data_3d)"
   ]
  },
  {
   "cell_type": "markdown",
   "id": "085f8194",
   "metadata": {},
   "source": [
    "### Time for Aesara-Numpy implementation"
   ]
  },
  {
   "cell_type": "code",
   "execution_count": 64,
   "id": "0adbf324",
   "metadata": {},
   "outputs": [
    {
     "name": "stdout",
     "output_type": "stream",
     "text": [
      "111 ms ± 1.61 ms per loop (mean ± std. dev. of 7 runs, 10 loops each)\n"
     ]
    }
   ],
   "source": [
    "%%timeit\n",
    "x = at.tensor3()\n",
    "f = aesara.function([x], at.linalg.cholesky_np(x))\n",
    "f(data_3d)"
   ]
  },
  {
   "cell_type": "code",
   "execution_count": 7,
   "id": "3f0c81d4",
   "metadata": {},
   "outputs": [],
   "source": [
    "import time\n",
    "from tqdm import tqdm"
   ]
  },
  {
   "cell_type": "markdown",
   "id": "f975cabe",
   "metadata": {},
   "source": [
    "### Time for Numpy Cholesky Method"
   ]
  },
  {
   "cell_type": "code",
   "execution_count": 8,
   "id": "3f2e5721",
   "metadata": {},
   "outputs": [],
   "source": [
    "# g = globals()\n",
    "# run_time = []\n",
    "\n",
    "# for i in range(2,8):\n",
    "#     data_name = 'data_{}d'.format(i)\n",
    "#     data = g[data_name]\n",
    "#     start = time.time()\n",
    "    \n",
    "#     np.linalg.cholesky(data)\n",
    "\n",
    "#     end = time.time()\n",
    "#     run_time.append(round((end - start), 6))\n",
    "\n",
    "\n",
    "# df[\"Numpy_Runtime\"] = run_time\n",
    "# df"
   ]
  },
  {
   "cell_type": "markdown",
   "id": "0969ca21",
   "metadata": {},
   "source": [
    "### Time for Scipy Cholesky Method"
   ]
  },
  {
   "cell_type": "code",
   "execution_count": 9,
   "id": "7eb72ed2",
   "metadata": {},
   "outputs": [],
   "source": [
    "# g = globals()\n",
    "# run_time = []\n",
    "\n",
    "# vfunc = np.vectorize(sp.linalg.cholesky, excluded=['lower'], signature=\"(m,m)->(m,m)\", otypes=[data_2d.dtype])\n",
    "\n",
    "# for i in range(2,8):\n",
    "#     data_name = 'data_{}d'.format(i)\n",
    "#     data = g[data_name]\n",
    "#     start = time.time()\n",
    "    \n",
    "#     vfunc(data, lower=True)\n",
    "\n",
    "#     end = time.time()\n",
    "#     run_time.append(round((end - start), 6))\n",
    "\n",
    "\n",
    "# df[\"Scipy_Runtime\"] = run_time\n",
    "# df"
   ]
  },
  {
   "cell_type": "markdown",
   "id": "8fc900ef",
   "metadata": {},
   "source": [
    "### Time for Aesara-Scipy Cholesky Method with vectorization"
   ]
  },
  {
   "cell_type": "code",
   "execution_count": 10,
   "id": "bd3de604",
   "metadata": {},
   "outputs": [],
   "source": [
    "tensor3 = at.tensor3()\n",
    "tensor4 = at.tensor4()\n",
    "tensor5 = at.tensor5()\n",
    "tensor6 = at.tensor6()\n",
    "tensor7 = at.tensor7()"
   ]
  },
  {
   "cell_type": "code",
   "execution_count": 13,
   "id": "cc3de795",
   "metadata": {},
   "outputs": [],
   "source": [
    "atsp_data = pd.DataFrame()"
   ]
  },
  {
   "cell_type": "code",
   "execution_count": 26,
   "id": "5efa4d72",
   "metadata": {},
   "outputs": [
    {
     "name": "stderr",
     "output_type": "stream",
     "text": [
      "100%|██████████████████████████████████████████████████████| 5/5 [01:15<00:00, 15.04s/it]\n"
     ]
    },
    {
     "data": {
      "text/html": [
       "<div>\n",
       "<style scoped>\n",
       "    .dataframe tbody tr th:only-of-type {\n",
       "        vertical-align: middle;\n",
       "    }\n",
       "\n",
       "    .dataframe tbody tr th {\n",
       "        vertical-align: top;\n",
       "    }\n",
       "\n",
       "    .dataframe thead th {\n",
       "        text-align: right;\n",
       "    }\n",
       "</style>\n",
       "<table border=\"1\" class=\"dataframe\">\n",
       "  <thead>\n",
       "    <tr style=\"text-align: right;\">\n",
       "      <th></th>\n",
       "      <th>Aesara_Sp_1</th>\n",
       "      <th>Aesara_Sp_2</th>\n",
       "      <th>Aesara_Sp_3</th>\n",
       "      <th>Aesara_Sp_4</th>\n",
       "      <th>Aesara_Sp_5</th>\n",
       "      <th>Aesara_Sp_6</th>\n",
       "      <th>Aesara_Sp_7</th>\n",
       "      <th>Aesara_Sp_8</th>\n",
       "      <th>Aesara_Sp_10</th>\n",
       "    </tr>\n",
       "  </thead>\n",
       "  <tbody>\n",
       "    <tr>\n",
       "      <th>0</th>\n",
       "      <td>0.157120</td>\n",
       "      <td>0.141869</td>\n",
       "      <td>0.141189</td>\n",
       "      <td>0.151241</td>\n",
       "      <td>0.141454</td>\n",
       "      <td>0.153239</td>\n",
       "      <td>0.141901</td>\n",
       "      <td>0.154533</td>\n",
       "      <td>0.179561</td>\n",
       "    </tr>\n",
       "    <tr>\n",
       "      <th>1</th>\n",
       "      <td>3.872295</td>\n",
       "      <td>4.184820</td>\n",
       "      <td>3.791777</td>\n",
       "      <td>3.907729</td>\n",
       "      <td>3.801128</td>\n",
       "      <td>3.854743</td>\n",
       "      <td>3.893926</td>\n",
       "      <td>3.912433</td>\n",
       "      <td>3.945729</td>\n",
       "    </tr>\n",
       "    <tr>\n",
       "      <th>2</th>\n",
       "      <td>10.421151</td>\n",
       "      <td>9.302095</td>\n",
       "      <td>9.810571</td>\n",
       "      <td>9.481454</td>\n",
       "      <td>9.046495</td>\n",
       "      <td>8.628669</td>\n",
       "      <td>7.672774</td>\n",
       "      <td>7.966749</td>\n",
       "      <td>9.420361</td>\n",
       "    </tr>\n",
       "    <tr>\n",
       "      <th>3</th>\n",
       "      <td>21.456084</td>\n",
       "      <td>20.973817</td>\n",
       "      <td>20.978785</td>\n",
       "      <td>22.154625</td>\n",
       "      <td>22.727624</td>\n",
       "      <td>21.552624</td>\n",
       "      <td>21.290703</td>\n",
       "      <td>22.786994</td>\n",
       "      <td>22.694309</td>\n",
       "    </tr>\n",
       "    <tr>\n",
       "      <th>4</th>\n",
       "      <td>43.707402</td>\n",
       "      <td>45.488189</td>\n",
       "      <td>45.693683</td>\n",
       "      <td>43.933083</td>\n",
       "      <td>43.066843</td>\n",
       "      <td>45.753921</td>\n",
       "      <td>42.958269</td>\n",
       "      <td>37.987820</td>\n",
       "      <td>38.530275</td>\n",
       "    </tr>\n",
       "  </tbody>\n",
       "</table>\n",
       "</div>"
      ],
      "text/plain": [
       "   Aesara_Sp_1  Aesara_Sp_2  Aesara_Sp_3  Aesara_Sp_4  Aesara_Sp_5  \\\n",
       "0     0.157120     0.141869     0.141189     0.151241     0.141454   \n",
       "1     3.872295     4.184820     3.791777     3.907729     3.801128   \n",
       "2    10.421151     9.302095     9.810571     9.481454     9.046495   \n",
       "3    21.456084    20.973817    20.978785    22.154625    22.727624   \n",
       "4    43.707402    45.488189    45.693683    43.933083    43.066843   \n",
       "\n",
       "   Aesara_Sp_6  Aesara_Sp_7  Aesara_Sp_8  Aesara_Sp_10  \n",
       "0     0.153239     0.141901     0.154533      0.179561  \n",
       "1     3.854743     3.893926     3.912433      3.945729  \n",
       "2     8.628669     7.672774     7.966749      9.420361  \n",
       "3    21.552624    21.290703    22.786994     22.694309  \n",
       "4    45.753921    42.958269    37.987820     38.530275  "
      ]
     },
     "execution_count": 26,
     "metadata": {},
     "output_type": "execute_result"
    }
   ],
   "source": [
    "g = globals()\n",
    "run_time = []\n",
    "iteration = 10\n",
    "\n",
    "for i in tqdm(range(3,8)):\n",
    "    data = g['data_{}d'.format(i)]\n",
    "    tensor = g['tensor{}'.format(i)]\n",
    "    \n",
    "    f = aesara.function([tensor], at.linalg.cholesky(tensor))\n",
    "    \n",
    "    start = time.time()\n",
    "    f(data)\n",
    "    end = time.time()\n",
    "    \n",
    "    run_time.append(round((end - start), 6))\n",
    "\n",
    "\n",
    "atsp_data[\"Aesara_Sp_\"+str(iteration)] = run_time\n",
    "atsp_data"
   ]
  },
  {
   "cell_type": "code",
   "execution_count": 30,
   "id": "c2b2f501",
   "metadata": {},
   "outputs": [],
   "source": [
    "atsp_data[\"Aesara_Sp_AvgTime\"] = atsp_data.mean(axis=1)"
   ]
  },
  {
   "cell_type": "code",
   "execution_count": 31,
   "id": "62927db1",
   "metadata": {},
   "outputs": [
    {
     "data": {
      "text/html": [
       "<div>\n",
       "<style scoped>\n",
       "    .dataframe tbody tr th:only-of-type {\n",
       "        vertical-align: middle;\n",
       "    }\n",
       "\n",
       "    .dataframe tbody tr th {\n",
       "        vertical-align: top;\n",
       "    }\n",
       "\n",
       "    .dataframe thead th {\n",
       "        text-align: right;\n",
       "    }\n",
       "</style>\n",
       "<table border=\"1\" class=\"dataframe\">\n",
       "  <thead>\n",
       "    <tr style=\"text-align: right;\">\n",
       "      <th></th>\n",
       "      <th>Aesara_Sp_1</th>\n",
       "      <th>Aesara_Sp_2</th>\n",
       "      <th>Aesara_Sp_3</th>\n",
       "      <th>Aesara_Sp_4</th>\n",
       "      <th>Aesara_Sp_5</th>\n",
       "      <th>Aesara_Sp_6</th>\n",
       "      <th>Aesara_Sp_7</th>\n",
       "      <th>Aesara_Sp_8</th>\n",
       "      <th>Aesara_Sp_10</th>\n",
       "      <th>Aesara_Sp_AvgTime</th>\n",
       "    </tr>\n",
       "  </thead>\n",
       "  <tbody>\n",
       "    <tr>\n",
       "      <th>0</th>\n",
       "      <td>0.157120</td>\n",
       "      <td>0.141869</td>\n",
       "      <td>0.141189</td>\n",
       "      <td>0.151241</td>\n",
       "      <td>0.141454</td>\n",
       "      <td>0.153239</td>\n",
       "      <td>0.141901</td>\n",
       "      <td>0.154533</td>\n",
       "      <td>0.179561</td>\n",
       "      <td>0.151345</td>\n",
       "    </tr>\n",
       "    <tr>\n",
       "      <th>1</th>\n",
       "      <td>3.872295</td>\n",
       "      <td>4.184820</td>\n",
       "      <td>3.791777</td>\n",
       "      <td>3.907729</td>\n",
       "      <td>3.801128</td>\n",
       "      <td>3.854743</td>\n",
       "      <td>3.893926</td>\n",
       "      <td>3.912433</td>\n",
       "      <td>3.945729</td>\n",
       "      <td>3.907176</td>\n",
       "    </tr>\n",
       "    <tr>\n",
       "      <th>2</th>\n",
       "      <td>10.421151</td>\n",
       "      <td>9.302095</td>\n",
       "      <td>9.810571</td>\n",
       "      <td>9.481454</td>\n",
       "      <td>9.046495</td>\n",
       "      <td>8.628669</td>\n",
       "      <td>7.672774</td>\n",
       "      <td>7.966749</td>\n",
       "      <td>9.420361</td>\n",
       "      <td>9.083369</td>\n",
       "    </tr>\n",
       "    <tr>\n",
       "      <th>3</th>\n",
       "      <td>21.456084</td>\n",
       "      <td>20.973817</td>\n",
       "      <td>20.978785</td>\n",
       "      <td>22.154625</td>\n",
       "      <td>22.727624</td>\n",
       "      <td>21.552624</td>\n",
       "      <td>21.290703</td>\n",
       "      <td>22.786994</td>\n",
       "      <td>22.694309</td>\n",
       "      <td>21.846174</td>\n",
       "    </tr>\n",
       "    <tr>\n",
       "      <th>4</th>\n",
       "      <td>43.707402</td>\n",
       "      <td>45.488189</td>\n",
       "      <td>45.693683</td>\n",
       "      <td>43.933083</td>\n",
       "      <td>43.066843</td>\n",
       "      <td>45.753921</td>\n",
       "      <td>42.958269</td>\n",
       "      <td>37.987820</td>\n",
       "      <td>38.530275</td>\n",
       "      <td>43.013276</td>\n",
       "    </tr>\n",
       "  </tbody>\n",
       "</table>\n",
       "</div>"
      ],
      "text/plain": [
       "   Aesara_Sp_1  Aesara_Sp_2  Aesara_Sp_3  Aesara_Sp_4  Aesara_Sp_5  \\\n",
       "0     0.157120     0.141869     0.141189     0.151241     0.141454   \n",
       "1     3.872295     4.184820     3.791777     3.907729     3.801128   \n",
       "2    10.421151     9.302095     9.810571     9.481454     9.046495   \n",
       "3    21.456084    20.973817    20.978785    22.154625    22.727624   \n",
       "4    43.707402    45.488189    45.693683    43.933083    43.066843   \n",
       "\n",
       "   Aesara_Sp_6  Aesara_Sp_7  Aesara_Sp_8  Aesara_Sp_10  Aesara_Sp_AvgTime  \n",
       "0     0.153239     0.141901     0.154533      0.179561           0.151345  \n",
       "1     3.854743     3.893926     3.912433      3.945729           3.907176  \n",
       "2     8.628669     7.672774     7.966749      9.420361           9.083369  \n",
       "3    21.552624    21.290703    22.786994     22.694309          21.846174  \n",
       "4    45.753921    42.958269    37.987820     38.530275          43.013276  "
      ]
     },
     "execution_count": 31,
     "metadata": {},
     "output_type": "execute_result"
    }
   ],
   "source": [
    "atsp_data"
   ]
  },
  {
   "cell_type": "code",
   "execution_count": 32,
   "id": "53b6c56a",
   "metadata": {},
   "outputs": [],
   "source": [
    "atsp_data.to_csv(\"Aesara_Scipy_data.csv\", index = False)"
   ]
  },
  {
   "cell_type": "markdown",
   "id": "de8b8099",
   "metadata": {},
   "source": [
    "### Time for Aesara-Numpy implementation of Cholesky Method"
   ]
  },
  {
   "cell_type": "code",
   "execution_count": 34,
   "id": "912bf4a6",
   "metadata": {},
   "outputs": [],
   "source": [
    "atnp_data = pd.DataFrame()"
   ]
  },
  {
   "cell_type": "code",
   "execution_count": 44,
   "id": "e44e76c3",
   "metadata": {},
   "outputs": [
    {
     "name": "stderr",
     "output_type": "stream",
     "text": [
      "100%|██████████████████████████████████████████████████████| 5/5 [01:35<00:00, 19.16s/it]\n"
     ]
    },
    {
     "data": {
      "text/html": [
       "<div>\n",
       "<style scoped>\n",
       "    .dataframe tbody tr th:only-of-type {\n",
       "        vertical-align: middle;\n",
       "    }\n",
       "\n",
       "    .dataframe tbody tr th {\n",
       "        vertical-align: top;\n",
       "    }\n",
       "\n",
       "    .dataframe thead th {\n",
       "        text-align: right;\n",
       "    }\n",
       "</style>\n",
       "<table border=\"1\" class=\"dataframe\">\n",
       "  <thead>\n",
       "    <tr style=\"text-align: right;\">\n",
       "      <th></th>\n",
       "      <th>Aesara_Np_1</th>\n",
       "      <th>Aesara_Np_2</th>\n",
       "      <th>Aesara_Np_3</th>\n",
       "      <th>Aesara_Np_4</th>\n",
       "      <th>Aesara_Np_5</th>\n",
       "      <th>Aesara_Np_6</th>\n",
       "      <th>Aesara_Np_7</th>\n",
       "      <th>Aesara_Np_8</th>\n",
       "      <th>Aesara_Np_9</th>\n",
       "      <th>Aesara_Np_10</th>\n",
       "    </tr>\n",
       "  </thead>\n",
       "  <tbody>\n",
       "    <tr>\n",
       "      <th>0</th>\n",
       "      <td>0.171424</td>\n",
       "      <td>0.187493</td>\n",
       "      <td>0.155227</td>\n",
       "      <td>0.187492</td>\n",
       "      <td>0.187490</td>\n",
       "      <td>0.178639</td>\n",
       "      <td>0.171867</td>\n",
       "      <td>0.155275</td>\n",
       "      <td>0.181354</td>\n",
       "      <td>0.179485</td>\n",
       "    </tr>\n",
       "    <tr>\n",
       "      <th>1</th>\n",
       "      <td>3.133612</td>\n",
       "      <td>3.229296</td>\n",
       "      <td>3.814178</td>\n",
       "      <td>3.251079</td>\n",
       "      <td>3.269091</td>\n",
       "      <td>3.280945</td>\n",
       "      <td>3.343984</td>\n",
       "      <td>3.294325</td>\n",
       "      <td>3.305427</td>\n",
       "      <td>3.397698</td>\n",
       "    </tr>\n",
       "    <tr>\n",
       "      <th>2</th>\n",
       "      <td>8.137761</td>\n",
       "      <td>7.025300</td>\n",
       "      <td>7.047528</td>\n",
       "      <td>6.577452</td>\n",
       "      <td>8.631558</td>\n",
       "      <td>7.610994</td>\n",
       "      <td>6.629446</td>\n",
       "      <td>6.957070</td>\n",
       "      <td>7.231911</td>\n",
       "      <td>7.144545</td>\n",
       "    </tr>\n",
       "    <tr>\n",
       "      <th>3</th>\n",
       "      <td>24.165784</td>\n",
       "      <td>24.177836</td>\n",
       "      <td>26.678037</td>\n",
       "      <td>24.651629</td>\n",
       "      <td>24.312081</td>\n",
       "      <td>23.974734</td>\n",
       "      <td>25.462883</td>\n",
       "      <td>24.732027</td>\n",
       "      <td>24.355236</td>\n",
       "      <td>23.293223</td>\n",
       "    </tr>\n",
       "    <tr>\n",
       "      <th>4</th>\n",
       "      <td>59.410381</td>\n",
       "      <td>59.684021</td>\n",
       "      <td>58.479463</td>\n",
       "      <td>59.860694</td>\n",
       "      <td>61.295057</td>\n",
       "      <td>65.292163</td>\n",
       "      <td>57.849448</td>\n",
       "      <td>59.450348</td>\n",
       "      <td>59.857888</td>\n",
       "      <td>61.370725</td>\n",
       "    </tr>\n",
       "  </tbody>\n",
       "</table>\n",
       "</div>"
      ],
      "text/plain": [
       "   Aesara_Np_1  Aesara_Np_2  Aesara_Np_3  Aesara_Np_4  Aesara_Np_5  \\\n",
       "0     0.171424     0.187493     0.155227     0.187492     0.187490   \n",
       "1     3.133612     3.229296     3.814178     3.251079     3.269091   \n",
       "2     8.137761     7.025300     7.047528     6.577452     8.631558   \n",
       "3    24.165784    24.177836    26.678037    24.651629    24.312081   \n",
       "4    59.410381    59.684021    58.479463    59.860694    61.295057   \n",
       "\n",
       "   Aesara_Np_6  Aesara_Np_7  Aesara_Np_8  Aesara_Np_9  Aesara_Np_10  \n",
       "0     0.178639     0.171867     0.155275     0.181354      0.179485  \n",
       "1     3.280945     3.343984     3.294325     3.305427      3.397698  \n",
       "2     7.610994     6.629446     6.957070     7.231911      7.144545  \n",
       "3    23.974734    25.462883    24.732027    24.355236     23.293223  \n",
       "4    65.292163    57.849448    59.450348    59.857888     61.370725  "
      ]
     },
     "execution_count": 44,
     "metadata": {},
     "output_type": "execute_result"
    }
   ],
   "source": [
    "g = globals()\n",
    "run_time = []\n",
    "iteration = 10\n",
    "\n",
    "for i in tqdm(range(3,8)):\n",
    "    data = g['data_{}d'.format(i)]\n",
    "    tensor = g['tensor{}'.format(i)]\n",
    "    \n",
    "    f = aesara.function([tensor], at.linalg.cholesky_np(tensor))\n",
    "    \n",
    "    start = time.time()\n",
    "    f(data)\n",
    "    end = time.time()\n",
    "    \n",
    "    run_time.append(round((end - start), 6))\n",
    "\n",
    "\n",
    "atnp_data[\"Aesara_Np_\"+str(iteration)] = run_time\n",
    "atnp_data"
   ]
  },
  {
   "cell_type": "code",
   "execution_count": 45,
   "id": "50153a96",
   "metadata": {},
   "outputs": [
    {
     "data": {
      "text/html": [
       "<div>\n",
       "<style scoped>\n",
       "    .dataframe tbody tr th:only-of-type {\n",
       "        vertical-align: middle;\n",
       "    }\n",
       "\n",
       "    .dataframe tbody tr th {\n",
       "        vertical-align: top;\n",
       "    }\n",
       "\n",
       "    .dataframe thead th {\n",
       "        text-align: right;\n",
       "    }\n",
       "</style>\n",
       "<table border=\"1\" class=\"dataframe\">\n",
       "  <thead>\n",
       "    <tr style=\"text-align: right;\">\n",
       "      <th></th>\n",
       "      <th>Aesara_Np_1</th>\n",
       "      <th>Aesara_Np_2</th>\n",
       "      <th>Aesara_Np_3</th>\n",
       "      <th>Aesara_Np_4</th>\n",
       "      <th>Aesara_Np_5</th>\n",
       "      <th>Aesara_Np_6</th>\n",
       "      <th>Aesara_Np_7</th>\n",
       "      <th>Aesara_Np_8</th>\n",
       "      <th>Aesara_Np_9</th>\n",
       "      <th>Aesara_Np_10</th>\n",
       "      <th>Aesara_Np_AvgTime</th>\n",
       "    </tr>\n",
       "  </thead>\n",
       "  <tbody>\n",
       "    <tr>\n",
       "      <th>0</th>\n",
       "      <td>0.171424</td>\n",
       "      <td>0.187493</td>\n",
       "      <td>0.155227</td>\n",
       "      <td>0.187492</td>\n",
       "      <td>0.187490</td>\n",
       "      <td>0.178639</td>\n",
       "      <td>0.171867</td>\n",
       "      <td>0.155275</td>\n",
       "      <td>0.181354</td>\n",
       "      <td>0.179485</td>\n",
       "      <td>0.175575</td>\n",
       "    </tr>\n",
       "    <tr>\n",
       "      <th>1</th>\n",
       "      <td>3.133612</td>\n",
       "      <td>3.229296</td>\n",
       "      <td>3.814178</td>\n",
       "      <td>3.251079</td>\n",
       "      <td>3.269091</td>\n",
       "      <td>3.280945</td>\n",
       "      <td>3.343984</td>\n",
       "      <td>3.294325</td>\n",
       "      <td>3.305427</td>\n",
       "      <td>3.397698</td>\n",
       "      <td>3.331963</td>\n",
       "    </tr>\n",
       "    <tr>\n",
       "      <th>2</th>\n",
       "      <td>8.137761</td>\n",
       "      <td>7.025300</td>\n",
       "      <td>7.047528</td>\n",
       "      <td>6.577452</td>\n",
       "      <td>8.631558</td>\n",
       "      <td>7.610994</td>\n",
       "      <td>6.629446</td>\n",
       "      <td>6.957070</td>\n",
       "      <td>7.231911</td>\n",
       "      <td>7.144545</td>\n",
       "      <td>7.299356</td>\n",
       "    </tr>\n",
       "    <tr>\n",
       "      <th>3</th>\n",
       "      <td>24.165784</td>\n",
       "      <td>24.177836</td>\n",
       "      <td>26.678037</td>\n",
       "      <td>24.651629</td>\n",
       "      <td>24.312081</td>\n",
       "      <td>23.974734</td>\n",
       "      <td>25.462883</td>\n",
       "      <td>24.732027</td>\n",
       "      <td>24.355236</td>\n",
       "      <td>23.293223</td>\n",
       "      <td>24.580347</td>\n",
       "    </tr>\n",
       "    <tr>\n",
       "      <th>4</th>\n",
       "      <td>59.410381</td>\n",
       "      <td>59.684021</td>\n",
       "      <td>58.479463</td>\n",
       "      <td>59.860694</td>\n",
       "      <td>61.295057</td>\n",
       "      <td>65.292163</td>\n",
       "      <td>57.849448</td>\n",
       "      <td>59.450348</td>\n",
       "      <td>59.857888</td>\n",
       "      <td>61.370725</td>\n",
       "      <td>60.255019</td>\n",
       "    </tr>\n",
       "  </tbody>\n",
       "</table>\n",
       "</div>"
      ],
      "text/plain": [
       "   Aesara_Np_1  Aesara_Np_2  Aesara_Np_3  Aesara_Np_4  Aesara_Np_5  \\\n",
       "0     0.171424     0.187493     0.155227     0.187492     0.187490   \n",
       "1     3.133612     3.229296     3.814178     3.251079     3.269091   \n",
       "2     8.137761     7.025300     7.047528     6.577452     8.631558   \n",
       "3    24.165784    24.177836    26.678037    24.651629    24.312081   \n",
       "4    59.410381    59.684021    58.479463    59.860694    61.295057   \n",
       "\n",
       "   Aesara_Np_6  Aesara_Np_7  Aesara_Np_8  Aesara_Np_9  Aesara_Np_10  \\\n",
       "0     0.178639     0.171867     0.155275     0.181354      0.179485   \n",
       "1     3.280945     3.343984     3.294325     3.305427      3.397698   \n",
       "2     7.610994     6.629446     6.957070     7.231911      7.144545   \n",
       "3    23.974734    25.462883    24.732027    24.355236     23.293223   \n",
       "4    65.292163    57.849448    59.450348    59.857888     61.370725   \n",
       "\n",
       "   Aesara_Np_AvgTime  \n",
       "0           0.175575  \n",
       "1           3.331963  \n",
       "2           7.299356  \n",
       "3          24.580347  \n",
       "4          60.255019  "
      ]
     },
     "execution_count": 45,
     "metadata": {},
     "output_type": "execute_result"
    }
   ],
   "source": [
    "atnp_data[\"Aesara_Np_AvgTime\"] = atnp_data.mean(axis=1)\n",
    "atnp_data"
   ]
  },
  {
   "cell_type": "code",
   "execution_count": 46,
   "id": "f0bec277",
   "metadata": {},
   "outputs": [],
   "source": [
    "atnp_data.to_csv(\"Aesara_Numpy_data.csv\", index = False)"
   ]
  },
  {
   "cell_type": "markdown",
   "id": "a5644cdb",
   "metadata": {},
   "source": [
    "### Comparing output of Numpy and Aesara-Scipy cholesky method"
   ]
  },
  {
   "cell_type": "code",
   "execution_count": 48,
   "id": "134fc2ee",
   "metadata": {},
   "outputs": [
    {
     "name": "stdout",
     "output_type": "stream",
     "text": [
      "data_3d  ->  True\n",
      "data_4d  ->  True\n",
      "data_5d  ->  True\n"
     ]
    }
   ],
   "source": [
    "g = globals()\n",
    "\n",
    "for i in range(3,6):\n",
    "    data_name = 'data_{}d'.format(i)\n",
    "    data = g[data_name]\n",
    "    \n",
    "    print(data_name, \" -> \", np.allclose(at.linalg.cholesky(data).eval(), np.linalg.cholesky(data)))"
   ]
  },
  {
   "cell_type": "markdown",
   "id": "412c3857",
   "metadata": {},
   "source": [
    "#### Saving result to csv file"
   ]
  },
  {
   "cell_type": "code",
   "execution_count": 53,
   "id": "efd4144b",
   "metadata": {},
   "outputs": [
    {
     "data": {
      "text/html": [
       "<div>\n",
       "<style scoped>\n",
       "    .dataframe tbody tr th:only-of-type {\n",
       "        vertical-align: middle;\n",
       "    }\n",
       "\n",
       "    .dataframe tbody tr th {\n",
       "        vertical-align: top;\n",
       "    }\n",
       "\n",
       "    .dataframe thead th {\n",
       "        text-align: right;\n",
       "    }\n",
       "</style>\n",
       "<table border=\"1\" class=\"dataframe\">\n",
       "  <thead>\n",
       "    <tr style=\"text-align: right;\">\n",
       "      <th></th>\n",
       "      <th>N-dims</th>\n",
       "      <th>Number of Elements</th>\n",
       "      <th>Memory Size(in MB)</th>\n",
       "    </tr>\n",
       "  </thead>\n",
       "  <tbody>\n",
       "    <tr>\n",
       "      <th>0</th>\n",
       "      <td>3</td>\n",
       "      <td>2000000</td>\n",
       "      <td>15.26</td>\n",
       "    </tr>\n",
       "    <tr>\n",
       "      <th>1</th>\n",
       "      <td>4</td>\n",
       "      <td>50000000</td>\n",
       "      <td>381.47</td>\n",
       "    </tr>\n",
       "    <tr>\n",
       "      <th>2</th>\n",
       "      <td>5</td>\n",
       "      <td>100000000</td>\n",
       "      <td>762.94</td>\n",
       "    </tr>\n",
       "    <tr>\n",
       "      <th>3</th>\n",
       "      <td>6</td>\n",
       "      <td>200000000</td>\n",
       "      <td>1525.88</td>\n",
       "    </tr>\n",
       "    <tr>\n",
       "      <th>4</th>\n",
       "      <td>7</td>\n",
       "      <td>400000000</td>\n",
       "      <td>3051.76</td>\n",
       "    </tr>\n",
       "  </tbody>\n",
       "</table>\n",
       "</div>"
      ],
      "text/plain": [
       "   N-dims  Number of Elements  Memory Size(in MB)\n",
       "0       3             2000000               15.26\n",
       "1       4            50000000              381.47\n",
       "2       5           100000000              762.94\n",
       "3       6           200000000             1525.88\n",
       "4       7           400000000             3051.76"
      ]
     },
     "execution_count": 53,
     "metadata": {},
     "output_type": "execute_result"
    }
   ],
   "source": [
    "df"
   ]
  },
  {
   "cell_type": "code",
   "execution_count": 54,
   "id": "ce37161c",
   "metadata": {},
   "outputs": [],
   "source": [
    "df[\"Aesara_Np_AvgTime\"] = atnp_data[\"Aesara_Np_AvgTime\"]\n",
    "df[\"Aesara_Sp_AvgTime\"] = atsp_data[\"Aesara_Sp_AvgTime\"]"
   ]
  },
  {
   "cell_type": "code",
   "execution_count": 55,
   "id": "07094acc",
   "metadata": {},
   "outputs": [
    {
     "data": {
      "text/html": [
       "<div>\n",
       "<style scoped>\n",
       "    .dataframe tbody tr th:only-of-type {\n",
       "        vertical-align: middle;\n",
       "    }\n",
       "\n",
       "    .dataframe tbody tr th {\n",
       "        vertical-align: top;\n",
       "    }\n",
       "\n",
       "    .dataframe thead th {\n",
       "        text-align: right;\n",
       "    }\n",
       "</style>\n",
       "<table border=\"1\" class=\"dataframe\">\n",
       "  <thead>\n",
       "    <tr style=\"text-align: right;\">\n",
       "      <th></th>\n",
       "      <th>N-dims</th>\n",
       "      <th>Number of Elements</th>\n",
       "      <th>Memory Size(in MB)</th>\n",
       "      <th>Aesara_Np_AvgTime</th>\n",
       "      <th>Aesara_Sp_AvgTime</th>\n",
       "    </tr>\n",
       "  </thead>\n",
       "  <tbody>\n",
       "    <tr>\n",
       "      <th>0</th>\n",
       "      <td>3</td>\n",
       "      <td>2000000</td>\n",
       "      <td>15.26</td>\n",
       "      <td>0.175575</td>\n",
       "      <td>0.151345</td>\n",
       "    </tr>\n",
       "    <tr>\n",
       "      <th>1</th>\n",
       "      <td>4</td>\n",
       "      <td>50000000</td>\n",
       "      <td>381.47</td>\n",
       "      <td>3.331963</td>\n",
       "      <td>3.907176</td>\n",
       "    </tr>\n",
       "    <tr>\n",
       "      <th>2</th>\n",
       "      <td>5</td>\n",
       "      <td>100000000</td>\n",
       "      <td>762.94</td>\n",
       "      <td>7.299356</td>\n",
       "      <td>9.083369</td>\n",
       "    </tr>\n",
       "    <tr>\n",
       "      <th>3</th>\n",
       "      <td>6</td>\n",
       "      <td>200000000</td>\n",
       "      <td>1525.88</td>\n",
       "      <td>24.580347</td>\n",
       "      <td>21.846174</td>\n",
       "    </tr>\n",
       "    <tr>\n",
       "      <th>4</th>\n",
       "      <td>7</td>\n",
       "      <td>400000000</td>\n",
       "      <td>3051.76</td>\n",
       "      <td>60.255019</td>\n",
       "      <td>43.013276</td>\n",
       "    </tr>\n",
       "  </tbody>\n",
       "</table>\n",
       "</div>"
      ],
      "text/plain": [
       "   N-dims  Number of Elements  Memory Size(in MB)  Aesara_Np_AvgTime  \\\n",
       "0       3             2000000               15.26           0.175575   \n",
       "1       4            50000000              381.47           3.331963   \n",
       "2       5           100000000              762.94           7.299356   \n",
       "3       6           200000000             1525.88          24.580347   \n",
       "4       7           400000000             3051.76          60.255019   \n",
       "\n",
       "   Aesara_Sp_AvgTime  \n",
       "0           0.151345  \n",
       "1           3.907176  \n",
       "2           9.083369  \n",
       "3          21.846174  \n",
       "4          43.013276  "
      ]
     },
     "execution_count": 55,
     "metadata": {},
     "output_type": "execute_result"
    }
   ],
   "source": [
    "df"
   ]
  },
  {
   "cell_type": "code",
   "execution_count": 56,
   "id": "7b661465",
   "metadata": {},
   "outputs": [],
   "source": [
    "df.to_csv(\"cholesky_data2.csv\", index=False)"
   ]
  },
  {
   "cell_type": "markdown",
   "id": "6c43cdef",
   "metadata": {},
   "source": [
    "## Visualization"
   ]
  },
  {
   "cell_type": "code",
   "execution_count": 57,
   "id": "6bb5d866",
   "metadata": {},
   "outputs": [],
   "source": [
    "from matplotlib import pyplot as plt"
   ]
  },
  {
   "cell_type": "markdown",
   "id": "51ec01c2",
   "metadata": {},
   "source": [
    "#### Memory size of diff data"
   ]
  },
  {
   "cell_type": "code",
   "execution_count": 147,
   "id": "644f78b2",
   "metadata": {},
   "outputs": [
    {
     "data": {
      "image/png": "[encoded data removed]",
      "text/plain": [
       "<Figure size 864x432 with 1 Axes>"
      ]
     },
     "metadata": {
      "needs_background": "light"
     },
     "output_type": "display_data"
    }
   ],
   "source": [
    "fig, ax = plt.subplots(figsize=(12,6))\n",
    "bar = plt.bar(df[\"N-dims\"], df[\"Memory Size(in MB)\"], width = 0.5)\n",
    "ax.bar_label(bar, fmt='%.2f MB', fontsize=12, weight = \"bold\")\n",
    "ax.set_xlabel(\"Nd Data\", fontsize=18)\n",
    "ax.set_ylabel(\"Memory Size in MB\", fontsize=18)\n",
    "plt.show()"
   ]
  },
  {
   "cell_type": "markdown",
   "id": "66a05cae",
   "metadata": {},
   "source": [
    "### Runtime of diff methods"
   ]
  },
  {
   "cell_type": "code",
   "execution_count": 148,
   "id": "239022a7",
   "metadata": {},
   "outputs": [
    {
     "data": {
      "text/plain": [
       "<matplotlib.legend.Legend at 0x27626024850>"
      ]
     },
     "execution_count": 148,
     "metadata": {},
     "output_type": "execute_result"
    },
    {
     "data": {
      "image/png": "[encoded data removed]",
      "text/plain": [
       "<Figure size 864x432 with 1 Axes>"
      ]
     },
     "metadata": {
      "needs_background": "light"
     },
     "output_type": "display_data"
    }
   ],
   "source": [
    "plt.figure(figsize=(12,6))\n",
    "\n",
    "plt.plot(df[\"N-dims\"], df[\"Aesara_Np_AvgTime\"], lw = 2, marker = 'o', ms = 8, label = \"Aesara Numpy Runtime\")\n",
    "plt.plot(df[\"N-dims\"], df[\"Aesara_Sp_AvgTime\"], lw = 2, marker = 'd', ms = 8, label = \"Aesara Scipy Runtime\")\n",
    "plt.xlabel(\"Nd Data\", fontsize=18)\n",
    "plt.ylabel(\"Runtime in Sec\", fontsize=18)\n",
    "plt.legend()"
   ]
  },
  {
   "cell_type": "code",
   "execution_count": 150,
   "id": "26615c1f",
   "metadata": {},
   "outputs": [
    {
     "data": {
      "text/plain": [
       "<matplotlib.legend.Legend at 0x27625fbd3c0>"
      ]
     },
     "execution_count": 150,
     "metadata": {},
     "output_type": "execute_result"
    },
    {
     "data": {
      "image/png": "[encoded data removed]",
      "text/plain": [
       "<Figure size 864x432 with 1 Axes>"
      ]
     },
     "metadata": {
      "needs_background": "light"
     },
     "output_type": "display_data"
    }
   ],
   "source": [
    "plt.figure(figsize=(12,6))\n",
    "\n",
    "plt.bar(df[\"N-dims\"], df[\"Memory Size(in MB)\"]/50, width = 0.4, color='c') #/50 to reduce height of bargraph\n",
    "plt.plot(df[\"N-dims\"], df[\"Aesara_Np_AvgTime\"], lw = 3, marker = 'o', ms = 10, label = \"Aesara Numpy Runtime\", color = 'r')\n",
    "plt.plot(df[\"N-dims\"], df[\"Aesara_Sp_AvgTime\"], lw = 3, marker = 'd', ms = 10, label = \"Aesara Scipy Runtime\", color = 'b')\n",
    "\n",
    "plt.xlabel(\"Nd-Data Size in MB\", fontsize=18)\n",
    "plt.ylabel(\"Runtime in Sec\", fontsize=18)\n",
    "plt.legend()"
   ]
  },
  {
   "cell_type": "code",
   "execution_count": null,
   "id": "8fb3831b",
   "metadata": {},
   "outputs": [],
   "source": []
  }
 ],
 "metadata": {
  "kernelspec": {
   "display_name": "Python 3 (ipykernel)",
   "language": "python",
   "name": "python3"
  },
  "language_info": {
   "codemirror_mode": {
    "name": "ipython",
    "version": 3
   },
   "file_extension": ".py",
   "mimetype": "text/x-python",
   "name": "python",
   "nbconvert_exporter": "python",
   "pygments_lexer": "ipython3",
   "version": "3.10.5"
  }
 },
 "nbformat": 4,
 "nbformat_minor": 5
}
