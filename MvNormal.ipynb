{
 "cells": [
  {
   "cell_type": "markdown",
   "id": "bfe296f7",
   "metadata": {},
   "source": [
    "## Checking Ops for MvNormal\n",
    "\n",
    "- mu -> works for nd Data\n",
    "- cov, tau, chol -> works for 2D data only"
   ]
  },
  {
   "cell_type": "code",
   "execution_count": 6,
   "id": "a2e744cf",
   "metadata": {},
   "outputs": [],
   "source": [
    "import pymc as pm\n",
    "import numpy as np"
   ]
  },
  {
   "cell_type": "code",
   "execution_count": 57,
   "id": "e884327d",
   "metadata": {},
   "outputs": [],
   "source": [
    "with pm.Model():\n",
    "    x = pm.Normal('x', mu=0, sigma=10)"
   ]
  },
  {
   "cell_type": "code",
   "execution_count": 3,
   "id": "217bfb2b",
   "metadata": {},
   "outputs": [
    {
     "data": {
      "text/latex": [
       "$\\text{x} \\sim \\operatorname{N}(0,~10)$"
      ],
      "text/plain": [
       "x ~ N(0, 10)"
      ]
     },
     "execution_count": 3,
     "metadata": {},
     "output_type": "execute_result"
    }
   ],
   "source": [
    "x"
   ]
  },
  {
   "cell_type": "code",
   "execution_count": 30,
   "id": "116221ed",
   "metadata": {},
   "outputs": [
    {
     "data": {
      "text/plain": [
       "array([1., 1.])"
      ]
     },
     "execution_count": 30,
     "metadata": {},
     "output_type": "execute_result"
    }
   ],
   "source": [
    "np.ones(2)"
   ]
  },
  {
   "cell_type": "code",
   "execution_count": 32,
   "id": "ad478b4b",
   "metadata": {},
   "outputs": [
    {
     "data": {
      "text/plain": [
       "array([[1., 1., 1.],\n",
       "       [1., 1., 1.]])"
      ]
     },
     "execution_count": 32,
     "metadata": {},
     "output_type": "execute_result"
    }
   ],
   "source": [
    "np.ones((2,3))"
   ]
  },
  {
   "cell_type": "code",
   "execution_count": 33,
   "id": "8f2904e7",
   "metadata": {},
   "outputs": [
    {
     "data": {
      "text/plain": [
       "array([[[1., 1., 1., 1.],\n",
       "        [1., 1., 1., 1.],\n",
       "        [1., 1., 1., 1.]],\n",
       "\n",
       "       [[1., 1., 1., 1.],\n",
       "        [1., 1., 1., 1.],\n",
       "        [1., 1., 1., 1.]]])"
      ]
     },
     "execution_count": 33,
     "metadata": {},
     "output_type": "execute_result"
    }
   ],
   "source": [
    "np.ones((2,3,4))"
   ]
  },
  {
   "cell_type": "code",
   "execution_count": 28,
   "id": "afc913fe",
   "metadata": {},
   "outputs": [],
   "source": [
    "#Example given in Issue: https://github.com/pymc-devs/pymc/issues/5383\n",
    "\n",
    "# size = (4, 3)\n",
    "# pm.logp(pm.MvNormal.dist(mu=np.ones(2), cov=np.eye(2), size=size), np.ones((*size, 2)))\n",
    "# ValueError: Invalid dimension for value: 3\n",
    "\n",
    "# pm.logp(pm.MvStudentT.dist(nu=3, mu=np.ones(2), cov=np.eye(2), size=size), np.ones((*size, 2)))\n",
    "# ValueError: Invalid dimension for value: 3"
   ]
  },
  {
   "cell_type": "markdown",
   "id": "18a8af33",
   "metadata": {},
   "source": [
    "## Checking for mu\n",
    "### 1. 2D --> Pass"
   ]
  },
  {
   "cell_type": "code",
   "execution_count": 34,
   "id": "fce3c05c",
   "metadata": {},
   "outputs": [
    {
     "data": {
      "text/plain": [
       "multivariate_normal_rv{1, (1, 2), floatX, False}.out"
      ]
     },
     "execution_count": 34,
     "metadata": {},
     "output_type": "execute_result"
    }
   ],
   "source": [
    "pm.MvNormal.dist(mu=np.ones((2,2)), cov=np.ones((2,2)))"
   ]
  },
  {
   "cell_type": "markdown",
   "id": "edef47d1",
   "metadata": {},
   "source": [
    "### 2. 3D --> Pass"
   ]
  },
  {
   "cell_type": "code",
   "execution_count": 59,
   "id": "c918355d",
   "metadata": {},
   "outputs": [
    {
     "data": {
      "text/plain": [
       "multivariate_normal_rv{1, (1, 2), floatX, False}.out"
      ]
     },
     "execution_count": 59,
     "metadata": {},
     "output_type": "execute_result"
    }
   ],
   "source": [
    "pm.MvNormal.dist(mu=np.ones((10,2,2)), cov=np.ones((2,2)))"
   ]
  },
  {
   "cell_type": "markdown",
   "id": "a8cb221b",
   "metadata": {},
   "source": [
    "### 3. nD --> Pass"
   ]
  },
  {
   "cell_type": "code",
   "execution_count": 53,
   "id": "3f725d6c",
   "metadata": {},
   "outputs": [
    {
     "data": {
      "text/plain": [
       "multivariate_normal_rv{1, (1, 2), floatX, False}.out"
      ]
     },
     "execution_count": 53,
     "metadata": {},
     "output_type": "execute_result"
    }
   ],
   "source": [
    "pm.MvNormal.dist(mu=np.ones((2,2,2,2,2)), cov=np.ones((2,2)))"
   ]
  },
  {
   "cell_type": "markdown",
   "id": "ebacaa13",
   "metadata": {},
   "source": [
    "## Checking for cov\n",
    "### 1. 2D --> Pass"
   ]
  },
  {
   "cell_type": "code",
   "execution_count": 45,
   "id": "f01c14a4",
   "metadata": {},
   "outputs": [
    {
     "data": {
      "text/plain": [
       "multivariate_normal_rv{1, (1, 2), floatX, False}.out"
      ]
     },
     "execution_count": 45,
     "metadata": {},
     "output_type": "execute_result"
    }
   ],
   "source": [
    "pm.MvNormal.dist(mu=np.ones(2), cov=np.ones((2,2)))"
   ]
  },
  {
   "cell_type": "markdown",
   "id": "8c42b20d",
   "metadata": {},
   "source": [
    "### 2. 3D --> Fail"
   ]
  },
  {
   "cell_type": "code",
   "execution_count": 46,
   "id": "6b6e4856",
   "metadata": {},
   "outputs": [
    {
     "ename": "ValueError",
     "evalue": "cov must be two dimensional.",
     "output_type": "error",
     "traceback": [
      "\u001b[1;31m---------------------------------------------------------------------------\u001b[0m",
      "\u001b[1;31mValueError\u001b[0m                                Traceback (most recent call last)",
      "Input \u001b[1;32mIn [46]\u001b[0m, in \u001b[0;36m<cell line: 1>\u001b[1;34m()\u001b[0m\n\u001b[1;32m----> 1\u001b[0m \u001b[43mpm\u001b[49m\u001b[38;5;241;43m.\u001b[39;49m\u001b[43mMvNormal\u001b[49m\u001b[38;5;241;43m.\u001b[39;49m\u001b[43mdist\u001b[49m\u001b[43m(\u001b[49m\u001b[43mmu\u001b[49m\u001b[38;5;241;43m=\u001b[39;49m\u001b[43mnp\u001b[49m\u001b[38;5;241;43m.\u001b[39;49m\u001b[43mones\u001b[49m\u001b[43m(\u001b[49m\u001b[38;5;241;43m2\u001b[39;49m\u001b[43m)\u001b[49m\u001b[43m,\u001b[49m\u001b[43m \u001b[49m\u001b[43mcov\u001b[49m\u001b[38;5;241;43m=\u001b[39;49m\u001b[43mnp\u001b[49m\u001b[38;5;241;43m.\u001b[39;49m\u001b[43mones\u001b[49m\u001b[43m(\u001b[49m\u001b[43m(\u001b[49m\u001b[38;5;241;43m2\u001b[39;49m\u001b[43m,\u001b[49m\u001b[38;5;241;43m2\u001b[39;49m\u001b[43m,\u001b[49m\u001b[38;5;241;43m2\u001b[39;49m\u001b[43m)\u001b[49m\u001b[43m)\u001b[49m\u001b[43m)\u001b[49m\n",
      "File \u001b[1;32md:\\opensource\\pymc\\pymc\\distributions\\multivariate.py:253\u001b[0m, in \u001b[0;36mMvNormal.dist\u001b[1;34m(cls, mu, cov, tau, chol, lower, **kwargs)\u001b[0m\n\u001b[0;32m    250\u001b[0m \u001b[38;5;129m@classmethod\u001b[39m\n\u001b[0;32m    251\u001b[0m \u001b[38;5;28;01mdef\u001b[39;00m \u001b[38;5;21mdist\u001b[39m(\u001b[38;5;28mcls\u001b[39m, mu, cov\u001b[38;5;241m=\u001b[39m\u001b[38;5;28;01mNone\u001b[39;00m, tau\u001b[38;5;241m=\u001b[39m\u001b[38;5;28;01mNone\u001b[39;00m, chol\u001b[38;5;241m=\u001b[39m\u001b[38;5;28;01mNone\u001b[39;00m, lower\u001b[38;5;241m=\u001b[39m\u001b[38;5;28;01mTrue\u001b[39;00m, \u001b[38;5;241m*\u001b[39m\u001b[38;5;241m*\u001b[39mkwargs):\n\u001b[0;32m    252\u001b[0m     mu \u001b[38;5;241m=\u001b[39m at\u001b[38;5;241m.\u001b[39mas_tensor_variable(mu)\n\u001b[1;32m--> 253\u001b[0m     cov \u001b[38;5;241m=\u001b[39m \u001b[43mquaddist_matrix\u001b[49m\u001b[43m(\u001b[49m\u001b[43mcov\u001b[49m\u001b[43m,\u001b[49m\u001b[43m \u001b[49m\u001b[43mchol\u001b[49m\u001b[43m,\u001b[49m\u001b[43m \u001b[49m\u001b[43mtau\u001b[49m\u001b[43m,\u001b[49m\u001b[43m \u001b[49m\u001b[43mlower\u001b[49m\u001b[43m)\u001b[49m\n\u001b[0;32m    254\u001b[0m     \u001b[38;5;66;03m# Aesara is stricter about the shape of mu, than PyMC used to be\u001b[39;00m\n\u001b[0;32m    255\u001b[0m     mu \u001b[38;5;241m=\u001b[39m at\u001b[38;5;241m.\u001b[39mbroadcast_arrays(mu, cov[\u001b[38;5;241m.\u001b[39m\u001b[38;5;241m.\u001b[39m\u001b[38;5;241m.\u001b[39m, \u001b[38;5;241m-\u001b[39m\u001b[38;5;241m1\u001b[39m])[\u001b[38;5;241m0\u001b[39m]\n",
      "File \u001b[1;32md:\\opensource\\pymc\\pymc\\distributions\\multivariate.py:114\u001b[0m, in \u001b[0;36mquaddist_matrix\u001b[1;34m(cov, chol, tau, lower, *args, **kwargs)\u001b[0m\n\u001b[0;32m    112\u001b[0m     cov \u001b[38;5;241m=\u001b[39m at\u001b[38;5;241m.\u001b[39mas_tensor_variable(cov)\n\u001b[0;32m    113\u001b[0m     \u001b[38;5;28;01mif\u001b[39;00m cov\u001b[38;5;241m.\u001b[39mndim \u001b[38;5;241m!=\u001b[39m \u001b[38;5;241m2\u001b[39m:\n\u001b[1;32m--> 114\u001b[0m         \u001b[38;5;28;01mraise\u001b[39;00m \u001b[38;5;167;01mValueError\u001b[39;00m(\u001b[38;5;124m\"\u001b[39m\u001b[38;5;124mcov must be two dimensional.\u001b[39m\u001b[38;5;124m\"\u001b[39m)\n\u001b[0;32m    115\u001b[0m \u001b[38;5;28;01melif\u001b[39;00m tau \u001b[38;5;129;01mis\u001b[39;00m \u001b[38;5;129;01mnot\u001b[39;00m \u001b[38;5;28;01mNone\u001b[39;00m:\n\u001b[0;32m    116\u001b[0m     tau \u001b[38;5;241m=\u001b[39m at\u001b[38;5;241m.\u001b[39mas_tensor_variable(tau)\n",
      "\u001b[1;31mValueError\u001b[0m: cov must be two dimensional."
     ]
    }
   ],
   "source": [
    "pm.MvNormal.dist(mu=np.ones(2), cov=np.ones((2,2,2)))"
   ]
  },
  {
   "cell_type": "markdown",
   "id": "b8b2b60a",
   "metadata": {},
   "source": [
    "## Checking for tau\n",
    "### 1. 2D --> Pass"
   ]
  },
  {
   "cell_type": "code",
   "execution_count": 48,
   "id": "d6eb1764",
   "metadata": {},
   "outputs": [
    {
     "data": {
      "text/plain": [
       "multivariate_normal_rv{1, (1, 2), floatX, False}.out"
      ]
     },
     "execution_count": 48,
     "metadata": {},
     "output_type": "execute_result"
    }
   ],
   "source": [
    "pm.MvNormal.dist(mu=np.ones(2), tau=np.ones((2,2)))"
   ]
  },
  {
   "cell_type": "markdown",
   "id": "0be60a22",
   "metadata": {},
   "source": [
    "### 2. 3D --> Fail"
   ]
  },
  {
   "cell_type": "code",
   "execution_count": 49,
   "id": "51699fce",
   "metadata": {},
   "outputs": [
    {
     "ename": "ValueError",
     "evalue": "tau must be two dimensional.",
     "output_type": "error",
     "traceback": [
      "\u001b[1;31m---------------------------------------------------------------------------\u001b[0m",
      "\u001b[1;31mValueError\u001b[0m                                Traceback (most recent call last)",
      "Input \u001b[1;32mIn [49]\u001b[0m, in \u001b[0;36m<cell line: 1>\u001b[1;34m()\u001b[0m\n\u001b[1;32m----> 1\u001b[0m \u001b[43mpm\u001b[49m\u001b[38;5;241;43m.\u001b[39;49m\u001b[43mMvNormal\u001b[49m\u001b[38;5;241;43m.\u001b[39;49m\u001b[43mdist\u001b[49m\u001b[43m(\u001b[49m\u001b[43mmu\u001b[49m\u001b[38;5;241;43m=\u001b[39;49m\u001b[43mnp\u001b[49m\u001b[38;5;241;43m.\u001b[39;49m\u001b[43mones\u001b[49m\u001b[43m(\u001b[49m\u001b[38;5;241;43m2\u001b[39;49m\u001b[43m)\u001b[49m\u001b[43m,\u001b[49m\u001b[43m \u001b[49m\u001b[43mtau\u001b[49m\u001b[38;5;241;43m=\u001b[39;49m\u001b[43mnp\u001b[49m\u001b[38;5;241;43m.\u001b[39;49m\u001b[43mones\u001b[49m\u001b[43m(\u001b[49m\u001b[43m(\u001b[49m\u001b[38;5;241;43m2\u001b[39;49m\u001b[43m,\u001b[49m\u001b[38;5;241;43m2\u001b[39;49m\u001b[43m,\u001b[49m\u001b[38;5;241;43m2\u001b[39;49m\u001b[43m)\u001b[49m\u001b[43m)\u001b[49m\u001b[43m)\u001b[49m\n",
      "File \u001b[1;32md:\\opensource\\pymc\\pymc\\distributions\\multivariate.py:253\u001b[0m, in \u001b[0;36mMvNormal.dist\u001b[1;34m(cls, mu, cov, tau, chol, lower, **kwargs)\u001b[0m\n\u001b[0;32m    250\u001b[0m \u001b[38;5;129m@classmethod\u001b[39m\n\u001b[0;32m    251\u001b[0m \u001b[38;5;28;01mdef\u001b[39;00m \u001b[38;5;21mdist\u001b[39m(\u001b[38;5;28mcls\u001b[39m, mu, cov\u001b[38;5;241m=\u001b[39m\u001b[38;5;28;01mNone\u001b[39;00m, tau\u001b[38;5;241m=\u001b[39m\u001b[38;5;28;01mNone\u001b[39;00m, chol\u001b[38;5;241m=\u001b[39m\u001b[38;5;28;01mNone\u001b[39;00m, lower\u001b[38;5;241m=\u001b[39m\u001b[38;5;28;01mTrue\u001b[39;00m, \u001b[38;5;241m*\u001b[39m\u001b[38;5;241m*\u001b[39mkwargs):\n\u001b[0;32m    252\u001b[0m     mu \u001b[38;5;241m=\u001b[39m at\u001b[38;5;241m.\u001b[39mas_tensor_variable(mu)\n\u001b[1;32m--> 253\u001b[0m     cov \u001b[38;5;241m=\u001b[39m \u001b[43mquaddist_matrix\u001b[49m\u001b[43m(\u001b[49m\u001b[43mcov\u001b[49m\u001b[43m,\u001b[49m\u001b[43m \u001b[49m\u001b[43mchol\u001b[49m\u001b[43m,\u001b[49m\u001b[43m \u001b[49m\u001b[43mtau\u001b[49m\u001b[43m,\u001b[49m\u001b[43m \u001b[49m\u001b[43mlower\u001b[49m\u001b[43m)\u001b[49m\n\u001b[0;32m    254\u001b[0m     \u001b[38;5;66;03m# Aesara is stricter about the shape of mu, than PyMC used to be\u001b[39;00m\n\u001b[0;32m    255\u001b[0m     mu \u001b[38;5;241m=\u001b[39m at\u001b[38;5;241m.\u001b[39mbroadcast_arrays(mu, cov[\u001b[38;5;241m.\u001b[39m\u001b[38;5;241m.\u001b[39m\u001b[38;5;241m.\u001b[39m, \u001b[38;5;241m-\u001b[39m\u001b[38;5;241m1\u001b[39m])[\u001b[38;5;241m0\u001b[39m]\n",
      "File \u001b[1;32md:\\opensource\\pymc\\pymc\\distributions\\multivariate.py:118\u001b[0m, in \u001b[0;36mquaddist_matrix\u001b[1;34m(cov, chol, tau, lower, *args, **kwargs)\u001b[0m\n\u001b[0;32m    116\u001b[0m tau \u001b[38;5;241m=\u001b[39m at\u001b[38;5;241m.\u001b[39mas_tensor_variable(tau)\n\u001b[0;32m    117\u001b[0m \u001b[38;5;28;01mif\u001b[39;00m tau\u001b[38;5;241m.\u001b[39mndim \u001b[38;5;241m!=\u001b[39m \u001b[38;5;241m2\u001b[39m:\n\u001b[1;32m--> 118\u001b[0m     \u001b[38;5;28;01mraise\u001b[39;00m \u001b[38;5;167;01mValueError\u001b[39;00m(\u001b[38;5;124m\"\u001b[39m\u001b[38;5;124mtau must be two dimensional.\u001b[39m\u001b[38;5;124m\"\u001b[39m)\n\u001b[0;32m    119\u001b[0m \u001b[38;5;66;03m# TODO: What's the correct order/approach (in the non-square case)?\u001b[39;00m\n\u001b[0;32m    120\u001b[0m \u001b[38;5;66;03m# `aesara.tensor.nlinalg.tensorinv`?\u001b[39;00m\n\u001b[0;32m    121\u001b[0m cov \u001b[38;5;241m=\u001b[39m matrix_inverse(tau)\n",
      "\u001b[1;31mValueError\u001b[0m: tau must be two dimensional."
     ]
    }
   ],
   "source": [
    "pm.MvNormal.dist(mu=np.ones(2), tau=np.ones((2,2,2)))"
   ]
  },
  {
   "cell_type": "code",
   "execution_count": 54,
   "id": "939ebc43",
   "metadata": {},
   "outputs": [
    {
     "data": {
      "text/plain": [
       "multivariate_normal_rv{1, (1, 2), floatX, False}.out"
      ]
     },
     "execution_count": 54,
     "metadata": {},
     "output_type": "execute_result"
    }
   ],
   "source": [
    "pm.MvNormal.dist(mu=np.ones(2), chol=np.ones((2,2)))"
   ]
  },
  {
   "cell_type": "code",
   "execution_count": 55,
   "id": "05fade00",
   "metadata": {},
   "outputs": [
    {
     "ename": "ValueError",
     "evalue": "chol must be two dimensional.",
     "output_type": "error",
     "traceback": [
      "\u001b[1;31m---------------------------------------------------------------------------\u001b[0m",
      "\u001b[1;31mValueError\u001b[0m                                Traceback (most recent call last)",
      "Input \u001b[1;32mIn [55]\u001b[0m, in \u001b[0;36m<cell line: 1>\u001b[1;34m()\u001b[0m\n\u001b[1;32m----> 1\u001b[0m \u001b[43mpm\u001b[49m\u001b[38;5;241;43m.\u001b[39;49m\u001b[43mMvNormal\u001b[49m\u001b[38;5;241;43m.\u001b[39;49m\u001b[43mdist\u001b[49m\u001b[43m(\u001b[49m\u001b[43mmu\u001b[49m\u001b[38;5;241;43m=\u001b[39;49m\u001b[43mnp\u001b[49m\u001b[38;5;241;43m.\u001b[39;49m\u001b[43mones\u001b[49m\u001b[43m(\u001b[49m\u001b[38;5;241;43m2\u001b[39;49m\u001b[43m)\u001b[49m\u001b[43m,\u001b[49m\u001b[43m \u001b[49m\u001b[43mchol\u001b[49m\u001b[38;5;241;43m=\u001b[39;49m\u001b[43mnp\u001b[49m\u001b[38;5;241;43m.\u001b[39;49m\u001b[43mones\u001b[49m\u001b[43m(\u001b[49m\u001b[43m(\u001b[49m\u001b[38;5;241;43m2\u001b[39;49m\u001b[43m,\u001b[49m\u001b[38;5;241;43m2\u001b[39;49m\u001b[43m,\u001b[49m\u001b[38;5;241;43m2\u001b[39;49m\u001b[43m)\u001b[49m\u001b[43m)\u001b[49m\u001b[43m)\u001b[49m\n",
      "File \u001b[1;32md:\\opensource\\pymc\\pymc\\distributions\\multivariate.py:253\u001b[0m, in \u001b[0;36mMvNormal.dist\u001b[1;34m(cls, mu, cov, tau, chol, lower, **kwargs)\u001b[0m\n\u001b[0;32m    250\u001b[0m \u001b[38;5;129m@classmethod\u001b[39m\n\u001b[0;32m    251\u001b[0m \u001b[38;5;28;01mdef\u001b[39;00m \u001b[38;5;21mdist\u001b[39m(\u001b[38;5;28mcls\u001b[39m, mu, cov\u001b[38;5;241m=\u001b[39m\u001b[38;5;28;01mNone\u001b[39;00m, tau\u001b[38;5;241m=\u001b[39m\u001b[38;5;28;01mNone\u001b[39;00m, chol\u001b[38;5;241m=\u001b[39m\u001b[38;5;28;01mNone\u001b[39;00m, lower\u001b[38;5;241m=\u001b[39m\u001b[38;5;28;01mTrue\u001b[39;00m, \u001b[38;5;241m*\u001b[39m\u001b[38;5;241m*\u001b[39mkwargs):\n\u001b[0;32m    252\u001b[0m     mu \u001b[38;5;241m=\u001b[39m at\u001b[38;5;241m.\u001b[39mas_tensor_variable(mu)\n\u001b[1;32m--> 253\u001b[0m     cov \u001b[38;5;241m=\u001b[39m \u001b[43mquaddist_matrix\u001b[49m\u001b[43m(\u001b[49m\u001b[43mcov\u001b[49m\u001b[43m,\u001b[49m\u001b[43m \u001b[49m\u001b[43mchol\u001b[49m\u001b[43m,\u001b[49m\u001b[43m \u001b[49m\u001b[43mtau\u001b[49m\u001b[43m,\u001b[49m\u001b[43m \u001b[49m\u001b[43mlower\u001b[49m\u001b[43m)\u001b[49m\n\u001b[0;32m    254\u001b[0m     \u001b[38;5;66;03m# Aesara is stricter about the shape of mu, than PyMC used to be\u001b[39;00m\n\u001b[0;32m    255\u001b[0m     mu \u001b[38;5;241m=\u001b[39m at\u001b[38;5;241m.\u001b[39mbroadcast_arrays(mu, cov[\u001b[38;5;241m.\u001b[39m\u001b[38;5;241m.\u001b[39m\u001b[38;5;241m.\u001b[39m, \u001b[38;5;241m-\u001b[39m\u001b[38;5;241m1\u001b[39m])[\u001b[38;5;241m0\u001b[39m]\n",
      "File \u001b[1;32md:\\opensource\\pymc\\pymc\\distributions\\multivariate.py:126\u001b[0m, in \u001b[0;36mquaddist_matrix\u001b[1;34m(cov, chol, tau, lower, *args, **kwargs)\u001b[0m\n\u001b[0;32m    124\u001b[0m     chol \u001b[38;5;241m=\u001b[39m at\u001b[38;5;241m.\u001b[39mas_tensor_variable(chol)\n\u001b[0;32m    125\u001b[0m     \u001b[38;5;28;01mif\u001b[39;00m chol\u001b[38;5;241m.\u001b[39mndim \u001b[38;5;241m!=\u001b[39m \u001b[38;5;241m2\u001b[39m:\n\u001b[1;32m--> 126\u001b[0m         \u001b[38;5;28;01mraise\u001b[39;00m \u001b[38;5;167;01mValueError\u001b[39;00m(\u001b[38;5;124m\"\u001b[39m\u001b[38;5;124mchol must be two dimensional.\u001b[39m\u001b[38;5;124m\"\u001b[39m)\n\u001b[0;32m    127\u001b[0m     cov \u001b[38;5;241m=\u001b[39m chol\u001b[38;5;241m.\u001b[39mdot(chol\u001b[38;5;241m.\u001b[39mT)\n\u001b[0;32m    129\u001b[0m \u001b[38;5;28;01mreturn\u001b[39;00m cov\n",
      "\u001b[1;31mValueError\u001b[0m: chol must be two dimensional."
     ]
    }
   ],
   "source": [
    "pm.MvNormal.dist(mu=np.ones(2), chol=np.ones((2,2,2)))"
   ]
  },
  {
   "cell_type": "code",
   "execution_count": null,
   "id": "40d485d5",
   "metadata": {},
   "outputs": [],
   "source": []
  }
 ],
 "metadata": {
  "kernelspec": {
   "display_name": "Python 3 (ipykernel)",
   "language": "python",
   "name": "python3"
  },
  "language_info": {
   "codemirror_mode": {
    "name": "ipython",
    "version": 3
   },
   "file_extension": ".py",
   "mimetype": "text/x-python",
   "name": "python",
   "nbconvert_exporter": "python",
   "pygments_lexer": "ipython3",
   "version": "3.8.13"
  }
 },
 "nbformat": 4,
 "nbformat_minor": 5
}
