{
 "cells": [
  {
   "cell_type": "code",
   "execution_count": 1,
   "id": "813f32e8",
   "metadata": {},
   "outputs": [],
   "source": [
    "import pymc as pm\n",
    "import numpy as np"
   ]
  },
  {
   "cell_type": "code",
   "execution_count": 2,
   "id": "924e75b8",
   "metadata": {},
   "outputs": [],
   "source": [
    "# def dist(cls, nu, Sigma=None, mu=None, cov=None, tau=None, chol=None, lower=True, **kwargs):\n",
    "\n",
    "# Parameters\n",
    "#     ----------\n",
    "#     nu: float\n",
    "#         Degrees of freedom, should be a positive scalar.\n",
    "#     Sigma: matrix\n",
    "#         Covariance matrix. Use `cov` in new code.\n",
    "#     mu: array\n",
    "#         Vector of means.\n",
    "#     cov: matrix\n",
    "#         The covariance matrix.\n",
    "#     tau: matrix\n",
    "#         The precision matrix.\n",
    "#     chol: matrix\n",
    "#         The cholesky factor of the covariance matrix.\n",
    "#     lower: bool, default=True"
   ]
  },
  {
   "cell_type": "markdown",
   "id": "ad6ed2f1",
   "metadata": {},
   "source": [
    "**Sigma, cov, tau, chol - 2D only**"
   ]
  },
  {
   "cell_type": "code",
   "execution_count": 4,
   "id": "6e09d3c8",
   "metadata": {},
   "outputs": [
    {
     "data": {
      "text/plain": [
       "multivariate_studentt_rv{1, (0, 1, 2), floatX, False}.out"
      ]
     },
     "execution_count": 4,
     "metadata": {},
     "output_type": "execute_result"
    }
   ],
   "source": [
    "pm.MvStudentT.dist(nu = 10, Sigma = np.ones((2,2)))"
   ]
  },
  {
   "cell_type": "code",
   "execution_count": 5,
   "id": "50e72c3d",
   "metadata": {},
   "outputs": [
    {
     "ename": "ValueError",
     "evalue": "cov must be two dimensional.",
     "output_type": "error",
     "traceback": [
      "\u001b[1;31m---------------------------------------------------------------------------\u001b[0m",
      "\u001b[1;31mValueError\u001b[0m                                Traceback (most recent call last)",
      "Input \u001b[1;32mIn [5]\u001b[0m, in \u001b[0;36m<cell line: 1>\u001b[1;34m()\u001b[0m\n\u001b[1;32m----> 1\u001b[0m \u001b[43mpm\u001b[49m\u001b[38;5;241;43m.\u001b[39;49m\u001b[43mMvStudentT\u001b[49m\u001b[38;5;241;43m.\u001b[39;49m\u001b[43mdist\u001b[49m\u001b[43m(\u001b[49m\u001b[43mnu\u001b[49m\u001b[43m \u001b[49m\u001b[38;5;241;43m=\u001b[39;49m\u001b[43m \u001b[49m\u001b[38;5;241;43m10\u001b[39;49m\u001b[43m,\u001b[49m\u001b[43m \u001b[49m\u001b[43mSigma\u001b[49m\u001b[43m \u001b[49m\u001b[38;5;241;43m=\u001b[39;49m\u001b[43m \u001b[49m\u001b[43mnp\u001b[49m\u001b[38;5;241;43m.\u001b[39;49m\u001b[43mones\u001b[49m\u001b[43m(\u001b[49m\u001b[43m(\u001b[49m\u001b[38;5;241;43m2\u001b[39;49m\u001b[43m,\u001b[49m\u001b[38;5;241;43m2\u001b[39;49m\u001b[43m,\u001b[49m\u001b[38;5;241;43m2\u001b[39;49m\u001b[43m)\u001b[49m\u001b[43m)\u001b[49m\u001b[43m)\u001b[49m\n",
      "File \u001b[1;32md:\\opensource\\pymc\\pymc\\distributions\\multivariate.py:381\u001b[0m, in \u001b[0;36mMvStudentT.dist\u001b[1;34m(cls, nu, Sigma, mu, cov, tau, chol, lower, **kwargs)\u001b[0m\n\u001b[0;32m    379\u001b[0m nu \u001b[38;5;241m=\u001b[39m at\u001b[38;5;241m.\u001b[39mas_tensor_variable(floatX(nu))\n\u001b[0;32m    380\u001b[0m mu \u001b[38;5;241m=\u001b[39m at\u001b[38;5;241m.\u001b[39mas_tensor_variable(floatX(mu))\n\u001b[1;32m--> 381\u001b[0m cov \u001b[38;5;241m=\u001b[39m \u001b[43mquaddist_matrix\u001b[49m\u001b[43m(\u001b[49m\u001b[43mcov\u001b[49m\u001b[43m,\u001b[49m\u001b[43m \u001b[49m\u001b[43mchol\u001b[49m\u001b[43m,\u001b[49m\u001b[43m \u001b[49m\u001b[43mtau\u001b[49m\u001b[43m,\u001b[49m\u001b[43m \u001b[49m\u001b[43mlower\u001b[49m\u001b[43m)\u001b[49m\n\u001b[0;32m    382\u001b[0m \u001b[38;5;66;03m# Aesara is stricter about the shape of mu, than PyMC used to be\u001b[39;00m\n\u001b[0;32m    383\u001b[0m mu \u001b[38;5;241m=\u001b[39m at\u001b[38;5;241m.\u001b[39mbroadcast_arrays(mu, cov[\u001b[38;5;241m.\u001b[39m\u001b[38;5;241m.\u001b[39m\u001b[38;5;241m.\u001b[39m, \u001b[38;5;241m-\u001b[39m\u001b[38;5;241m1\u001b[39m])[\u001b[38;5;241m0\u001b[39m]\n",
      "File \u001b[1;32md:\\opensource\\pymc\\pymc\\distributions\\multivariate.py:114\u001b[0m, in \u001b[0;36mquaddist_matrix\u001b[1;34m(cov, chol, tau, lower, *args, **kwargs)\u001b[0m\n\u001b[0;32m    112\u001b[0m     cov \u001b[38;5;241m=\u001b[39m at\u001b[38;5;241m.\u001b[39mas_tensor_variable(cov)\n\u001b[0;32m    113\u001b[0m     \u001b[38;5;28;01mif\u001b[39;00m cov\u001b[38;5;241m.\u001b[39mndim \u001b[38;5;241m!=\u001b[39m \u001b[38;5;241m2\u001b[39m:\n\u001b[1;32m--> 114\u001b[0m         \u001b[38;5;28;01mraise\u001b[39;00m \u001b[38;5;167;01mValueError\u001b[39;00m(\u001b[38;5;124m\"\u001b[39m\u001b[38;5;124mcov must be two dimensional.\u001b[39m\u001b[38;5;124m\"\u001b[39m)\n\u001b[0;32m    115\u001b[0m \u001b[38;5;28;01melif\u001b[39;00m tau \u001b[38;5;129;01mis\u001b[39;00m \u001b[38;5;129;01mnot\u001b[39;00m \u001b[38;5;28;01mNone\u001b[39;00m:\n\u001b[0;32m    116\u001b[0m     tau \u001b[38;5;241m=\u001b[39m at\u001b[38;5;241m.\u001b[39mas_tensor_variable(tau)\n",
      "\u001b[1;31mValueError\u001b[0m: cov must be two dimensional."
     ]
    }
   ],
   "source": [
    "pm.MvStudentT.dist(nu = 10, Sigma = np.ones((2,2,2)))"
   ]
  },
  {
   "cell_type": "code",
   "execution_count": 6,
   "id": "f9b1db2e",
   "metadata": {},
   "outputs": [
    {
     "data": {
      "text/plain": [
       "multivariate_studentt_rv{1, (0, 1, 2), floatX, False}.out"
      ]
     },
     "execution_count": 6,
     "metadata": {},
     "output_type": "execute_result"
    }
   ],
   "source": [
    "pm.MvStudentT.dist(nu = 10, Sigma = np.ones((2,2)), mu = np.ones((2,2)))"
   ]
  },
  {
   "cell_type": "code",
   "execution_count": 7,
   "id": "0a5706d0",
   "metadata": {},
   "outputs": [
    {
     "data": {
      "text/plain": [
       "multivariate_studentt_rv{1, (0, 1, 2), floatX, False}.out"
      ]
     },
     "execution_count": 7,
     "metadata": {},
     "output_type": "execute_result"
    }
   ],
   "source": [
    "pm.MvStudentT.dist(nu = 10, Sigma = np.ones((2,2)), mu = np.ones((2,2,2)))"
   ]
  },
  {
   "cell_type": "code",
   "execution_count": 8,
   "id": "b6e7c255",
   "metadata": {},
   "outputs": [
    {
     "data": {
      "text/plain": [
       "multivariate_studentt_rv{1, (0, 1, 2), floatX, False}.out"
      ]
     },
     "execution_count": 8,
     "metadata": {},
     "output_type": "execute_result"
    }
   ],
   "source": [
    "pm.MvStudentT.dist(nu = 10, Sigma = np.ones((2,2)), mu = np.ones((2,2,2,2)))"
   ]
  },
  {
   "cell_type": "code",
   "execution_count": 9,
   "id": "49351aad",
   "metadata": {},
   "outputs": [
    {
     "data": {
      "text/plain": [
       "multivariate_studentt_rv{1, (0, 1, 2), floatX, False}.out"
      ]
     },
     "execution_count": 9,
     "metadata": {},
     "output_type": "execute_result"
    }
   ],
   "source": [
    "pm.MvStudentT.dist(nu = 10, cov=np.ones((2,2)))"
   ]
  },
  {
   "cell_type": "code",
   "execution_count": 10,
   "id": "aeb99edc",
   "metadata": {},
   "outputs": [
    {
     "ename": "ValueError",
     "evalue": "cov must be two dimensional.",
     "output_type": "error",
     "traceback": [
      "\u001b[1;31m---------------------------------------------------------------------------\u001b[0m",
      "\u001b[1;31mValueError\u001b[0m                                Traceback (most recent call last)",
      "Input \u001b[1;32mIn [10]\u001b[0m, in \u001b[0;36m<cell line: 1>\u001b[1;34m()\u001b[0m\n\u001b[1;32m----> 1\u001b[0m \u001b[43mpm\u001b[49m\u001b[38;5;241;43m.\u001b[39;49m\u001b[43mMvStudentT\u001b[49m\u001b[38;5;241;43m.\u001b[39;49m\u001b[43mdist\u001b[49m\u001b[43m(\u001b[49m\u001b[43mnu\u001b[49m\u001b[43m \u001b[49m\u001b[38;5;241;43m=\u001b[39;49m\u001b[43m \u001b[49m\u001b[38;5;241;43m10\u001b[39;49m\u001b[43m,\u001b[49m\u001b[43m \u001b[49m\u001b[43mcov\u001b[49m\u001b[38;5;241;43m=\u001b[39;49m\u001b[43mnp\u001b[49m\u001b[38;5;241;43m.\u001b[39;49m\u001b[43mones\u001b[49m\u001b[43m(\u001b[49m\u001b[43m(\u001b[49m\u001b[38;5;241;43m2\u001b[39;49m\u001b[43m,\u001b[49m\u001b[38;5;241;43m2\u001b[39;49m\u001b[43m,\u001b[49m\u001b[38;5;241;43m2\u001b[39;49m\u001b[43m)\u001b[49m\u001b[43m)\u001b[49m\u001b[43m)\u001b[49m\n",
      "File \u001b[1;32md:\\opensource\\pymc\\pymc\\distributions\\multivariate.py:381\u001b[0m, in \u001b[0;36mMvStudentT.dist\u001b[1;34m(cls, nu, Sigma, mu, cov, tau, chol, lower, **kwargs)\u001b[0m\n\u001b[0;32m    379\u001b[0m nu \u001b[38;5;241m=\u001b[39m at\u001b[38;5;241m.\u001b[39mas_tensor_variable(floatX(nu))\n\u001b[0;32m    380\u001b[0m mu \u001b[38;5;241m=\u001b[39m at\u001b[38;5;241m.\u001b[39mas_tensor_variable(floatX(mu))\n\u001b[1;32m--> 381\u001b[0m cov \u001b[38;5;241m=\u001b[39m \u001b[43mquaddist_matrix\u001b[49m\u001b[43m(\u001b[49m\u001b[43mcov\u001b[49m\u001b[43m,\u001b[49m\u001b[43m \u001b[49m\u001b[43mchol\u001b[49m\u001b[43m,\u001b[49m\u001b[43m \u001b[49m\u001b[43mtau\u001b[49m\u001b[43m,\u001b[49m\u001b[43m \u001b[49m\u001b[43mlower\u001b[49m\u001b[43m)\u001b[49m\n\u001b[0;32m    382\u001b[0m \u001b[38;5;66;03m# Aesara is stricter about the shape of mu, than PyMC used to be\u001b[39;00m\n\u001b[0;32m    383\u001b[0m mu \u001b[38;5;241m=\u001b[39m at\u001b[38;5;241m.\u001b[39mbroadcast_arrays(mu, cov[\u001b[38;5;241m.\u001b[39m\u001b[38;5;241m.\u001b[39m\u001b[38;5;241m.\u001b[39m, \u001b[38;5;241m-\u001b[39m\u001b[38;5;241m1\u001b[39m])[\u001b[38;5;241m0\u001b[39m]\n",
      "File \u001b[1;32md:\\opensource\\pymc\\pymc\\distributions\\multivariate.py:114\u001b[0m, in \u001b[0;36mquaddist_matrix\u001b[1;34m(cov, chol, tau, lower, *args, **kwargs)\u001b[0m\n\u001b[0;32m    112\u001b[0m     cov \u001b[38;5;241m=\u001b[39m at\u001b[38;5;241m.\u001b[39mas_tensor_variable(cov)\n\u001b[0;32m    113\u001b[0m     \u001b[38;5;28;01mif\u001b[39;00m cov\u001b[38;5;241m.\u001b[39mndim \u001b[38;5;241m!=\u001b[39m \u001b[38;5;241m2\u001b[39m:\n\u001b[1;32m--> 114\u001b[0m         \u001b[38;5;28;01mraise\u001b[39;00m \u001b[38;5;167;01mValueError\u001b[39;00m(\u001b[38;5;124m\"\u001b[39m\u001b[38;5;124mcov must be two dimensional.\u001b[39m\u001b[38;5;124m\"\u001b[39m)\n\u001b[0;32m    115\u001b[0m \u001b[38;5;28;01melif\u001b[39;00m tau \u001b[38;5;129;01mis\u001b[39;00m \u001b[38;5;129;01mnot\u001b[39;00m \u001b[38;5;28;01mNone\u001b[39;00m:\n\u001b[0;32m    116\u001b[0m     tau \u001b[38;5;241m=\u001b[39m at\u001b[38;5;241m.\u001b[39mas_tensor_variable(tau)\n",
      "\u001b[1;31mValueError\u001b[0m: cov must be two dimensional."
     ]
    }
   ],
   "source": [
    "pm.MvStudentT.dist(nu = 10, cov=np.ones((2,2,2)))"
   ]
  },
  {
   "cell_type": "code",
   "execution_count": 12,
   "id": "20904a70",
   "metadata": {},
   "outputs": [
    {
     "ename": "ValueError",
     "evalue": "tau must be two dimensional.",
     "output_type": "error",
     "traceback": [
      "\u001b[1;31m---------------------------------------------------------------------------\u001b[0m",
      "\u001b[1;31mValueError\u001b[0m                                Traceback (most recent call last)",
      "Input \u001b[1;32mIn [12]\u001b[0m, in \u001b[0;36m<cell line: 1>\u001b[1;34m()\u001b[0m\n\u001b[1;32m----> 1\u001b[0m \u001b[43mpm\u001b[49m\u001b[38;5;241;43m.\u001b[39;49m\u001b[43mMvStudentT\u001b[49m\u001b[38;5;241;43m.\u001b[39;49m\u001b[43mdist\u001b[49m\u001b[43m(\u001b[49m\u001b[43mnu\u001b[49m\u001b[43m \u001b[49m\u001b[38;5;241;43m=\u001b[39;49m\u001b[43m \u001b[49m\u001b[38;5;241;43m10\u001b[39;49m\u001b[43m,\u001b[49m\u001b[43m \u001b[49m\u001b[43mtau\u001b[49m\u001b[38;5;241;43m=\u001b[39;49m\u001b[43mnp\u001b[49m\u001b[38;5;241;43m.\u001b[39;49m\u001b[43mones\u001b[49m\u001b[43m(\u001b[49m\u001b[43m(\u001b[49m\u001b[38;5;241;43m2\u001b[39;49m\u001b[43m,\u001b[49m\u001b[38;5;241;43m2\u001b[39;49m\u001b[43m,\u001b[49m\u001b[38;5;241;43m2\u001b[39;49m\u001b[43m)\u001b[49m\u001b[43m)\u001b[49m\u001b[43m)\u001b[49m\n",
      "File \u001b[1;32md:\\opensource\\pymc\\pymc\\distributions\\multivariate.py:381\u001b[0m, in \u001b[0;36mMvStudentT.dist\u001b[1;34m(cls, nu, Sigma, mu, cov, tau, chol, lower, **kwargs)\u001b[0m\n\u001b[0;32m    379\u001b[0m nu \u001b[38;5;241m=\u001b[39m at\u001b[38;5;241m.\u001b[39mas_tensor_variable(floatX(nu))\n\u001b[0;32m    380\u001b[0m mu \u001b[38;5;241m=\u001b[39m at\u001b[38;5;241m.\u001b[39mas_tensor_variable(floatX(mu))\n\u001b[1;32m--> 381\u001b[0m cov \u001b[38;5;241m=\u001b[39m \u001b[43mquaddist_matrix\u001b[49m\u001b[43m(\u001b[49m\u001b[43mcov\u001b[49m\u001b[43m,\u001b[49m\u001b[43m \u001b[49m\u001b[43mchol\u001b[49m\u001b[43m,\u001b[49m\u001b[43m \u001b[49m\u001b[43mtau\u001b[49m\u001b[43m,\u001b[49m\u001b[43m \u001b[49m\u001b[43mlower\u001b[49m\u001b[43m)\u001b[49m\n\u001b[0;32m    382\u001b[0m \u001b[38;5;66;03m# Aesara is stricter about the shape of mu, than PyMC used to be\u001b[39;00m\n\u001b[0;32m    383\u001b[0m mu \u001b[38;5;241m=\u001b[39m at\u001b[38;5;241m.\u001b[39mbroadcast_arrays(mu, cov[\u001b[38;5;241m.\u001b[39m\u001b[38;5;241m.\u001b[39m\u001b[38;5;241m.\u001b[39m, \u001b[38;5;241m-\u001b[39m\u001b[38;5;241m1\u001b[39m])[\u001b[38;5;241m0\u001b[39m]\n",
      "File \u001b[1;32md:\\opensource\\pymc\\pymc\\distributions\\multivariate.py:118\u001b[0m, in \u001b[0;36mquaddist_matrix\u001b[1;34m(cov, chol, tau, lower, *args, **kwargs)\u001b[0m\n\u001b[0;32m    116\u001b[0m tau \u001b[38;5;241m=\u001b[39m at\u001b[38;5;241m.\u001b[39mas_tensor_variable(tau)\n\u001b[0;32m    117\u001b[0m \u001b[38;5;28;01mif\u001b[39;00m tau\u001b[38;5;241m.\u001b[39mndim \u001b[38;5;241m!=\u001b[39m \u001b[38;5;241m2\u001b[39m:\n\u001b[1;32m--> 118\u001b[0m     \u001b[38;5;28;01mraise\u001b[39;00m \u001b[38;5;167;01mValueError\u001b[39;00m(\u001b[38;5;124m\"\u001b[39m\u001b[38;5;124mtau must be two dimensional.\u001b[39m\u001b[38;5;124m\"\u001b[39m)\n\u001b[0;32m    119\u001b[0m \u001b[38;5;66;03m# TODO: What's the correct order/approach (in the non-square case)?\u001b[39;00m\n\u001b[0;32m    120\u001b[0m \u001b[38;5;66;03m# `aesara.tensor.nlinalg.tensorinv`?\u001b[39;00m\n\u001b[0;32m    121\u001b[0m cov \u001b[38;5;241m=\u001b[39m matrix_inverse(tau)\n",
      "\u001b[1;31mValueError\u001b[0m: tau must be two dimensional."
     ]
    }
   ],
   "source": [
    "pm.MvStudentT.dist(nu = 10, tau=np.ones((2,2,2)))"
   ]
  },
  {
   "cell_type": "code",
   "execution_count": 13,
   "id": "a847c4e8",
   "metadata": {},
   "outputs": [
    {
     "ename": "ValueError",
     "evalue": "chol must be two dimensional.",
     "output_type": "error",
     "traceback": [
      "\u001b[1;31m---------------------------------------------------------------------------\u001b[0m",
      "\u001b[1;31mValueError\u001b[0m                                Traceback (most recent call last)",
      "Input \u001b[1;32mIn [13]\u001b[0m, in \u001b[0;36m<cell line: 1>\u001b[1;34m()\u001b[0m\n\u001b[1;32m----> 1\u001b[0m \u001b[43mpm\u001b[49m\u001b[38;5;241;43m.\u001b[39;49m\u001b[43mMvStudentT\u001b[49m\u001b[38;5;241;43m.\u001b[39;49m\u001b[43mdist\u001b[49m\u001b[43m(\u001b[49m\u001b[43mnu\u001b[49m\u001b[43m \u001b[49m\u001b[38;5;241;43m=\u001b[39;49m\u001b[43m \u001b[49m\u001b[38;5;241;43m10\u001b[39;49m\u001b[43m,\u001b[49m\u001b[43m \u001b[49m\u001b[43mchol\u001b[49m\u001b[38;5;241;43m=\u001b[39;49m\u001b[43mnp\u001b[49m\u001b[38;5;241;43m.\u001b[39;49m\u001b[43mones\u001b[49m\u001b[43m(\u001b[49m\u001b[43m(\u001b[49m\u001b[38;5;241;43m2\u001b[39;49m\u001b[43m,\u001b[49m\u001b[38;5;241;43m2\u001b[39;49m\u001b[43m,\u001b[49m\u001b[38;5;241;43m2\u001b[39;49m\u001b[43m)\u001b[49m\u001b[43m)\u001b[49m\u001b[43m)\u001b[49m\n",
      "File \u001b[1;32md:\\opensource\\pymc\\pymc\\distributions\\multivariate.py:381\u001b[0m, in \u001b[0;36mMvStudentT.dist\u001b[1;34m(cls, nu, Sigma, mu, cov, tau, chol, lower, **kwargs)\u001b[0m\n\u001b[0;32m    379\u001b[0m nu \u001b[38;5;241m=\u001b[39m at\u001b[38;5;241m.\u001b[39mas_tensor_variable(floatX(nu))\n\u001b[0;32m    380\u001b[0m mu \u001b[38;5;241m=\u001b[39m at\u001b[38;5;241m.\u001b[39mas_tensor_variable(floatX(mu))\n\u001b[1;32m--> 381\u001b[0m cov \u001b[38;5;241m=\u001b[39m \u001b[43mquaddist_matrix\u001b[49m\u001b[43m(\u001b[49m\u001b[43mcov\u001b[49m\u001b[43m,\u001b[49m\u001b[43m \u001b[49m\u001b[43mchol\u001b[49m\u001b[43m,\u001b[49m\u001b[43m \u001b[49m\u001b[43mtau\u001b[49m\u001b[43m,\u001b[49m\u001b[43m \u001b[49m\u001b[43mlower\u001b[49m\u001b[43m)\u001b[49m\n\u001b[0;32m    382\u001b[0m \u001b[38;5;66;03m# Aesara is stricter about the shape of mu, than PyMC used to be\u001b[39;00m\n\u001b[0;32m    383\u001b[0m mu \u001b[38;5;241m=\u001b[39m at\u001b[38;5;241m.\u001b[39mbroadcast_arrays(mu, cov[\u001b[38;5;241m.\u001b[39m\u001b[38;5;241m.\u001b[39m\u001b[38;5;241m.\u001b[39m, \u001b[38;5;241m-\u001b[39m\u001b[38;5;241m1\u001b[39m])[\u001b[38;5;241m0\u001b[39m]\n",
      "File \u001b[1;32md:\\opensource\\pymc\\pymc\\distributions\\multivariate.py:126\u001b[0m, in \u001b[0;36mquaddist_matrix\u001b[1;34m(cov, chol, tau, lower, *args, **kwargs)\u001b[0m\n\u001b[0;32m    124\u001b[0m     chol \u001b[38;5;241m=\u001b[39m at\u001b[38;5;241m.\u001b[39mas_tensor_variable(chol)\n\u001b[0;32m    125\u001b[0m     \u001b[38;5;28;01mif\u001b[39;00m chol\u001b[38;5;241m.\u001b[39mndim \u001b[38;5;241m!=\u001b[39m \u001b[38;5;241m2\u001b[39m:\n\u001b[1;32m--> 126\u001b[0m         \u001b[38;5;28;01mraise\u001b[39;00m \u001b[38;5;167;01mValueError\u001b[39;00m(\u001b[38;5;124m\"\u001b[39m\u001b[38;5;124mchol must be two dimensional.\u001b[39m\u001b[38;5;124m\"\u001b[39m)\n\u001b[0;32m    127\u001b[0m     cov \u001b[38;5;241m=\u001b[39m chol\u001b[38;5;241m.\u001b[39mdot(chol\u001b[38;5;241m.\u001b[39mT)\n\u001b[0;32m    129\u001b[0m \u001b[38;5;28;01mreturn\u001b[39;00m cov\n",
      "\u001b[1;31mValueError\u001b[0m: chol must be two dimensional."
     ]
    }
   ],
   "source": [
    "pm.MvStudentT.dist(nu = 10, chol=np.ones((2,2,2)))"
   ]
  },
  {
   "cell_type": "code",
   "execution_count": null,
   "id": "f47b6bd2",
   "metadata": {},
   "outputs": [],
   "source": []
  }
 ],
 "metadata": {
  "kernelspec": {
   "display_name": "Python 3 (ipykernel)",
   "language": "python",
   "name": "python3"
  },
  "language_info": {
   "codemirror_mode": {
    "name": "ipython",
    "version": 3
   },
   "file_extension": ".py",
   "mimetype": "text/x-python",
   "name": "python",
   "nbconvert_exporter": "python",
   "pygments_lexer": "ipython3",
   "version": "3.8.13"
  }
 },
 "nbformat": 4,
 "nbformat_minor": 5
}
