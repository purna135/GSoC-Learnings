{
 "cells": [
  {
   "attachments": {
    "image-2.png": {
     "image/png": "[encoded data removed]"
    }
   },
   "cell_type": "markdown",
   "id": "93f3404f",
   "metadata": {},
   "source": [
    "## numpy.linalg.solve\n",
    "### linalg.solve(a, b)\n",
    "\n",
    "- Solve a linear matrix equation, or system of linear scalar equations, **ax = b**\n",
    "![image-2.png](attachment:image-2.png)"
   ]
  },
  {
   "cell_type": "markdown",
   "id": "198c9438",
   "metadata": {},
   "source": [
    "**Here b can be shape of (..., M) or (..., M, K)**"
   ]
  },
  {
   "cell_type": "markdown",
   "id": "60190271",
   "metadata": {},
   "source": [
    "### Case_1 -> b : (…, M,)\n",
    "https://github.com/numpy/numpy/blob/v1.23.0/numpy/linalg/linalg.py#L393\n",
    "- Numpy use the b = (…, M,) logic, only if the number of extra dimensions match exactly\n",
    "- i.e (b.ndim == a.ndim - 1)\n",
    "\n",
    "### solve1 (numpy use solve1() for this case)\n",
    "https://github.com/numpy/numpy/blob/v1.23.0/numpy/linalg/umath_linalg.cpp#L4318-L4328\n",
    "\n",
    "(m,m),(m)->(m)\n",
    "- solve the system a x = b, for b being a vector, broadcast in the outer dimensions.\n",
    "- Results in vectors with the solutions.\n",
    "- “(m,m),(m)->(m)”"
   ]
  },
  {
   "cell_type": "code",
   "execution_count": 463,
   "id": "3dd8f80b",
   "metadata": {},
   "outputs": [],
   "source": [
    "import numpy as np"
   ]
  },
  {
   "cell_type": "markdown",
   "id": "59144c30",
   "metadata": {},
   "source": [
    "#### Preparing data having (b.ndim == a.ndim - 1)"
   ]
  },
  {
   "cell_type": "code",
   "execution_count": 464,
   "id": "8e0a7bef",
   "metadata": {},
   "outputs": [],
   "source": [
    "a1 = np.full((5,5), np.eye(5))\n",
    "b1 = np.arange(5)\n",
    "\n",
    "a2 = np.full((3, 5, 5), np.eye(5))\n",
    "b2 = np.arange(3 * 5).reshape(3, 5)\n",
    "\n",
    "a3 = np.full((3, 5, 5), np.eye(5))\n",
    "b3 = np.arange(2 * 5).reshape(2, 5)\n",
    "\n",
    "a4 = np.full((2, 5, 5), np.eye(5))\n",
    "b4 = np.arange(1 * 5).reshape(1, 5)\n",
    "\n",
    "a5 = np.full((2, 5, 5), np.eye(5))\n",
    "b5 = np.arange(5 * 5).reshape(5, 5)\n",
    "\n",
    "a6 = np.full((1, 5, 5), np.eye(5))\n",
    "b6 = np.arange(5 * 5).reshape(5, 5)\n",
    "\n",
    "a7 = np.full((2, 3, 5, 5), np.eye(5))\n",
    "b7 = np.arange(2 * 3 * 5).reshape(2, 3, 5)\n",
    "\n",
    "a8 = np.full((2, 3, 5, 5), np.eye(5))\n",
    "b8 = np.arange(2 * 3 * 5).reshape(3, 2, 5)\n",
    "\n",
    "a9 = np.full((2, 3, 5, 5), np.eye(5))\n",
    "b9 = np.arange(5 * 1 * 5).reshape(5, 1, 5)"
   ]
  },
  {
   "cell_type": "markdown",
   "id": "c7c0ba19",
   "metadata": {},
   "source": [
    "#### Shape of A & B"
   ]
  },
  {
   "cell_type": "code",
   "execution_count": 465,
   "id": "5dbbe89d",
   "metadata": {},
   "outputs": [
    {
     "name": "stdout",
     "output_type": "stream",
     "text": [
      "Sno\tA-dims \t B-dims\t A-shape \t B-shape\n",
      "------------------------------------------------\n",
      "1 \t 2 \t 1 \t (5, 5) \t (5,)\n",
      "2 \t 3 \t 2 \t (3, 5, 5) \t (3, 5)\n",
      "3 \t 3 \t 2 \t (3, 5, 5) \t (2, 5)\n",
      "4 \t 3 \t 2 \t (2, 5, 5) \t (1, 5)\n",
      "5 \t 3 \t 2 \t (2, 5, 5) \t (5, 5)\n",
      "6 \t 3 \t 2 \t (1, 5, 5) \t (5, 5)\n",
      "7 \t 4 \t 3 \t (2, 3, 5, 5) \t (2, 3, 5)\n",
      "8 \t 4 \t 3 \t (2, 3, 5, 5) \t (3, 2, 5)\n",
      "9 \t 4 \t 3 \t (2, 3, 5, 5) \t (5, 1, 5)\n"
     ]
    }
   ],
   "source": [
    "print(\"Sno\\tA-dims \\t B-dims\\t A-shape \\t B-shape\")\n",
    "print(\"------------------------------------------------\")\n",
    "g = globals()\n",
    "\n",
    "for i in range(1, 10):\n",
    "    a = g[\"a\"+str(i)]\n",
    "    b = g[\"b\"+str(i)]\n",
    "    print(i, \"\\t\", a.ndim, \"\\t\", b.ndim, \"\\t\", a.shape, \"\\t\", b.shape)"
   ]
  },
  {
   "cell_type": "markdown",
   "id": "71ec7cbf",
   "metadata": {},
   "source": [
    "#### Testing Numpy solve() & Printing output shape"
   ]
  },
  {
   "cell_type": "code",
   "execution_count": 466,
   "id": "21af5945",
   "metadata": {},
   "outputs": [
    {
     "name": "stdout",
     "output_type": "stream",
     "text": [
      "Sno\tA-dims \t B-dims\t A-shape \t B-shape \t X-shape\n",
      "-----------------------------------------------------------------\n",
      "1 \t 2 \t 1 \t (5, 5) \t (5,) \t (5,)\n",
      "2 \t 3 \t 2 \t (3, 5, 5) \t (3, 5) \t (3, 5)\n",
      "3 \t 3 \t 2 \t (3, 5, 5) \t (2, 5) \t Error\n",
      "4 \t 3 \t 2 \t (2, 5, 5) \t (1, 5) \t (2, 5)\n",
      "5 \t 3 \t 2 \t (2, 5, 5) \t (5, 5) \t Error\n",
      "6 \t 3 \t 2 \t (1, 5, 5) \t (5, 5) \t (5, 5)\n",
      "7 \t 4 \t 3 \t (2, 3, 5, 5) \t (2, 3, 5) \t (2, 3, 5)\n",
      "8 \t 4 \t 3 \t (2, 3, 5, 5) \t (3, 2, 5) \t Error\n",
      "9 \t 4 \t 3 \t (2, 3, 5, 5) \t (5, 1, 5) \t Error\n"
     ]
    }
   ],
   "source": [
    "print(\"Sno\\tA-dims \\t B-dims\\t A-shape \\t B-shape \\t X-shape\")\n",
    "print(\"-----------------------------------------------------------------\")\n",
    "g = globals()\n",
    "\n",
    "for i in range(1, 10):\n",
    "    a = g[\"a\"+str(i)]\n",
    "    b = g[\"b\"+str(i)]\n",
    "    try:\n",
    "        result = np.linalg.solve(a, b)\n",
    "        x = result.shape\n",
    "    except:\n",
    "        x = \"Error\"\n",
    "        \n",
    "    print(i, \"\\t\", a.ndim, \"\\t\", b.ndim, \"\\t\", a.shape, \"\\t\", b.shape, \"\\t\", x)"
   ]
  },
  {
   "cell_type": "markdown",
   "id": "cf4d71e5",
   "metadata": {},
   "source": [
    "### Case_2 -> b : (…, M, K)\n",
    "https://github.com/numpy/numpy/blob/v1.23.0/numpy/linalg/linalg.py#L395\n",
    "- Numpy use b = (…, M,K) logic, when (b.ndim != a.ndim - 1)\n",
    "\n",
    "### solve (numpy uses solve() for this case)\n",
    "https://github.com/numpy/numpy/blob/v1.23.0/numpy/linalg/umath_linalg.cpp#L4307-L4317\n",
    "\n",
    "(m,m),(m,n)->(m,n)\n",
    "- solve the system a x = b, on the last two dimensions, broadcast to the rest.\n",
    "- Results in a matrices with the solutions.\n",
    "- \"(m,m),(m,n)->(m,n)\\\""
   ]
  },
  {
   "cell_type": "markdown",
   "id": "be1d6225",
   "metadata": {},
   "source": [
    "#### Preparing data having (b.ndim != a.ndim - 1)"
   ]
  },
  {
   "cell_type": "code",
   "execution_count": 467,
   "id": "6d6b71fb",
   "metadata": {},
   "outputs": [],
   "source": [
    "a10 = np.full((5,5), np.eye(5))\n",
    "b10 = np.arange(5).reshape(5,1)\n",
    "\n",
    "a11 = np.full((3, 5, 5), np.eye(5))\n",
    "b11 = np.arange(3 * 5 * 2).reshape(3, 5, 2)\n",
    "\n",
    "a12 = np.full((3, 5, 5), np.eye(5))\n",
    "b12 = np.arange(2 * 5 * 3).reshape(2, 5, 3)\n",
    "\n",
    "a13 = np.full((3, 5, 5), np.eye(5))\n",
    "b13 = np.arange(1 * 5 * 3).reshape(1, 5, 3)\n",
    "\n",
    "a14 = np.full((2, 5, 5), np.eye(5))\n",
    "b14 = np.arange(1 * 5 * 5).reshape(1, 5, 5)\n",
    "\n",
    "a15 = np.full((10, 5, 5), np.eye(5))\n",
    "b15 = np.arange(1 * 5 * 10).reshape(10, 5, 1)\n",
    "\n",
    "a16 = np.full((2, 3, 5, 5), np.eye(5))\n",
    "b16 = np.arange(2 * 3 * 5 * 7).reshape(2, 3, 5, 7)\n",
    "\n",
    "a17 = np.full((2, 3, 5, 5), np.eye(5))\n",
    "b17 = np.arange(2 * 3 * 5 * 5).reshape(5, 3, 5, 2)\n",
    "\n",
    "a18 = np.full((2, 3, 5, 5), np.eye(5))\n",
    "b18 = np.arange(2 * 3 * 5 * 5).reshape(2, 5, 5, 3)\n",
    "\n",
    "a19 = np.full((2, 3, 5, 5), np.eye(5))\n",
    "b19 = np.arange(2 * 3 * 5 * 5).reshape(3, 2, 5, 5)"
   ]
  },
  {
   "cell_type": "markdown",
   "id": "0dfb9fd3",
   "metadata": {},
   "source": [
    "#### Shape of A & B"
   ]
  },
  {
   "cell_type": "code",
   "execution_count": 468,
   "id": "1ff63286",
   "metadata": {},
   "outputs": [
    {
     "name": "stdout",
     "output_type": "stream",
     "text": [
      "Sno\tA-dims \t B-dims\t A-shape \t B-shape\n",
      "------------------------------------------------\n",
      "10 \t 2 \t 2 \t (5, 5) \t (5, 1)\n",
      "11 \t 3 \t 3 \t (3, 5, 5) \t (3, 5, 2)\n",
      "12 \t 3 \t 3 \t (3, 5, 5) \t (2, 5, 3)\n",
      "13 \t 3 \t 3 \t (3, 5, 5) \t (1, 5, 3)\n",
      "14 \t 3 \t 3 \t (2, 5, 5) \t (1, 5, 5)\n",
      "15 \t 3 \t 3 \t (10, 5, 5) \t (10, 5, 1)\n",
      "16 \t 4 \t 4 \t (2, 3, 5, 5) \t (2, 3, 5, 7)\n",
      "17 \t 4 \t 4 \t (2, 3, 5, 5) \t (5, 3, 5, 2)\n",
      "18 \t 4 \t 4 \t (2, 3, 5, 5) \t (2, 5, 5, 3)\n",
      "19 \t 4 \t 4 \t (2, 3, 5, 5) \t (3, 2, 5, 5)\n"
     ]
    }
   ],
   "source": [
    "print(\"Sno\\tA-dims \\t B-dims\\t A-shape \\t B-shape\")\n",
    "print(\"------------------------------------------------\")\n",
    "g = globals()\n",
    "\n",
    "for i in range(10, 20):\n",
    "    a = g[\"a\"+str(i)]\n",
    "    b = g[\"b\"+str(i)]\n",
    "    print(i, \"\\t\", a.ndim, \"\\t\", b.ndim, \"\\t\", a.shape, \"\\t\", b.shape)"
   ]
  },
  {
   "cell_type": "markdown",
   "id": "ff5f7cd2",
   "metadata": {},
   "source": [
    "#### Testing Numpy solve() & Printing output shape"
   ]
  },
  {
   "cell_type": "code",
   "execution_count": 469,
   "id": "4263908d",
   "metadata": {},
   "outputs": [
    {
     "name": "stdout",
     "output_type": "stream",
     "text": [
      "Sno\tA-dims \t B-dims\t A-shape \t B-shape \t X-shape\n",
      "-----------------------------------------------------------------\n",
      "10 \t 2 \t 2 \t (5, 5) \t (5, 1) \t (5, 1)\n",
      "11 \t 3 \t 3 \t (3, 5, 5) \t (3, 5, 2) \t (3, 5, 2)\n",
      "12 \t 3 \t 3 \t (3, 5, 5) \t (2, 5, 3) \t Error\n",
      "13 \t 3 \t 3 \t (3, 5, 5) \t (1, 5, 3) \t (3, 5, 3)\n",
      "14 \t 3 \t 3 \t (2, 5, 5) \t (1, 5, 5) \t (2, 5, 5)\n",
      "15 \t 3 \t 3 \t (10, 5, 5) \t (10, 5, 1) \t (10, 5, 1)\n",
      "16 \t 4 \t 4 \t (2, 3, 5, 5) \t (2, 3, 5, 7) \t (2, 3, 5, 7)\n",
      "17 \t 4 \t 4 \t (2, 3, 5, 5) \t (5, 3, 5, 2) \t Error\n",
      "18 \t 4 \t 4 \t (2, 3, 5, 5) \t (2, 5, 5, 3) \t Error\n",
      "19 \t 4 \t 4 \t (2, 3, 5, 5) \t (3, 2, 5, 5) \t Error\n"
     ]
    }
   ],
   "source": [
    "print(\"Sno\\tA-dims \\t B-dims\\t A-shape \\t B-shape \\t X-shape\")\n",
    "print(\"-----------------------------------------------------------------\")\n",
    "g = globals()\n",
    "\n",
    "for i in range(10, 20):\n",
    "    a = g[\"a\"+str(i)]\n",
    "    b = g[\"b\"+str(i)]\n",
    "    try:\n",
    "        result = np.linalg.solve(a, b)\n",
    "        x = result.shape\n",
    "    except:\n",
    "        x = \"Error\"\n",
    "        \n",
    "    print(i, \"\\t\", a.ndim, \"\\t\", b.ndim, \"\\t\", a.shape, \"\\t\", b.shape, \"\\t\", x)"
   ]
  },
  {
   "cell_type": "markdown",
   "id": "9e5fdbc8",
   "metadata": {},
   "source": [
    "## Observation"
   ]
  },
  {
   "cell_type": "markdown",
   "id": "9d4044c1",
   "metadata": {},
   "source": [
    "#### For Case_1 -> b : (…, M,)"
   ]
  },
  {
   "cell_type": "code",
   "execution_count": 470,
   "id": "f0d3be1f",
   "metadata": {},
   "outputs": [
    {
     "data": {
      "text/plain": [
       "((2, 3, 5, 5), (2, 3, 5))"
      ]
     },
     "execution_count": 470,
     "metadata": {},
     "output_type": "execute_result"
    }
   ],
   "source": [
    "a = a7\n",
    "b = b7\n",
    "\n",
    "a.shape, b.shape"
   ]
  },
  {
   "cell_type": "code",
   "execution_count": 471,
   "id": "5b032e9e",
   "metadata": {},
   "outputs": [
    {
     "data": {
      "text/plain": [
       "(2, 3, 5)"
      ]
     },
     "execution_count": 471,
     "metadata": {},
     "output_type": "execute_result"
    }
   ],
   "source": [
    "np.linalg.solve(a, b).shape"
   ]
  },
  {
   "cell_type": "code",
   "execution_count": 472,
   "id": "2ef7ab8d",
   "metadata": {},
   "outputs": [
    {
     "data": {
      "text/plain": [
       "(2, 3)"
      ]
     },
     "execution_count": 472,
     "metadata": {},
     "output_type": "execute_result"
    }
   ],
   "source": [
    "a_dash = a[...,0,0]   # Remove last 2 dimension, a : (…, M,M)\n",
    "b_dash = b[...,0]     # Remove last 1 dimension, a : (…, M,)\n",
    "x = np.broadcast(a_dash, b_dash)   # broadcast remaining dimensions\n",
    "x.shape"
   ]
  },
  {
   "cell_type": "code",
   "execution_count": 473,
   "id": "5b1ac5cd",
   "metadata": {},
   "outputs": [
    {
     "data": {
      "text/plain": [
       "(2, 3, 5)"
      ]
     },
     "execution_count": 473,
     "metadata": {},
     "output_type": "execute_result"
    }
   ],
   "source": [
    "x.shape + b.shape[-1:]   # add (M,) to result => (M, M), (M) -> (M)"
   ]
  },
  {
   "cell_type": "markdown",
   "id": "dcc0b09e",
   "metadata": {},
   "source": [
    "#### for Case_2 -> b : (…, M, K)"
   ]
  },
  {
   "cell_type": "code",
   "execution_count": 474,
   "id": "73a85624",
   "metadata": {},
   "outputs": [
    {
     "data": {
      "text/plain": [
       "((2, 3, 5, 5), (2, 3, 5, 7))"
      ]
     },
     "execution_count": 474,
     "metadata": {},
     "output_type": "execute_result"
    }
   ],
   "source": [
    "a = a16\n",
    "b = b16\n",
    "\n",
    "a.shape, b.shape"
   ]
  },
  {
   "cell_type": "code",
   "execution_count": 475,
   "id": "4bb4f5df",
   "metadata": {},
   "outputs": [
    {
     "data": {
      "text/plain": [
       "(2, 3, 5, 7)"
      ]
     },
     "execution_count": 475,
     "metadata": {},
     "output_type": "execute_result"
    }
   ],
   "source": [
    "np.linalg.solve(a, b).shape"
   ]
  },
  {
   "cell_type": "code",
   "execution_count": 476,
   "id": "ad1bb724",
   "metadata": {},
   "outputs": [
    {
     "data": {
      "text/plain": [
       "(2, 3)"
      ]
     },
     "execution_count": 476,
     "metadata": {},
     "output_type": "execute_result"
    }
   ],
   "source": [
    "a_dash = a[...,0,0]   # Remove last 2 dimension, a : (…, M,M)\n",
    "b_dash = b[...,0,0]     # Remove last 2 dimension, a : (…, M,K)\n",
    "x = np.broadcast(a_dash, b_dash)   # broadcast remaining dimensions\n",
    "x.shape"
   ]
  },
  {
   "cell_type": "code",
   "execution_count": 477,
   "id": "c5169781",
   "metadata": {},
   "outputs": [
    {
     "data": {
      "text/plain": [
       "(2, 3, 5, 7)"
      ]
     },
     "execution_count": 477,
     "metadata": {},
     "output_type": "execute_result"
    }
   ],
   "source": [
    "x.shape + b.shape[-2:]   # add (M,K) to result => (M, M), (M, K) -> (M, K)"
   ]
  },
  {
   "cell_type": "markdown",
   "id": "33c7ce83",
   "metadata": {},
   "source": [
    "## Verifying formula for all the output shape"
   ]
  },
  {
   "cell_type": "code",
   "execution_count": 478,
   "id": "cf401706",
   "metadata": {},
   "outputs": [
    {
     "name": "stdout",
     "output_type": "stream",
     "text": [
      "Sno\tA-dims \t B-dims\t A-shape \t B-shape \t X-shape \t infer_shape\n",
      "----------------------------------------------------------------------------------\n",
      "1        2        1       (5, 5)          (5,)            (5,)            (5,)           \n",
      "2        3        2       (3, 5, 5)       (3, 5)          (3, 5)          (3, 5)         \n",
      "3        3        2       (3, 5, 5)       (2, 5)          Error           Error          \n",
      "4        3        2       (2, 5, 5)       (1, 5)          (2, 5)          (2, 5)         \n",
      "5        3        2       (2, 5, 5)       (5, 5)          Error           Error          \n",
      "6        3        2       (1, 5, 5)       (5, 5)          (5, 5)          (5, 5)         \n",
      "7        4        3       (2, 3, 5, 5)    (2, 3, 5)       (2, 3, 5)       (2, 3, 5)      \n",
      "8        4        3       (2, 3, 5, 5)    (3, 2, 5)       Error           Error          \n",
      "9        4        3       (2, 3, 5, 5)    (5, 1, 5)       Error           Error          \n",
      "10       2        2       (5, 5)          (5, 1)          (5, 1)          (5, 1)         \n",
      "11       3        3       (3, 5, 5)       (3, 5, 2)       (3, 5, 2)       (3, 5, 2)      \n",
      "12       3        3       (3, 5, 5)       (2, 5, 3)       Error           Error          \n",
      "13       3        3       (3, 5, 5)       (1, 5, 3)       (3, 5, 3)       (3, 5, 3)      \n",
      "14       3        3       (2, 5, 5)       (1, 5, 5)       (2, 5, 5)       (2, 5, 5)      \n",
      "15       3        3       (10, 5, 5)      (10, 5, 1)      (10, 5, 1)      (10, 5, 1)     \n",
      "16       4        4       (2, 3, 5, 5)    (2, 3, 5, 7)    (2, 3, 5, 5)    (2, 3, 5, 7)   \n",
      "17       4        4       (2, 3, 5, 5)    (5, 3, 5, 2)    Error           Error          \n",
      "18       4        4       (2, 3, 5, 5)    (2, 5, 5, 3)    Error           Error          \n",
      "19       4        4       (2, 3, 5, 5)    (3, 2, 5, 5)    Error           Error          \n"
     ]
    }
   ],
   "source": [
    "print(\"Sno\\tA-dims \\t B-dims\\t A-shape \\t B-shape \\t X-shape \\t infer_shape\")\n",
    "print(\"----------------------------------------------------------------------------------\")\n",
    "g = globals()\n",
    "\n",
    "for i in range(1, 20):\n",
    "    a = g[\"a\"+str(i)]\n",
    "    b = g[\"b\"+str(i)]\n",
    "    try:\n",
    "        x = g[\"x\"+str(i)].shape\n",
    "    except:\n",
    "        x = \"Error\"\n",
    "        \n",
    "    #---------------------------------------------------------------------\n",
    "    # Calculate infet_shape\n",
    "    \n",
    "    # Case_1 -> b : (…, M,)\n",
    "    if(b.ndim == a.ndim - 1):\n",
    "        a_dash = a[...,0,0]   # Remove last 2 dimension, a : (…, M,M)\n",
    "        b_dash = b[...,0]     # Remove last 1 dimension, b : (…, M,)\n",
    "        try:\n",
    "            # try to broadcast remaining dimensions and add (M,) to it => (M, M), (M) -> (M)\n",
    "            infer_shape = np.broadcast(a_dash, b_dash).shape + tuple(b.shape[-1:])\n",
    "        except:\n",
    "            # Incorrect number of input dimensions. Cannot infer shape.\n",
    "            infer_shape = \"Error\"\n",
    "    \n",
    "    # Case_2 -> b : (…, M,K)\n",
    "    else:\n",
    "        a_dash = a[...,0,0]   # Remove last 2 dimension, a : (…, M,M)\n",
    "        b_dash = b[...,0,0]   # Remove last 2 dimension, b : (…, M,K)\n",
    "        try:\n",
    "            # try to broadcast remaining dimensions and add (M,K) to it => (M, M), (M, K) -> (M, K)\n",
    "            infer_shape = np.broadcast(a_dash, b_dash).shape + tuple(b.shape[-2:])\n",
    "        except:\n",
    "            # Incorrect number of input dimensions. Cannot infer shape.\n",
    "            infer_shape = \"Error\"\n",
    "    #--------------------------------------------------------------------\n",
    "    \n",
    "    #print(i, \"\\t\", a.ndim, \"\\t\", b.ndim, \"\\t\", a.shape, \"\\t\", b.shape, \"\\t\", x, \"\\t\", infer_shape)\n",
    "    print(\"{:<7}  {:<7}  {:<7} {:<15} {:<15} {:<15} {:<15}\".format(i, a.ndim, b.ndim, str(a.shape), str(b.shape), str(x), str(infer_shape)))"
   ]
  },
  {
   "cell_type": "markdown",
   "id": "24122b7b",
   "metadata": {},
   "source": [
    "#### Other Referance\n",
    "https://stackoverflow.com/questions/48387261/numpy-linalg-solve-with-right-hand-side-of-more-than-three-dimensions\n",
    "\n",
    "Broadcast rule: https://numpy.org/devdocs/user/basics.broadcasting.html#broadcastable-arrays\n",
    "\n",
    "https://stackoverflow.com/questions/47243451/checking-if-two-arrays-are-broadcastable-in-python\n",
    "\n",
    "https://stackoverflow.com/questions/37152031/numpy-remove-a-dimension-from-np-array"
   ]
  },
  {
   "cell_type": "code",
   "execution_count": null,
   "id": "f2bd783d",
   "metadata": {},
   "outputs": [],
   "source": []
  }
 ],
 "metadata": {
  "kernelspec": {
   "display_name": "Python 3 (ipykernel)",
   "language": "python",
   "name": "python3"
  },
  "language_info": {
   "codemirror_mode": {
    "name": "ipython",
    "version": 3
   },
   "file_extension": ".py",
   "mimetype": "text/x-python",
   "name": "python",
   "nbconvert_exporter": "python",
   "pygments_lexer": "ipython3",
   "version": "3.10.5"
  }
 },
 "nbformat": 4,
 "nbformat_minor": 5
}
