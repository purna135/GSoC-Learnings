{
 "cells": [
  {
   "cell_type": "code",
   "execution_count": 1,
   "id": "5d7f2b08",
   "metadata": {},
   "outputs": [
    {
     "name": "stdout",
     "output_type": "stream",
     "text": [
      "WARN: Could not locate executable g77\n",
      "WARN: Could not locate executable f77\n",
      "WARN: Could not locate executable ifort\n",
      "WARN: Could not locate executable ifl\n",
      "WARN: Could not locate executable f90\n",
      "WARN: Could not locate executable DF\n",
      "WARN: Could not locate executable efl\n"
     ]
    }
   ],
   "source": [
    "import numpy as np\n",
    "import aesara.tensor as at"
   ]
  },
  {
   "cell_type": "code",
   "execution_count": 2,
   "id": "2c4769bb",
   "metadata": {},
   "outputs": [
    {
     "data": {
      "text/plain": [
       "(4, 4)"
      ]
     },
     "execution_count": 2,
     "metadata": {},
     "output_type": "execute_result"
    }
   ],
   "source": [
    "A2 = np.array([[6, 3, 4, 8], [3, 6, 5, 1], [4, 5, 10, 7], [8, 1, 7, 25]])\n",
    "A2.shape"
   ]
  },
  {
   "cell_type": "markdown",
   "id": "24783021",
   "metadata": {},
   "source": [
    "## Aesara Scipy Cholesky with np.vectorize"
   ]
  },
  {
   "cell_type": "code",
   "execution_count": 3,
   "id": "7c943732",
   "metadata": {},
   "outputs": [
    {
     "name": "stdout",
     "output_type": "stream",
     "text": [
      "NP Vectorize...\n"
     ]
    },
    {
     "data": {
      "text/plain": [
       "array([[2, 1, 2, 2],\n",
       "       [1, 2, 2, 1],\n",
       "       [2, 2, 3, 2],\n",
       "       [2, 1, 2, 5]])"
      ]
     },
     "execution_count": 3,
     "metadata": {},
     "output_type": "execute_result"
    }
   ],
   "source": [
    "at.linalg.cholesky(A2).eval()"
   ]
  },
  {
   "cell_type": "code",
   "execution_count": 4,
   "id": "e425d617",
   "metadata": {},
   "outputs": [
    {
     "data": {
      "text/plain": [
       "(2, 4, 4)"
      ]
     },
     "execution_count": 4,
     "metadata": {},
     "output_type": "execute_result"
    }
   ],
   "source": [
    "A3 = np.array([A2, A2])\n",
    "A3.shape"
   ]
  },
  {
   "cell_type": "code",
   "execution_count": 5,
   "id": "c59016a4",
   "metadata": {},
   "outputs": [
    {
     "name": "stdout",
     "output_type": "stream",
     "text": [
      "NP Vectorize...\n"
     ]
    },
    {
     "data": {
      "text/plain": [
       "array([[[2, 1, 2, 2],\n",
       "        [1, 2, 2, 1],\n",
       "        [2, 2, 3, 2],\n",
       "        [2, 1, 2, 5]],\n",
       "\n",
       "       [[2, 1, 2, 2],\n",
       "        [1, 2, 2, 1],\n",
       "        [2, 2, 3, 2],\n",
       "        [2, 1, 2, 5]]])"
      ]
     },
     "execution_count": 5,
     "metadata": {},
     "output_type": "execute_result"
    }
   ],
   "source": [
    "at.linalg.cholesky(A3).eval()"
   ]
  },
  {
   "cell_type": "markdown",
   "id": "bfae9b78",
   "metadata": {},
   "source": [
    "## Aesara-Numpy Cholesky"
   ]
  },
  {
   "cell_type": "code",
   "execution_count": 6,
   "id": "f2e544af",
   "metadata": {},
   "outputs": [
    {
     "data": {
      "text/plain": [
       "array([[ 2,  0,  0,  0],\n",
       "       [ 1,  2,  0,  0],\n",
       "       [ 1,  1,  2,  0],\n",
       "       [ 3, -1,  1,  3]])"
      ]
     },
     "execution_count": 6,
     "metadata": {},
     "output_type": "execute_result"
    }
   ],
   "source": [
    "at.linalg.cholesky_np(A2).eval()"
   ]
  },
  {
   "cell_type": "code",
   "execution_count": 7,
   "id": "8b148962",
   "metadata": {},
   "outputs": [
    {
     "data": {
      "text/plain": [
       "array([[[ 2,  0,  0,  0],\n",
       "        [ 1,  2,  0,  0],\n",
       "        [ 1,  1,  2,  0],\n",
       "        [ 3, -1,  1,  3]],\n",
       "\n",
       "       [[ 2,  0,  0,  0],\n",
       "        [ 1,  2,  0,  0],\n",
       "        [ 1,  1,  2,  0],\n",
       "        [ 3, -1,  1,  3]]])"
      ]
     },
     "execution_count": 7,
     "metadata": {},
     "output_type": "execute_result"
    }
   ],
   "source": [
    "at.linalg.cholesky_np(A3).eval()"
   ]
  },
  {
   "cell_type": "markdown",
   "id": "65c6a767",
   "metadata": {},
   "source": [
    "## Scipy Cholesky"
   ]
  },
  {
   "cell_type": "code",
   "execution_count": 8,
   "id": "ac666ae7",
   "metadata": {},
   "outputs": [],
   "source": [
    "import scipy"
   ]
  },
  {
   "cell_type": "code",
   "execution_count": 9,
   "id": "2d4a63c1",
   "metadata": {},
   "outputs": [
    {
     "data": {
      "text/plain": [
       "array([[ 2.44948974,  0.        ,  0.        ,  0.        ],\n",
       "       [ 1.22474487,  2.12132034,  0.        ,  0.        ],\n",
       "       [ 1.63299316,  1.41421356,  2.30940108,  0.        ],\n",
       "       [ 3.26598632, -1.41421356,  1.58771324,  3.13249102]])"
      ]
     },
     "execution_count": 9,
     "metadata": {},
     "output_type": "execute_result"
    }
   ],
   "source": [
    "scipy.linalg.cholesky(A2, lower=True)"
   ]
  },
  {
   "cell_type": "code",
   "execution_count": 10,
   "id": "3a698306",
   "metadata": {},
   "outputs": [
    {
     "data": {
      "text/plain": [
       "array([[[2.44948974, 1.73205081, 2.        , 2.82842712],\n",
       "        [1.73205081, 2.44948974, 2.23606798, 1.        ],\n",
       "        [2.        , 2.23606798, 3.16227766, 2.64575131],\n",
       "        [2.82842712, 1.        , 2.64575131, 5.        ]],\n",
       "\n",
       "       [[2.44948974, 1.73205081, 2.        , 2.82842712],\n",
       "        [1.73205081, 2.44948974, 2.23606798, 1.        ],\n",
       "        [2.        , 2.23606798, 3.16227766, 2.64575131],\n",
       "        [2.82842712, 1.        , 2.64575131, 5.        ]]])"
      ]
     },
     "execution_count": 10,
     "metadata": {},
     "output_type": "execute_result"
    }
   ],
   "source": [
    "vfun = np.vectorize(scipy.linalg.cholesky)\n",
    "vfun(A3)"
   ]
  },
  {
   "cell_type": "markdown",
   "id": "e5820825",
   "metadata": {},
   "source": [
    "## Numpy Cholesky"
   ]
  },
  {
   "cell_type": "code",
   "execution_count": 11,
   "id": "1ddc43cb",
   "metadata": {},
   "outputs": [
    {
     "data": {
      "text/plain": [
       "array([[ 2.44948974,  0.        ,  0.        ,  0.        ],\n",
       "       [ 1.22474487,  2.12132034,  0.        ,  0.        ],\n",
       "       [ 1.63299316,  1.41421356,  2.30940108,  0.        ],\n",
       "       [ 3.26598632, -1.41421356,  1.58771324,  3.13249102]])"
      ]
     },
     "execution_count": 11,
     "metadata": {},
     "output_type": "execute_result"
    }
   ],
   "source": [
    "np.linalg.cholesky(A2)"
   ]
  },
  {
   "cell_type": "code",
   "execution_count": 12,
   "id": "52d8d501",
   "metadata": {},
   "outputs": [
    {
     "data": {
      "text/plain": [
       "array([[[ 2.44948974,  0.        ,  0.        ,  0.        ],\n",
       "        [ 1.22474487,  2.12132034,  0.        ,  0.        ],\n",
       "        [ 1.63299316,  1.41421356,  2.30940108,  0.        ],\n",
       "        [ 3.26598632, -1.41421356,  1.58771324,  3.13249102]],\n",
       "\n",
       "       [[ 2.44948974,  0.        ,  0.        ,  0.        ],\n",
       "        [ 1.22474487,  2.12132034,  0.        ,  0.        ],\n",
       "        [ 1.63299316,  1.41421356,  2.30940108,  0.        ],\n",
       "        [ 3.26598632, -1.41421356,  1.58771324,  3.13249102]]])"
      ]
     },
     "execution_count": 12,
     "metadata": {},
     "output_type": "execute_result"
    }
   ],
   "source": [
    "np.linalg.cholesky(A3)"
   ]
  },
  {
   "cell_type": "markdown",
   "id": "45d71ab1",
   "metadata": {},
   "source": [
    "## Testing diff cholesky"
   ]
  },
  {
   "cell_type": "code",
   "execution_count": 13,
   "id": "0141bc1d",
   "metadata": {},
   "outputs": [
    {
     "name": "stdout",
     "output_type": "stream",
     "text": [
      "NP Vectorize...\n"
     ]
    },
    {
     "data": {
      "text/plain": [
       "False"
      ]
     },
     "execution_count": 13,
     "metadata": {},
     "output_type": "execute_result"
    }
   ],
   "source": [
    "# Aesara scipy with vectorization vs Numpy\n",
    "\n",
    "at_cholesky_vectorized = at.linalg.cholesky(A2).eval()\n",
    "numpy_cholesky = np.linalg.cholesky(A2).astype(A2.dtype)\n",
    "\n",
    "np.allclose(at_cholesky_vectorized, numpy_cholesky)"
   ]
  },
  {
   "cell_type": "code",
   "execution_count": 14,
   "id": "9df2981c",
   "metadata": {},
   "outputs": [
    {
     "name": "stdout",
     "output_type": "stream",
     "text": [
      "NP Vectorize...\n"
     ]
    },
    {
     "data": {
      "text/plain": [
       "False"
      ]
     },
     "execution_count": 14,
     "metadata": {},
     "output_type": "execute_result"
    }
   ],
   "source": [
    "# Aesara scipy with vectorization vs Scipy\n",
    "\n",
    "at_cholesky_vectorized = at.linalg.cholesky(A2).eval()\n",
    "scipy_cholesky = scipy.linalg.cholesky(A2, lower=True).astype(A2.dtype)\n",
    "\n",
    "np.allclose(at_cholesky_vectorized, scipy_cholesky)"
   ]
  },
  {
   "cell_type": "code",
   "execution_count": 15,
   "id": "d953d961",
   "metadata": {},
   "outputs": [
    {
     "data": {
      "text/plain": [
       "True"
      ]
     },
     "execution_count": 15,
     "metadata": {},
     "output_type": "execute_result"
    }
   ],
   "source": [
    "# Aesara Numpy inplementation vs Numpy\n",
    "\n",
    "at_cholesky_np = at.linalg.cholesky_np(A2).eval()\n",
    "numpy_cholesky = np.linalg.cholesky(A2).astype(A2.dtype)\n",
    "\n",
    "np.allclose(at_cholesky_np, numpy_cholesky)"
   ]
  },
  {
   "cell_type": "code",
   "execution_count": 16,
   "id": "d36154a0",
   "metadata": {},
   "outputs": [
    {
     "data": {
      "text/plain": [
       "True"
      ]
     },
     "execution_count": 16,
     "metadata": {},
     "output_type": "execute_result"
    }
   ],
   "source": [
    "# Aesara Numpy inplementation vs Scipy\n",
    "\n",
    "at_cholesky_np = at.linalg.cholesky_np(A2).eval()\n",
    "scipy_cholesky = scipy.linalg.cholesky(A2, lower=True).astype(A2.dtype)\n",
    "\n",
    "np.allclose(at_cholesky_np, scipy_cholesky)"
   ]
  },
  {
   "cell_type": "code",
   "execution_count": null,
   "id": "b26bb16d",
   "metadata": {},
   "outputs": [],
   "source": []
  }
 ],
 "metadata": {
  "kernelspec": {
   "display_name": "Python 3 (ipykernel)",
   "language": "python",
   "name": "python3"
  },
  "language_info": {
   "codemirror_mode": {
    "name": "ipython",
    "version": 3
   },
   "file_extension": ".py",
   "mimetype": "text/x-python",
   "name": "python",
   "nbconvert_exporter": "python",
   "pygments_lexer": "ipython3",
   "version": "3.9.12"
  }
 },
 "nbformat": 4,
 "nbformat_minor": 5
}
