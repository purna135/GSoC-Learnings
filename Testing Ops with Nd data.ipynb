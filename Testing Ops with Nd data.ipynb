{
 "cells": [
  {
   "cell_type": "markdown",
   "id": "a1a54266",
   "metadata": {},
   "source": [
    "## Results\n",
    "Below Ops are not supporting batched data\n",
    "1. at.linalg.det\n",
    "2. at.linalg.eigh\n",
    "3. matrix_inverse\n",
    "4. cholesky"
   ]
  },
  {
   "cell_type": "code",
   "execution_count": 2,
   "id": "b862e3b6",
   "metadata": {},
   "outputs": [],
   "source": [
    "import numpy as np\n",
    "import aesara.tensor as at"
   ]
  },
  {
   "cell_type": "code",
   "execution_count": 15,
   "id": "a2c907a5",
   "metadata": {},
   "outputs": [
    {
     "data": {
      "text/plain": [
       "((3, 3), (2, 3, 3))"
      ]
     },
     "execution_count": 15,
     "metadata": {},
     "output_type": "execute_result"
    }
   ],
   "source": [
    "d2 = np.full((3,3), np.eye(3))\n",
    "d3 = np.full((2,3,3), np.eye(3))\n",
    "d2.shape, d3.shape"
   ]
  },
  {
   "cell_type": "markdown",
   "id": "356e986b",
   "metadata": {},
   "source": [
    "## at.broadcast_arrays"
   ]
  },
  {
   "cell_type": "code",
   "execution_count": 7,
   "id": "01007ba7",
   "metadata": {},
   "outputs": [
    {
     "data": {
      "text/plain": [
       "(BroadcastTo.0, BroadcastTo.0)"
      ]
     },
     "execution_count": 7,
     "metadata": {},
     "output_type": "execute_result"
    }
   ],
   "source": [
    "at.broadcast_arrays(d2, d3)"
   ]
  },
  {
   "cell_type": "markdown",
   "id": "89e98e43",
   "metadata": {},
   "source": [
    "## at.concatenate"
   ]
  },
  {
   "cell_type": "code",
   "execution_count": 13,
   "id": "2330ec4d",
   "metadata": {},
   "outputs": [
    {
     "data": {
      "text/plain": [
       "array([[[1., 0., 0.],\n",
       "        [0., 1., 0.],\n",
       "        [0., 0., 1.]],\n",
       "\n",
       "       [[1., 0., 0.],\n",
       "        [0., 1., 0.],\n",
       "        [0., 0., 1.]],\n",
       "\n",
       "       [[1., 0., 0.],\n",
       "        [0., 1., 0.],\n",
       "        [0., 0., 1.]],\n",
       "\n",
       "       [[1., 0., 0.],\n",
       "        [0., 1., 0.],\n",
       "        [0., 0., 1.]]])"
      ]
     },
     "execution_count": 13,
     "metadata": {},
     "output_type": "execute_result"
    }
   ],
   "source": [
    "at.concatenate([d3, d3]).eval()"
   ]
  },
  {
   "cell_type": "markdown",
   "id": "b0f97064",
   "metadata": {},
   "source": [
    "## at.full"
   ]
  },
  {
   "cell_type": "code",
   "execution_count": 19,
   "id": "09f71326",
   "metadata": {},
   "outputs": [
    {
     "data": {
      "text/plain": [
       "array([[[1, 1],\n",
       "        [1, 1]],\n",
       "\n",
       "       [[1, 1],\n",
       "        [1, 1]]], dtype=int8)"
      ]
     },
     "execution_count": 19,
     "metadata": {},
     "output_type": "execute_result"
    }
   ],
   "source": [
    "at.full((2,2,2), 1).eval()"
   ]
  },
  {
   "cell_type": "markdown",
   "id": "2ac1bc37",
   "metadata": {},
   "source": [
    "## at.diag"
   ]
  },
  {
   "cell_type": "code",
   "execution_count": 20,
   "id": "7f900a5d",
   "metadata": {},
   "outputs": [
    {
     "data": {
      "text/plain": [
       "array([[1., 0.],\n",
       "       [0., 1.],\n",
       "       [0., 0.]])"
      ]
     },
     "execution_count": 20,
     "metadata": {},
     "output_type": "execute_result"
    }
   ],
   "source": [
    "at.diag(d3).eval()"
   ]
  },
  {
   "cell_type": "markdown",
   "id": "d1ff805a",
   "metadata": {},
   "source": [
    "## at.all"
   ]
  },
  {
   "cell_type": "code",
   "execution_count": 22,
   "id": "0bd7ac4e",
   "metadata": {},
   "outputs": [
    {
     "data": {
      "text/plain": [
       "array(False)"
      ]
     },
     "execution_count": 22,
     "metadata": {},
     "output_type": "execute_result"
    }
   ],
   "source": [
    "at.all(d3).eval()"
   ]
  },
  {
   "cell_type": "markdown",
   "id": "1e4abe00",
   "metadata": {},
   "source": [
    "## at.sum"
   ]
  },
  {
   "cell_type": "code",
   "execution_count": 25,
   "id": "a188dad1",
   "metadata": {},
   "outputs": [
    {
     "data": {
      "text/plain": [
       "array(6.)"
      ]
     },
     "execution_count": 25,
     "metadata": {},
     "output_type": "execute_result"
    }
   ],
   "source": [
    "at.sum(d3).eval()"
   ]
  },
  {
   "cell_type": "markdown",
   "id": "04a37854",
   "metadata": {},
   "source": [
    "## at.log"
   ]
  },
  {
   "cell_type": "code",
   "execution_count": 27,
   "id": "5f5dd5ee",
   "metadata": {},
   "outputs": [
    {
     "data": {
      "text/plain": [
       "array([[[  0., -inf, -inf],\n",
       "        [-inf,   0., -inf],\n",
       "        [-inf, -inf,   0.]],\n",
       "\n",
       "       [[  0., -inf, -inf],\n",
       "        [-inf,   0., -inf],\n",
       "        [-inf, -inf,   0.]]])"
      ]
     },
     "execution_count": 27,
     "metadata": {},
     "output_type": "execute_result"
    }
   ],
   "source": [
    "at.log(d3).eval()"
   ]
  },
  {
   "cell_type": "markdown",
   "id": "e3f8d525",
   "metadata": {},
   "source": [
    "## at.dot"
   ]
  },
  {
   "cell_type": "code",
   "execution_count": 29,
   "id": "507501e4",
   "metadata": {},
   "outputs": [
    {
     "data": {
      "text/plain": [
       "array([[[1., 0., 0.],\n",
       "        [1., 0., 0.]],\n",
       "\n",
       "       [[0., 1., 0.],\n",
       "        [0., 1., 0.]],\n",
       "\n",
       "       [[0., 0., 1.],\n",
       "        [0., 0., 1.]]])"
      ]
     },
     "execution_count": 29,
     "metadata": {},
     "output_type": "execute_result"
    }
   ],
   "source": [
    "at.dot(d2, d3).eval()"
   ]
  },
  {
   "cell_type": "markdown",
   "id": "44851ca9",
   "metadata": {},
   "source": [
    "## aesara.tensor.gammaln"
   ]
  },
  {
   "cell_type": "code",
   "execution_count": 30,
   "id": "ef0643b6",
   "metadata": {},
   "outputs": [
    {
     "data": {
      "text/plain": [
       "array([[[ 0., inf, inf],\n",
       "        [inf,  0., inf],\n",
       "        [inf, inf,  0.]],\n",
       "\n",
       "       [[ 0., inf, inf],\n",
       "        [inf,  0., inf],\n",
       "        [inf, inf,  0.]]])"
      ]
     },
     "execution_count": 30,
     "metadata": {},
     "output_type": "execute_result"
    }
   ],
   "source": [
    "at.gammaln(d3).eval()"
   ]
  },
  {
   "cell_type": "markdown",
   "id": "423c7fd6",
   "metadata": {},
   "source": [
    "## at.log1p"
   ]
  },
  {
   "cell_type": "code",
   "execution_count": 31,
   "id": "69ffe3f8",
   "metadata": {},
   "outputs": [
    {
     "data": {
      "text/plain": [
       "array([[[0.69314718, 0.        , 0.        ],\n",
       "        [0.        , 0.69314718, 0.        ],\n",
       "        [0.        , 0.        , 0.69314718]],\n",
       "\n",
       "       [[0.69314718, 0.        , 0.        ],\n",
       "        [0.        , 0.69314718, 0.        ],\n",
       "        [0.        , 0.        , 0.69314718]]])"
      ]
     },
     "execution_count": 31,
     "metadata": {},
     "output_type": "execute_result"
    }
   ],
   "source": [
    "at.log1p(d3).eval()"
   ]
  },
  {
   "cell_type": "markdown",
   "id": "9c14cacd",
   "metadata": {},
   "source": [
    "## at.transpose"
   ]
  },
  {
   "cell_type": "code",
   "execution_count": 16,
   "id": "3521ba17",
   "metadata": {},
   "outputs": [
    {
     "data": {
      "text/plain": [
       "array([[[1., 1.],\n",
       "        [0., 0.],\n",
       "        [0., 0.]],\n",
       "\n",
       "       [[0., 0.],\n",
       "        [1., 1.],\n",
       "        [0., 0.]],\n",
       "\n",
       "       [[0., 0.],\n",
       "        [0., 0.],\n",
       "        [1., 1.]]])"
      ]
     },
     "execution_count": 16,
     "metadata": {},
     "output_type": "execute_result"
    }
   ],
   "source": [
    "at.transpose(d3).eval()"
   ]
  },
  {
   "cell_type": "code",
   "execution_count": 17,
   "id": "6ac985b2",
   "metadata": {},
   "outputs": [
    {
     "data": {
      "text/plain": [
       "True"
      ]
     },
     "execution_count": 17,
     "metadata": {},
     "output_type": "execute_result"
    }
   ],
   "source": [
    "np.allclose(np.transpose(d3), at.transpose(d3).eval())"
   ]
  },
  {
   "cell_type": "code",
   "execution_count": 20,
   "id": "3b16ef89",
   "metadata": {},
   "outputs": [],
   "source": [
    "x1 = np.arange(3*3).reshape(3,3)\n",
    "x2 = np.arange(1*2*3).reshape(3,3)\n",
    "x3 = np.arange(1*2*3*4).reshape(3,3)"
   ]
  },
  {
   "cell_type": "code",
   "execution_count": 11,
   "id": "168d84d5",
   "metadata": {},
   "outputs": [
    {
     "data": {
      "text/plain": [
       "True"
      ]
     },
     "execution_count": 11,
     "metadata": {},
     "output_type": "execute_result"
    }
   ],
   "source": [
    "np.allclose(np.transpose(x1), at.transpose(x1).eval())"
   ]
  },
  {
   "cell_type": "code",
   "execution_count": 12,
   "id": "c13ba232",
   "metadata": {},
   "outputs": [
    {
     "data": {
      "text/plain": [
       "True"
      ]
     },
     "execution_count": 12,
     "metadata": {},
     "output_type": "execute_result"
    }
   ],
   "source": [
    "np.allclose(np.transpose(x2), at.transpose(x2).eval())"
   ]
  },
  {
   "cell_type": "code",
   "execution_count": 13,
   "id": "69e5d8c5",
   "metadata": {},
   "outputs": [
    {
     "data": {
      "text/plain": [
       "True"
      ]
     },
     "execution_count": 13,
     "metadata": {},
     "output_type": "execute_result"
    }
   ],
   "source": [
    "np.allclose(np.transpose(x2), at.transpose(x2).eval())"
   ]
  },
  {
   "cell_type": "markdown",
   "id": "4f192edd",
   "metadata": {},
   "source": [
    "# at.sqrt"
   ]
  },
  {
   "cell_type": "code",
   "execution_count": 34,
   "id": "37debe21",
   "metadata": {},
   "outputs": [
    {
     "data": {
      "text/plain": [
       "array([[[1., 0., 0.],\n",
       "        [0., 1., 0.],\n",
       "        [0., 0., 1.]],\n",
       "\n",
       "       [[1., 0., 0.],\n",
       "        [0., 1., 0.],\n",
       "        [0., 0., 1.]]])"
      ]
     },
     "execution_count": 34,
     "metadata": {},
     "output_type": "execute_result"
    }
   ],
   "source": [
    "at.sqrt(d3).eval()"
   ]
  },
  {
   "cell_type": "markdown",
   "id": "32bb403d",
   "metadata": {},
   "source": [
    "## at.batched_dot"
   ]
  },
  {
   "cell_type": "code",
   "execution_count": 48,
   "id": "b6f9348e",
   "metadata": {},
   "outputs": [
    {
     "data": {
      "text/plain": [
       "array([[[1., 0., 0.],\n",
       "        [0., 1., 0.],\n",
       "        [0., 0., 1.]],\n",
       "\n",
       "       [[1., 0., 0.],\n",
       "        [0., 1., 0.],\n",
       "        [0., 0., 1.]]])"
      ]
     },
     "execution_count": 48,
     "metadata": {},
     "output_type": "execute_result"
    }
   ],
   "source": [
    "at.batched_dot(d3, d3).eval()"
   ]
  },
  {
   "cell_type": "markdown",
   "id": "c04bf26c",
   "metadata": {},
   "source": [
    "## at.full_like"
   ]
  },
  {
   "cell_type": "code",
   "execution_count": 51,
   "id": "ffb16066",
   "metadata": {},
   "outputs": [
    {
     "data": {
      "text/plain": [
       "array([[[1, 1, 1],\n",
       "        [1, 1, 1],\n",
       "        [1, 1, 1]],\n",
       "\n",
       "       [[1, 1, 1],\n",
       "        [1, 1, 1],\n",
       "        [1, 1, 1]]], dtype=int8)"
      ]
     },
     "execution_count": 51,
     "metadata": {},
     "output_type": "execute_result"
    }
   ],
   "source": [
    "at.full_like(d3, 1).eval()"
   ]
  },
  {
   "cell_type": "markdown",
   "id": "1048b5f7",
   "metadata": {},
   "source": [
    "## at.nlinalg.matrix_dot"
   ]
  },
  {
   "cell_type": "code",
   "execution_count": 53,
   "id": "d38f6969",
   "metadata": {},
   "outputs": [
    {
     "data": {
      "text/plain": [
       "array([[[[1., 0., 0.],\n",
       "         [1., 0., 0.]],\n",
       "\n",
       "        [[0., 1., 0.],\n",
       "         [0., 1., 0.]],\n",
       "\n",
       "        [[0., 0., 1.],\n",
       "         [0., 0., 1.]]],\n",
       "\n",
       "\n",
       "       [[[1., 0., 0.],\n",
       "         [1., 0., 0.]],\n",
       "\n",
       "        [[0., 1., 0.],\n",
       "         [0., 1., 0.]],\n",
       "\n",
       "        [[0., 0., 1.],\n",
       "         [0., 0., 1.]]]])"
      ]
     },
     "execution_count": 53,
     "metadata": {},
     "output_type": "execute_result"
    }
   ],
   "source": [
    "at.nlinalg.matrix_dot(d3, d3).eval()"
   ]
  },
  {
   "cell_type": "markdown",
   "id": "94e1c265",
   "metadata": {},
   "source": [
    "## at.nlinalg.trace"
   ]
  },
  {
   "cell_type": "code",
   "execution_count": 55,
   "id": "974dd71a",
   "metadata": {},
   "outputs": [
    {
     "data": {
      "text/plain": [
       "array(2.)"
      ]
     },
     "execution_count": 55,
     "metadata": {},
     "output_type": "execute_result"
    }
   ],
   "source": [
    "at.nlinalg.trace(d3).eval()"
   ]
  },
  {
   "cell_type": "markdown",
   "id": "0712eb9d",
   "metadata": {},
   "source": [
    "## at.zeros_like"
   ]
  },
  {
   "cell_type": "code",
   "execution_count": 57,
   "id": "e969c5c5",
   "metadata": {},
   "outputs": [
    {
     "data": {
      "text/plain": [
       "array([[[0., 0., 0.],\n",
       "        [0., 0., 0.],\n",
       "        [0., 0., 0.]],\n",
       "\n",
       "       [[0., 0., 0.],\n",
       "        [0., 0., 0.],\n",
       "        [0., 0., 0.]]])"
      ]
     },
     "execution_count": 57,
     "metadata": {},
     "output_type": "execute_result"
    }
   ],
   "source": [
    "at.zeros_like(d3).eval()"
   ]
  },
  {
   "cell_type": "markdown",
   "id": "9777b5d8",
   "metadata": {},
   "source": [
    "## at.take"
   ]
  },
  {
   "cell_type": "code",
   "execution_count": 60,
   "id": "0d894d25",
   "metadata": {},
   "outputs": [
    {
     "data": {
      "text/plain": [
       "array([1., 0., 0.])"
      ]
     },
     "execution_count": 60,
     "metadata": {},
     "output_type": "execute_result"
    }
   ],
   "source": [
    "at.take(d3, [0,1,2]).eval()"
   ]
  },
  {
   "cell_type": "markdown",
   "id": "bbbeef92",
   "metadata": {},
   "source": [
    "## at.fill_diagonal"
   ]
  },
  {
   "cell_type": "code",
   "execution_count": 65,
   "id": "c38fec35",
   "metadata": {},
   "outputs": [
    {
     "data": {
      "text/plain": [
       "array([[3., 0., 0.],\n",
       "       [0., 3., 0.],\n",
       "       [0., 0., 3.]])"
      ]
     },
     "execution_count": 65,
     "metadata": {},
     "output_type": "execute_result"
    }
   ],
   "source": [
    "at.fill_diagonal(d2, 3).eval()"
   ]
  },
  {
   "cell_type": "code",
   "execution_count": 79,
   "id": "c9ce25db",
   "metadata": {},
   "outputs": [
    {
     "data": {
      "text/plain": [
       "array([[[4., 0., 0.],\n",
       "        [0., 0., 0.],\n",
       "        [0., 0., 0.]],\n",
       "\n",
       "       [[0., 0., 0.],\n",
       "        [0., 4., 0.],\n",
       "        [0., 0., 0.]],\n",
       "\n",
       "       [[0., 0., 0.],\n",
       "        [0., 0., 0.],\n",
       "        [0., 0., 4.]]])"
      ]
     },
     "execution_count": 79,
     "metadata": {},
     "output_type": "execute_result"
    }
   ],
   "source": [
    "a = np.zeros((3, 3, 3))\n",
    "at.fill_diagonal(a, 4).eval()"
   ]
  },
  {
   "cell_type": "markdown",
   "id": "9dc68cfe",
   "metadata": {},
   "source": [
    "## at.linalg.det"
   ]
  },
  {
   "cell_type": "code",
   "execution_count": 89,
   "id": "f22ba01d",
   "metadata": {},
   "outputs": [
    {
     "ename": "AssertionError",
     "evalue": "",
     "output_type": "error",
     "traceback": [
      "\u001b[1;31m---------------------------------------------------------------------------\u001b[0m",
      "\u001b[1;31mAssertionError\u001b[0m                            Traceback (most recent call last)",
      "Input \u001b[1;32mIn [89]\u001b[0m, in \u001b[0;36m<cell line: 1>\u001b[1;34m()\u001b[0m\n\u001b[1;32m----> 1\u001b[0m \u001b[43mat\u001b[49m\u001b[38;5;241;43m.\u001b[39;49m\u001b[43mlinalg\u001b[49m\u001b[38;5;241;43m.\u001b[39;49m\u001b[43mdet\u001b[49m\u001b[43m(\u001b[49m\u001b[43md3\u001b[49m\u001b[43m)\u001b[49m\u001b[38;5;241m.\u001b[39meval()\n",
      "File \u001b[1;32mD:\\OpenSource\\aesara\\aesara\\graph\\op.py:297\u001b[0m, in \u001b[0;36mOp.__call__\u001b[1;34m(self, *inputs, **kwargs)\u001b[0m\n\u001b[0;32m    255\u001b[0m \u001b[38;5;124mr\u001b[39m\u001b[38;5;124;03m\"\"\"Construct an `Apply` node using :meth:`Op.make_node` and return its outputs.\u001b[39;00m\n\u001b[0;32m    256\u001b[0m \n\u001b[0;32m    257\u001b[0m \u001b[38;5;124;03mThis method is just a wrapper around :meth:`Op.make_node`.\u001b[39;00m\n\u001b[1;32m   (...)\u001b[0m\n\u001b[0;32m    294\u001b[0m \n\u001b[0;32m    295\u001b[0m \u001b[38;5;124;03m\"\"\"\u001b[39;00m\n\u001b[0;32m    296\u001b[0m return_list \u001b[38;5;241m=\u001b[39m kwargs\u001b[38;5;241m.\u001b[39mpop(\u001b[38;5;124m\"\u001b[39m\u001b[38;5;124mreturn_list\u001b[39m\u001b[38;5;124m\"\u001b[39m, \u001b[38;5;28;01mFalse\u001b[39;00m)\n\u001b[1;32m--> 297\u001b[0m node \u001b[38;5;241m=\u001b[39m \u001b[38;5;28mself\u001b[39m\u001b[38;5;241m.\u001b[39mmake_node(\u001b[38;5;241m*\u001b[39minputs, \u001b[38;5;241m*\u001b[39m\u001b[38;5;241m*\u001b[39mkwargs)\n\u001b[0;32m    299\u001b[0m \u001b[38;5;28;01mif\u001b[39;00m config\u001b[38;5;241m.\u001b[39mcompute_test_value \u001b[38;5;241m!=\u001b[39m \u001b[38;5;124m\"\u001b[39m\u001b[38;5;124moff\u001b[39m\u001b[38;5;124m\"\u001b[39m:\n\u001b[0;32m    300\u001b[0m     compute_test_value(node)\n",
      "File \u001b[1;32mD:\\OpenSource\\aesara\\aesara\\tensor\\nlinalg.py:213\u001b[0m, in \u001b[0;36mDet.make_node\u001b[1;34m(self, x)\u001b[0m\n\u001b[0;32m    211\u001b[0m \u001b[38;5;28;01mdef\u001b[39;00m \u001b[38;5;21mmake_node\u001b[39m(\u001b[38;5;28mself\u001b[39m, x):\n\u001b[0;32m    212\u001b[0m     x \u001b[38;5;241m=\u001b[39m as_tensor_variable(x)\n\u001b[1;32m--> 213\u001b[0m     \u001b[38;5;28;01massert\u001b[39;00m x\u001b[38;5;241m.\u001b[39mndim \u001b[38;5;241m==\u001b[39m \u001b[38;5;241m2\u001b[39m\n\u001b[0;32m    214\u001b[0m     o \u001b[38;5;241m=\u001b[39m scalar(dtype\u001b[38;5;241m=\u001b[39mx\u001b[38;5;241m.\u001b[39mdtype)\n\u001b[0;32m    215\u001b[0m     \u001b[38;5;28;01mreturn\u001b[39;00m Apply(\u001b[38;5;28mself\u001b[39m, [x], [o])\n",
      "\u001b[1;31mAssertionError\u001b[0m: "
     ]
    }
   ],
   "source": [
    "at.linalg.det(d3).eval()"
   ]
  },
  {
   "cell_type": "markdown",
   "id": "8f580f54",
   "metadata": {},
   "source": [
    "## at.cumsum"
   ]
  },
  {
   "cell_type": "code",
   "execution_count": 92,
   "id": "65f7f5a1",
   "metadata": {},
   "outputs": [
    {
     "data": {
      "text/plain": [
       "array([1., 1., 1., 1., 2., 2., 2., 2., 3., 4., 4., 4., 4., 5., 5., 5., 5.,\n",
       "       6.])"
      ]
     },
     "execution_count": 92,
     "metadata": {},
     "output_type": "execute_result"
    }
   ],
   "source": [
    "at.cumsum(d3).eval()"
   ]
  },
  {
   "cell_type": "markdown",
   "id": "5fdb537c",
   "metadata": {},
   "source": [
    "## at.zeros"
   ]
  },
  {
   "cell_type": "code",
   "execution_count": 95,
   "id": "a26d4bba",
   "metadata": {},
   "outputs": [
    {
     "data": {
      "text/plain": [
       "array([[[0., 0., 0.],\n",
       "        [0., 0., 0.],\n",
       "        [0., 0., 0.]],\n",
       "\n",
       "       [[0., 0., 0.],\n",
       "        [0., 0., 0.],\n",
       "        [0., 0., 0.]]])"
      ]
     },
     "execution_count": 95,
     "metadata": {},
     "output_type": "execute_result"
    }
   ],
   "source": [
    "at.zeros((2,3,3)).eval()"
   ]
  },
  {
   "cell_type": "markdown",
   "id": "10448e81",
   "metadata": {},
   "source": [
    "## at.sqrt"
   ]
  },
  {
   "cell_type": "code",
   "execution_count": 99,
   "id": "f9abf845",
   "metadata": {},
   "outputs": [
    {
     "data": {
      "text/plain": [
       "array([[[1., 0., 0.],\n",
       "        [0., 1., 0.],\n",
       "        [0., 0., 1.]],\n",
       "\n",
       "       [[1., 0., 0.],\n",
       "        [0., 1., 0.],\n",
       "        [0., 0., 1.]]])"
      ]
     },
     "execution_count": 99,
     "metadata": {},
     "output_type": "execute_result"
    }
   ],
   "source": [
    "at.sqrt(d3).eval()"
   ]
  },
  {
   "cell_type": "markdown",
   "id": "04787a2e",
   "metadata": {},
   "source": [
    "## at.or_"
   ]
  },
  {
   "cell_type": "code",
   "execution_count": 107,
   "id": "a6c042f4",
   "metadata": {},
   "outputs": [],
   "source": [
    "a = np.zeros((2, 2, 2), int)\n",
    "b = np.ones((2, 2, 2), int)"
   ]
  },
  {
   "cell_type": "code",
   "execution_count": 108,
   "id": "65089229",
   "metadata": {},
   "outputs": [
    {
     "data": {
      "text/plain": [
       "array([[[1, 1],\n",
       "        [1, 1]],\n",
       "\n",
       "       [[1, 1],\n",
       "        [1, 1]]])"
      ]
     },
     "execution_count": 108,
     "metadata": {},
     "output_type": "execute_result"
    }
   ],
   "source": [
    "at.or_(a,b).eval()"
   ]
  },
  {
   "cell_type": "markdown",
   "id": "fbdb02e4",
   "metadata": {},
   "source": [
    "## at.and_"
   ]
  },
  {
   "cell_type": "code",
   "execution_count": 109,
   "id": "4b7c43e6",
   "metadata": {},
   "outputs": [
    {
     "data": {
      "text/plain": [
       "array([[[0, 0],\n",
       "        [0, 0]],\n",
       "\n",
       "       [[0, 0],\n",
       "        [0, 0]]])"
      ]
     },
     "execution_count": 109,
     "metadata": {},
     "output_type": "execute_result"
    }
   ],
   "source": [
    "at.and_(a, b).eval()"
   ]
  },
  {
   "cell_type": "markdown",
   "id": "26584a1e",
   "metadata": {},
   "source": [
    "## at.le"
   ]
  },
  {
   "cell_type": "code",
   "execution_count": 111,
   "id": "343400c1",
   "metadata": {},
   "outputs": [
    {
     "data": {
      "text/plain": [
       "array([[[ True,  True],\n",
       "        [ True,  True]],\n",
       "\n",
       "       [[ True,  True],\n",
       "        [ True,  True]]])"
      ]
     },
     "execution_count": 111,
     "metadata": {},
     "output_type": "execute_result"
    }
   ],
   "source": [
    "at.le(a,b).eval()"
   ]
  },
  {
   "cell_type": "markdown",
   "id": "8f4cc289",
   "metadata": {},
   "source": [
    "# at.ge"
   ]
  },
  {
   "cell_type": "code",
   "execution_count": 112,
   "id": "07b4268e",
   "metadata": {},
   "outputs": [
    {
     "data": {
      "text/plain": [
       "array([[[False, False],\n",
       "        [False, False]],\n",
       "\n",
       "       [[False, False],\n",
       "        [False, False]]])"
      ]
     },
     "execution_count": 112,
     "metadata": {},
     "output_type": "execute_result"
    }
   ],
   "source": [
    "at.ge(a, b).eval()"
   ]
  },
  {
   "cell_type": "markdown",
   "id": "963eb536",
   "metadata": {},
   "source": [
    "## at.neq"
   ]
  },
  {
   "cell_type": "code",
   "execution_count": 115,
   "id": "b1e1dcbc",
   "metadata": {},
   "outputs": [
    {
     "data": {
      "text/plain": [
       "array([[[ True,  True],\n",
       "        [ True,  True]],\n",
       "\n",
       "       [[ True,  True],\n",
       "        [ True,  True]]])"
      ]
     },
     "execution_count": 115,
     "metadata": {},
     "output_type": "execute_result"
    }
   ],
   "source": [
    "at.neq(a, b).eval()"
   ]
  },
  {
   "cell_type": "markdown",
   "id": "9e846a00",
   "metadata": {},
   "source": [
    "## at.any"
   ]
  },
  {
   "cell_type": "code",
   "execution_count": 118,
   "id": "5cb89916",
   "metadata": {},
   "outputs": [
    {
     "data": {
      "text/plain": [
       "array(True)"
      ]
     },
     "execution_count": 118,
     "metadata": {},
     "output_type": "execute_result"
    }
   ],
   "source": [
    "at.any(d3).eval()"
   ]
  },
  {
   "cell_type": "markdown",
   "id": "1ed5b128",
   "metadata": {},
   "source": [
    "## at.allclose"
   ]
  },
  {
   "cell_type": "code",
   "execution_count": 119,
   "id": "6e69037c",
   "metadata": {},
   "outputs": [
    {
     "data": {
      "text/plain": [
       "array(True)"
      ]
     },
     "execution_count": 119,
     "metadata": {},
     "output_type": "execute_result"
    }
   ],
   "source": [
    "at.allclose(d3, d3).eval()"
   ]
  },
  {
   "cell_type": "markdown",
   "id": "71dbe84a",
   "metadata": {},
   "source": [
    "## at.sigmoid"
   ]
  },
  {
   "cell_type": "code",
   "execution_count": 124,
   "id": "44f1f03a",
   "metadata": {},
   "outputs": [
    {
     "data": {
      "text/plain": [
       "array([[[0.73105858, 0.5       , 0.5       ],\n",
       "        [0.5       , 0.73105858, 0.5       ],\n",
       "        [0.5       , 0.5       , 0.73105858]],\n",
       "\n",
       "       [[0.73105858, 0.5       , 0.5       ],\n",
       "        [0.5       , 0.73105858, 0.5       ],\n",
       "        [0.5       , 0.5       , 0.73105858]]])"
      ]
     },
     "execution_count": 124,
     "metadata": {},
     "output_type": "execute_result"
    }
   ],
   "source": [
    "at.sigmoid(d3).eval()"
   ]
  },
  {
   "cell_type": "markdown",
   "id": "43b8d428",
   "metadata": {},
   "source": [
    "## at.nlinalg.eigh"
   ]
  },
  {
   "cell_type": "code",
   "execution_count": 129,
   "id": "244e8cea",
   "metadata": {},
   "outputs": [
    {
     "data": {
      "text/plain": [
       "[Eigh{UPLO='L'}.0, Eigh{UPLO='L'}.1]"
      ]
     },
     "execution_count": 129,
     "metadata": {},
     "output_type": "execute_result"
    }
   ],
   "source": [
    "at.nlinalg.eigh(d2)"
   ]
  },
  {
   "cell_type": "code",
   "execution_count": 130,
   "id": "1581ad3b",
   "metadata": {},
   "outputs": [
    {
     "ename": "AssertionError",
     "evalue": "",
     "output_type": "error",
     "traceback": [
      "\u001b[1;31m---------------------------------------------------------------------------\u001b[0m",
      "\u001b[1;31mAssertionError\u001b[0m                            Traceback (most recent call last)",
      "Input \u001b[1;32mIn [130]\u001b[0m, in \u001b[0;36m<cell line: 1>\u001b[1;34m()\u001b[0m\n\u001b[1;32m----> 1\u001b[0m \u001b[43mat\u001b[49m\u001b[38;5;241;43m.\u001b[39;49m\u001b[43mnlinalg\u001b[49m\u001b[38;5;241;43m.\u001b[39;49m\u001b[43meigh\u001b[49m\u001b[43m(\u001b[49m\u001b[43md3\u001b[49m\u001b[43m)\u001b[49m\n",
      "File \u001b[1;32mD:\\OpenSource\\aesara\\aesara\\tensor\\nlinalg.py:409\u001b[0m, in \u001b[0;36meigh\u001b[1;34m(a, UPLO)\u001b[0m\n\u001b[0;32m    408\u001b[0m \u001b[38;5;28;01mdef\u001b[39;00m \u001b[38;5;21meigh\u001b[39m(a, UPLO\u001b[38;5;241m=\u001b[39m\u001b[38;5;124m\"\u001b[39m\u001b[38;5;124mL\u001b[39m\u001b[38;5;124m\"\u001b[39m):\n\u001b[1;32m--> 409\u001b[0m     \u001b[38;5;28;01mreturn\u001b[39;00m \u001b[43mEigh\u001b[49m\u001b[43m(\u001b[49m\u001b[43mUPLO\u001b[49m\u001b[43m)\u001b[49m\u001b[43m(\u001b[49m\u001b[43ma\u001b[49m\u001b[43m)\u001b[49m\n",
      "File \u001b[1;32mD:\\OpenSource\\aesara\\aesara\\graph\\op.py:297\u001b[0m, in \u001b[0;36mOp.__call__\u001b[1;34m(self, *inputs, **kwargs)\u001b[0m\n\u001b[0;32m    255\u001b[0m \u001b[38;5;124mr\u001b[39m\u001b[38;5;124;03m\"\"\"Construct an `Apply` node using :meth:`Op.make_node` and return its outputs.\u001b[39;00m\n\u001b[0;32m    256\u001b[0m \n\u001b[0;32m    257\u001b[0m \u001b[38;5;124;03mThis method is just a wrapper around :meth:`Op.make_node`.\u001b[39;00m\n\u001b[1;32m   (...)\u001b[0m\n\u001b[0;32m    294\u001b[0m \n\u001b[0;32m    295\u001b[0m \u001b[38;5;124;03m\"\"\"\u001b[39;00m\n\u001b[0;32m    296\u001b[0m return_list \u001b[38;5;241m=\u001b[39m kwargs\u001b[38;5;241m.\u001b[39mpop(\u001b[38;5;124m\"\u001b[39m\u001b[38;5;124mreturn_list\u001b[39m\u001b[38;5;124m\"\u001b[39m, \u001b[38;5;28;01mFalse\u001b[39;00m)\n\u001b[1;32m--> 297\u001b[0m node \u001b[38;5;241m=\u001b[39m \u001b[38;5;28mself\u001b[39m\u001b[38;5;241m.\u001b[39mmake_node(\u001b[38;5;241m*\u001b[39minputs, \u001b[38;5;241m*\u001b[39m\u001b[38;5;241m*\u001b[39mkwargs)\n\u001b[0;32m    299\u001b[0m \u001b[38;5;28;01mif\u001b[39;00m config\u001b[38;5;241m.\u001b[39mcompute_test_value \u001b[38;5;241m!=\u001b[39m \u001b[38;5;124m\"\u001b[39m\u001b[38;5;124moff\u001b[39m\u001b[38;5;124m\"\u001b[39m:\n\u001b[0;32m    300\u001b[0m     compute_test_value(node)\n",
      "File \u001b[1;32mD:\\OpenSource\\aesara\\aesara\\tensor\\nlinalg.py:285\u001b[0m, in \u001b[0;36mEigh.make_node\u001b[1;34m(self, x)\u001b[0m\n\u001b[0;32m    283\u001b[0m \u001b[38;5;28;01mdef\u001b[39;00m \u001b[38;5;21mmake_node\u001b[39m(\u001b[38;5;28mself\u001b[39m, x):\n\u001b[0;32m    284\u001b[0m     x \u001b[38;5;241m=\u001b[39m as_tensor_variable(x)\n\u001b[1;32m--> 285\u001b[0m     \u001b[38;5;28;01massert\u001b[39;00m x\u001b[38;5;241m.\u001b[39mndim \u001b[38;5;241m==\u001b[39m \u001b[38;5;241m2\u001b[39m\n\u001b[0;32m    286\u001b[0m     \u001b[38;5;66;03m# Numpy's linalg.eigh may return either double or single\u001b[39;00m\n\u001b[0;32m    287\u001b[0m     \u001b[38;5;66;03m# presision eigenvalues depending on installed version of\u001b[39;00m\n\u001b[0;32m    288\u001b[0m     \u001b[38;5;66;03m# LAPACK.  Rather than trying to reproduce the (rather\u001b[39;00m\n\u001b[0;32m    289\u001b[0m     \u001b[38;5;66;03m# involved) logic, we just probe linalg.eigh with a trivial\u001b[39;00m\n\u001b[0;32m    290\u001b[0m     \u001b[38;5;66;03m# input.\u001b[39;00m\n\u001b[0;32m    291\u001b[0m     w_dtype \u001b[38;5;241m=\u001b[39m \u001b[38;5;28mself\u001b[39m\u001b[38;5;241m.\u001b[39m_numop([[np\u001b[38;5;241m.\u001b[39mdtype(x\u001b[38;5;241m.\u001b[39mdtype)\u001b[38;5;241m.\u001b[39mtype()]])[\u001b[38;5;241m0\u001b[39m]\u001b[38;5;241m.\u001b[39mdtype\u001b[38;5;241m.\u001b[39mname\n",
      "\u001b[1;31mAssertionError\u001b[0m: "
     ]
    }
   ],
   "source": [
    "at.nlinalg.eigh(d3)"
   ]
  },
  {
   "cell_type": "markdown",
   "id": "96cdd2cf",
   "metadata": {},
   "source": [
    "## at.nlinalg.trace"
   ]
  },
  {
   "cell_type": "code",
   "execution_count": 132,
   "id": "117a5235",
   "metadata": {},
   "outputs": [
    {
     "data": {
      "text/plain": [
       "array(2.)"
      ]
     },
     "execution_count": 132,
     "metadata": {},
     "output_type": "execute_result"
    }
   ],
   "source": [
    "at.nlinalg.trace(d3).eval()"
   ]
  },
  {
   "cell_type": "code",
   "execution_count": null,
   "id": "6a5c5186",
   "metadata": {},
   "outputs": [],
   "source": []
  }
 ],
 "metadata": {
  "kernelspec": {
   "display_name": "Python 3 (ipykernel)",
   "language": "python",
   "name": "python3"
  },
  "language_info": {
   "codemirror_mode": {
    "name": "ipython",
    "version": 3
   },
   "file_extension": ".py",
   "mimetype": "text/x-python",
   "name": "python",
   "nbconvert_exporter": "python",
   "pygments_lexer": "ipython3",
   "version": "3.10.5"
  }
 },
 "nbformat": 4,
 "nbformat_minor": 5
}
