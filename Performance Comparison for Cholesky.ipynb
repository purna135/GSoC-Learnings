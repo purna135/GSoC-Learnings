{
 "cells": [
  {
   "cell_type": "code",
   "execution_count": 1,
   "id": "26f4e47b",
   "metadata": {},
   "outputs": [
    {
     "name": "stdout",
     "output_type": "stream",
     "text": [
      "WARN: Could not locate executable g77\n",
      "WARN: Could not locate executable f77\n",
      "WARN: Could not locate executable ifort\n",
      "WARN: Could not locate executable ifl\n",
      "WARN: Could not locate executable f90\n",
      "WARN: Could not locate executable DF\n",
      "WARN: Could not locate executable efl\n"
     ]
    }
   ],
   "source": [
    "import aesara.tensor as at\n",
    "import numpy as np\n",
    "import scipy as sp"
   ]
  },
  {
   "cell_type": "markdown",
   "id": "8c15efb8",
   "metadata": {},
   "source": [
    "### Data preparation"
   ]
  },
  {
   "cell_type": "code",
   "execution_count": 2,
   "id": "0c058751",
   "metadata": {},
   "outputs": [],
   "source": [
    "data_2d = np.full((100, 100), np.eye(100))\n",
    "data_3d = np.full((200, 100, 100), np.eye(100))\n",
    "data_4d = np.full((50, 100, 100, 100), np.eye(100))\n",
    "data_5d = np.array([data_4d, data_4d])\n",
    "data_6d = np.array([data_5d, data_5d])\n",
    "data_7d = np.array([data_6d, data_6d])"
   ]
  },
  {
   "cell_type": "markdown",
   "id": "118a0f60",
   "metadata": {},
   "source": [
    "### Calculating memory size of diff data"
   ]
  },
  {
   "cell_type": "code",
   "execution_count": 3,
   "id": "52e4f588",
   "metadata": {},
   "outputs": [],
   "source": [
    "from sys import getsizeof\n",
    "\n",
    "g = globals()\n",
    "data = []\n",
    "\n",
    "for i in range(2,8):\n",
    "    data_name = 'data_{}d'.format(i)\n",
    "    data_nd = g[data_name].ndim\n",
    "    data_size = g[data_name].size\n",
    "    data_MB = round(getsizeof(g[data_name]) / 1024 / 1024, 2)\n",
    "    data.append([data_nd, data_size, data_MB])"
   ]
  },
  {
   "cell_type": "code",
   "execution_count": 4,
   "id": "fae5eed3",
   "metadata": {},
   "outputs": [
    {
     "data": {
      "text/html": [
       "<div>\n",
       "<style scoped>\n",
       "    .dataframe tbody tr th:only-of-type {\n",
       "        vertical-align: middle;\n",
       "    }\n",
       "\n",
       "    .dataframe tbody tr th {\n",
       "        vertical-align: top;\n",
       "    }\n",
       "\n",
       "    .dataframe thead th {\n",
       "        text-align: right;\n",
       "    }\n",
       "</style>\n",
       "<table border=\"1\" class=\"dataframe\">\n",
       "  <thead>\n",
       "    <tr style=\"text-align: right;\">\n",
       "      <th></th>\n",
       "      <th>N-dims</th>\n",
       "      <th>Number of Elements</th>\n",
       "      <th>Memory Size(in MB)</th>\n",
       "    </tr>\n",
       "  </thead>\n",
       "  <tbody>\n",
       "    <tr>\n",
       "      <th>0</th>\n",
       "      <td>2</td>\n",
       "      <td>10000</td>\n",
       "      <td>0.08</td>\n",
       "    </tr>\n",
       "    <tr>\n",
       "      <th>1</th>\n",
       "      <td>3</td>\n",
       "      <td>2000000</td>\n",
       "      <td>15.26</td>\n",
       "    </tr>\n",
       "    <tr>\n",
       "      <th>2</th>\n",
       "      <td>4</td>\n",
       "      <td>50000000</td>\n",
       "      <td>381.47</td>\n",
       "    </tr>\n",
       "    <tr>\n",
       "      <th>3</th>\n",
       "      <td>5</td>\n",
       "      <td>100000000</td>\n",
       "      <td>762.94</td>\n",
       "    </tr>\n",
       "    <tr>\n",
       "      <th>4</th>\n",
       "      <td>6</td>\n",
       "      <td>200000000</td>\n",
       "      <td>1525.88</td>\n",
       "    </tr>\n",
       "    <tr>\n",
       "      <th>5</th>\n",
       "      <td>7</td>\n",
       "      <td>400000000</td>\n",
       "      <td>3051.76</td>\n",
       "    </tr>\n",
       "  </tbody>\n",
       "</table>\n",
       "</div>"
      ],
      "text/plain": [
       "   N-dims  Number of Elements  Memory Size(in MB)\n",
       "0       2               10000                0.08\n",
       "1       3             2000000               15.26\n",
       "2       4            50000000              381.47\n",
       "3       5           100000000              762.94\n",
       "4       6           200000000             1525.88\n",
       "5       7           400000000             3051.76"
      ]
     },
     "execution_count": 4,
     "metadata": {},
     "output_type": "execute_result"
    }
   ],
   "source": [
    "import pandas as pd\n",
    "df = pd.DataFrame(data, columns=['N-dims', 'Number of Elements', 'Memory Size(in MB)'])\n",
    "df"
   ]
  },
  {
   "cell_type": "markdown",
   "id": "8e039daf",
   "metadata": {},
   "source": [
    "### Time for Aesara-Scipy with Vectorization"
   ]
  },
  {
   "cell_type": "code",
   "execution_count": 109,
   "id": "4a3874e2",
   "metadata": {},
   "outputs": [
    {
     "name": "stdout",
     "output_type": "stream",
     "text": [
      "518 µs ± 5.92 µs per loop (mean ± std. dev. of 7 runs, 1,000 loops each)\n"
     ]
    }
   ],
   "source": [
    "%%timeit\n",
    "at.linalg.cholesky(data_3d)"
   ]
  },
  {
   "cell_type": "markdown",
   "id": "085f8194",
   "metadata": {},
   "source": [
    "### Time for Aesara-Numpy implementation"
   ]
  },
  {
   "cell_type": "code",
   "execution_count": 102,
   "id": "0adbf324",
   "metadata": {},
   "outputs": [
    {
     "name": "stdout",
     "output_type": "stream",
     "text": [
      "523 µs ± 6.85 µs per loop (mean ± std. dev. of 7 runs, 1,000 loops each)\n"
     ]
    }
   ],
   "source": [
    "%%timeit\n",
    "at.linalg.cholesky_np(data_3d)"
   ]
  },
  {
   "cell_type": "code",
   "execution_count": 5,
   "id": "3f0c81d4",
   "metadata": {},
   "outputs": [],
   "source": [
    "import time"
   ]
  },
  {
   "cell_type": "markdown",
   "id": "f975cabe",
   "metadata": {},
   "source": [
    "### Time for Numpy Cholesky Method"
   ]
  },
  {
   "cell_type": "code",
   "execution_count": 6,
   "id": "3f2e5721",
   "metadata": {},
   "outputs": [
    {
     "data": {
      "text/html": [
       "<div>\n",
       "<style scoped>\n",
       "    .dataframe tbody tr th:only-of-type {\n",
       "        vertical-align: middle;\n",
       "    }\n",
       "\n",
       "    .dataframe tbody tr th {\n",
       "        vertical-align: top;\n",
       "    }\n",
       "\n",
       "    .dataframe thead th {\n",
       "        text-align: right;\n",
       "    }\n",
       "</style>\n",
       "<table border=\"1\" class=\"dataframe\">\n",
       "  <thead>\n",
       "    <tr style=\"text-align: right;\">\n",
       "      <th></th>\n",
       "      <th>N-dims</th>\n",
       "      <th>Number of Elements</th>\n",
       "      <th>Memory Size(in MB)</th>\n",
       "      <th>Numpy_Runtime</th>\n",
       "    </tr>\n",
       "  </thead>\n",
       "  <tbody>\n",
       "    <tr>\n",
       "      <th>0</th>\n",
       "      <td>2</td>\n",
       "      <td>10000</td>\n",
       "      <td>0.08</td>\n",
       "      <td>0.132831</td>\n",
       "    </tr>\n",
       "    <tr>\n",
       "      <th>1</th>\n",
       "      <td>3</td>\n",
       "      <td>2000000</td>\n",
       "      <td>15.26</td>\n",
       "      <td>0.110059</td>\n",
       "    </tr>\n",
       "    <tr>\n",
       "      <th>2</th>\n",
       "      <td>4</td>\n",
       "      <td>50000000</td>\n",
       "      <td>381.47</td>\n",
       "      <td>4.926430</td>\n",
       "    </tr>\n",
       "    <tr>\n",
       "      <th>3</th>\n",
       "      <td>5</td>\n",
       "      <td>100000000</td>\n",
       "      <td>762.94</td>\n",
       "      <td>8.844711</td>\n",
       "    </tr>\n",
       "    <tr>\n",
       "      <th>4</th>\n",
       "      <td>6</td>\n",
       "      <td>200000000</td>\n",
       "      <td>1525.88</td>\n",
       "      <td>17.915647</td>\n",
       "    </tr>\n",
       "    <tr>\n",
       "      <th>5</th>\n",
       "      <td>7</td>\n",
       "      <td>400000000</td>\n",
       "      <td>3051.76</td>\n",
       "      <td>35.840367</td>\n",
       "    </tr>\n",
       "  </tbody>\n",
       "</table>\n",
       "</div>"
      ],
      "text/plain": [
       "   N-dims  Number of Elements  Memory Size(in MB)  Numpy_Runtime\n",
       "0       2               10000                0.08       0.132831\n",
       "1       3             2000000               15.26       0.110059\n",
       "2       4            50000000              381.47       4.926430\n",
       "3       5           100000000              762.94       8.844711\n",
       "4       6           200000000             1525.88      17.915647\n",
       "5       7           400000000             3051.76      35.840367"
      ]
     },
     "execution_count": 6,
     "metadata": {},
     "output_type": "execute_result"
    }
   ],
   "source": [
    "g = globals()\n",
    "run_time = []\n",
    "\n",
    "for i in range(2,8):\n",
    "    data_name = 'data_{}d'.format(i)\n",
    "    data = g[data_name]\n",
    "    start = time.time()\n",
    "    \n",
    "    np.linalg.cholesky(data)\n",
    "\n",
    "    end = time.time()\n",
    "    run_time.append(round((end - start), 6))\n",
    "\n",
    "\n",
    "df[\"Numpy_Runtime\"] = run_time\n",
    "df"
   ]
  },
  {
   "cell_type": "markdown",
   "id": "0969ca21",
   "metadata": {},
   "source": [
    "### Time for Scipy Cholesky Method"
   ]
  },
  {
   "cell_type": "code",
   "execution_count": 7,
   "id": "7eb72ed2",
   "metadata": {},
   "outputs": [
    {
     "data": {
      "text/html": [
       "<div>\n",
       "<style scoped>\n",
       "    .dataframe tbody tr th:only-of-type {\n",
       "        vertical-align: middle;\n",
       "    }\n",
       "\n",
       "    .dataframe tbody tr th {\n",
       "        vertical-align: top;\n",
       "    }\n",
       "\n",
       "    .dataframe thead th {\n",
       "        text-align: right;\n",
       "    }\n",
       "</style>\n",
       "<table border=\"1\" class=\"dataframe\">\n",
       "  <thead>\n",
       "    <tr style=\"text-align: right;\">\n",
       "      <th></th>\n",
       "      <th>N-dims</th>\n",
       "      <th>Number of Elements</th>\n",
       "      <th>Memory Size(in MB)</th>\n",
       "      <th>Numpy_Runtime</th>\n",
       "      <th>Scipy_Runtime</th>\n",
       "    </tr>\n",
       "  </thead>\n",
       "  <tbody>\n",
       "    <tr>\n",
       "      <th>0</th>\n",
       "      <td>2</td>\n",
       "      <td>10000</td>\n",
       "      <td>0.08</td>\n",
       "      <td>0.132831</td>\n",
       "      <td>0.039996</td>\n",
       "    </tr>\n",
       "    <tr>\n",
       "      <th>1</th>\n",
       "      <td>3</td>\n",
       "      <td>2000000</td>\n",
       "      <td>15.26</td>\n",
       "      <td>0.110059</td>\n",
       "      <td>0.156457</td>\n",
       "    </tr>\n",
       "    <tr>\n",
       "      <th>2</th>\n",
       "      <td>4</td>\n",
       "      <td>50000000</td>\n",
       "      <td>381.47</td>\n",
       "      <td>4.926430</td>\n",
       "      <td>3.963787</td>\n",
       "    </tr>\n",
       "    <tr>\n",
       "      <th>3</th>\n",
       "      <td>5</td>\n",
       "      <td>100000000</td>\n",
       "      <td>762.94</td>\n",
       "      <td>8.844711</td>\n",
       "      <td>8.312742</td>\n",
       "    </tr>\n",
       "    <tr>\n",
       "      <th>4</th>\n",
       "      <td>6</td>\n",
       "      <td>200000000</td>\n",
       "      <td>1525.88</td>\n",
       "      <td>17.915647</td>\n",
       "      <td>21.123423</td>\n",
       "    </tr>\n",
       "    <tr>\n",
       "      <th>5</th>\n",
       "      <td>7</td>\n",
       "      <td>400000000</td>\n",
       "      <td>3051.76</td>\n",
       "      <td>35.840367</td>\n",
       "      <td>43.743180</td>\n",
       "    </tr>\n",
       "  </tbody>\n",
       "</table>\n",
       "</div>"
      ],
      "text/plain": [
       "   N-dims  Number of Elements  Memory Size(in MB)  Numpy_Runtime  \\\n",
       "0       2               10000                0.08       0.132831   \n",
       "1       3             2000000               15.26       0.110059   \n",
       "2       4            50000000              381.47       4.926430   \n",
       "3       5           100000000              762.94       8.844711   \n",
       "4       6           200000000             1525.88      17.915647   \n",
       "5       7           400000000             3051.76      35.840367   \n",
       "\n",
       "   Scipy_Runtime  \n",
       "0       0.039996  \n",
       "1       0.156457  \n",
       "2       3.963787  \n",
       "3       8.312742  \n",
       "4      21.123423  \n",
       "5      43.743180  "
      ]
     },
     "execution_count": 7,
     "metadata": {},
     "output_type": "execute_result"
    }
   ],
   "source": [
    "g = globals()\n",
    "run_time = []\n",
    "\n",
    "vfunc = np.vectorize(sp.linalg.cholesky, excluded=['lower'], signature=\"(m,m)->(m,m)\", otypes=[data_2d.dtype])\n",
    "\n",
    "for i in range(2,8):\n",
    "    data_name = 'data_{}d'.format(i)\n",
    "    data = g[data_name]\n",
    "    start = time.time()\n",
    "    \n",
    "    vfunc(data, lower=True)\n",
    "\n",
    "    end = time.time()\n",
    "    run_time.append(round((end - start), 6))\n",
    "\n",
    "\n",
    "df[\"Scipy_Runtime\"] = run_time\n",
    "df"
   ]
  },
  {
   "cell_type": "markdown",
   "id": "8fc900ef",
   "metadata": {},
   "source": [
    "### Time for Aesara-Numpy implementation of Cholesky Method"
   ]
  },
  {
   "cell_type": "code",
   "execution_count": 8,
   "id": "5efa4d72",
   "metadata": {},
   "outputs": [
    {
     "data": {
      "text/html": [
       "<div>\n",
       "<style scoped>\n",
       "    .dataframe tbody tr th:only-of-type {\n",
       "        vertical-align: middle;\n",
       "    }\n",
       "\n",
       "    .dataframe tbody tr th {\n",
       "        vertical-align: top;\n",
       "    }\n",
       "\n",
       "    .dataframe thead th {\n",
       "        text-align: right;\n",
       "    }\n",
       "</style>\n",
       "<table border=\"1\" class=\"dataframe\">\n",
       "  <thead>\n",
       "    <tr style=\"text-align: right;\">\n",
       "      <th></th>\n",
       "      <th>N-dims</th>\n",
       "      <th>Number of Elements</th>\n",
       "      <th>Memory Size(in MB)</th>\n",
       "      <th>Numpy_Runtime</th>\n",
       "      <th>Scipy_Runtime</th>\n",
       "      <th>Aesara_Numpy_Runtime</th>\n",
       "    </tr>\n",
       "  </thead>\n",
       "  <tbody>\n",
       "    <tr>\n",
       "      <th>0</th>\n",
       "      <td>2</td>\n",
       "      <td>10000</td>\n",
       "      <td>0.08</td>\n",
       "      <td>0.132831</td>\n",
       "      <td>0.039996</td>\n",
       "      <td>0.182514</td>\n",
       "    </tr>\n",
       "    <tr>\n",
       "      <th>1</th>\n",
       "      <td>3</td>\n",
       "      <td>2000000</td>\n",
       "      <td>15.26</td>\n",
       "      <td>0.110059</td>\n",
       "      <td>0.156457</td>\n",
       "      <td>0.000000</td>\n",
       "    </tr>\n",
       "    <tr>\n",
       "      <th>2</th>\n",
       "      <td>4</td>\n",
       "      <td>50000000</td>\n",
       "      <td>381.47</td>\n",
       "      <td>4.926430</td>\n",
       "      <td>3.963787</td>\n",
       "      <td>0.000000</td>\n",
       "    </tr>\n",
       "    <tr>\n",
       "      <th>3</th>\n",
       "      <td>5</td>\n",
       "      <td>100000000</td>\n",
       "      <td>762.94</td>\n",
       "      <td>8.844711</td>\n",
       "      <td>8.312742</td>\n",
       "      <td>0.015628</td>\n",
       "    </tr>\n",
       "    <tr>\n",
       "      <th>4</th>\n",
       "      <td>6</td>\n",
       "      <td>200000000</td>\n",
       "      <td>1525.88</td>\n",
       "      <td>17.915647</td>\n",
       "      <td>21.123423</td>\n",
       "      <td>0.000000</td>\n",
       "    </tr>\n",
       "    <tr>\n",
       "      <th>5</th>\n",
       "      <td>7</td>\n",
       "      <td>400000000</td>\n",
       "      <td>3051.76</td>\n",
       "      <td>35.840367</td>\n",
       "      <td>43.743180</td>\n",
       "      <td>0.000000</td>\n",
       "    </tr>\n",
       "  </tbody>\n",
       "</table>\n",
       "</div>"
      ],
      "text/plain": [
       "   N-dims  Number of Elements  Memory Size(in MB)  Numpy_Runtime  \\\n",
       "0       2               10000                0.08       0.132831   \n",
       "1       3             2000000               15.26       0.110059   \n",
       "2       4            50000000              381.47       4.926430   \n",
       "3       5           100000000              762.94       8.844711   \n",
       "4       6           200000000             1525.88      17.915647   \n",
       "5       7           400000000             3051.76      35.840367   \n",
       "\n",
       "   Scipy_Runtime  Aesara_Numpy_Runtime  \n",
       "0       0.039996              0.182514  \n",
       "1       0.156457              0.000000  \n",
       "2       3.963787              0.000000  \n",
       "3       8.312742              0.015628  \n",
       "4      21.123423              0.000000  \n",
       "5      43.743180              0.000000  "
      ]
     },
     "execution_count": 8,
     "metadata": {},
     "output_type": "execute_result"
    }
   ],
   "source": [
    "g = globals()\n",
    "run_time = []\n",
    "\n",
    "for i in range(2,8):\n",
    "    data_name = 'data_{}d'.format(i)\n",
    "    data = g[data_name]\n",
    "    start = time.time()\n",
    "    \n",
    "    at.linalg.cholesky_np(data)\n",
    "\n",
    "    end = time.time()\n",
    "    run_time.append(round((end - start), 6))\n",
    "\n",
    "\n",
    "df[\"Aesara_Numpy_Runtime\"] = run_time\n",
    "df"
   ]
  },
  {
   "cell_type": "markdown",
   "id": "de8b8099",
   "metadata": {},
   "source": [
    "### Time for Aesara-Scipy Cholesky Method with vectorization"
   ]
  },
  {
   "cell_type": "code",
   "execution_count": 9,
   "id": "e44e76c3",
   "metadata": {},
   "outputs": [
    {
     "data": {
      "text/html": [
       "<div>\n",
       "<style scoped>\n",
       "    .dataframe tbody tr th:only-of-type {\n",
       "        vertical-align: middle;\n",
       "    }\n",
       "\n",
       "    .dataframe tbody tr th {\n",
       "        vertical-align: top;\n",
       "    }\n",
       "\n",
       "    .dataframe thead th {\n",
       "        text-align: right;\n",
       "    }\n",
       "</style>\n",
       "<table border=\"1\" class=\"dataframe\">\n",
       "  <thead>\n",
       "    <tr style=\"text-align: right;\">\n",
       "      <th></th>\n",
       "      <th>N-dims</th>\n",
       "      <th>Number of Elements</th>\n",
       "      <th>Memory Size(in MB)</th>\n",
       "      <th>Numpy_Runtime</th>\n",
       "      <th>Scipy_Runtime</th>\n",
       "      <th>Aesara_Numpy_Runtime</th>\n",
       "      <th>Aesara_Scipy_Runtime</th>\n",
       "    </tr>\n",
       "  </thead>\n",
       "  <tbody>\n",
       "    <tr>\n",
       "      <th>0</th>\n",
       "      <td>2</td>\n",
       "      <td>10000</td>\n",
       "      <td>0.08</td>\n",
       "      <td>0.132831</td>\n",
       "      <td>0.039996</td>\n",
       "      <td>0.182514</td>\n",
       "      <td>0.0</td>\n",
       "    </tr>\n",
       "    <tr>\n",
       "      <th>1</th>\n",
       "      <td>3</td>\n",
       "      <td>2000000</td>\n",
       "      <td>15.26</td>\n",
       "      <td>0.110059</td>\n",
       "      <td>0.156457</td>\n",
       "      <td>0.000000</td>\n",
       "      <td>0.0</td>\n",
       "    </tr>\n",
       "    <tr>\n",
       "      <th>2</th>\n",
       "      <td>4</td>\n",
       "      <td>50000000</td>\n",
       "      <td>381.47</td>\n",
       "      <td>4.926430</td>\n",
       "      <td>3.963787</td>\n",
       "      <td>0.000000</td>\n",
       "      <td>0.0</td>\n",
       "    </tr>\n",
       "    <tr>\n",
       "      <th>3</th>\n",
       "      <td>5</td>\n",
       "      <td>100000000</td>\n",
       "      <td>762.94</td>\n",
       "      <td>8.844711</td>\n",
       "      <td>8.312742</td>\n",
       "      <td>0.015628</td>\n",
       "      <td>0.0</td>\n",
       "    </tr>\n",
       "    <tr>\n",
       "      <th>4</th>\n",
       "      <td>6</td>\n",
       "      <td>200000000</td>\n",
       "      <td>1525.88</td>\n",
       "      <td>17.915647</td>\n",
       "      <td>21.123423</td>\n",
       "      <td>0.000000</td>\n",
       "      <td>0.0</td>\n",
       "    </tr>\n",
       "    <tr>\n",
       "      <th>5</th>\n",
       "      <td>7</td>\n",
       "      <td>400000000</td>\n",
       "      <td>3051.76</td>\n",
       "      <td>35.840367</td>\n",
       "      <td>43.743180</td>\n",
       "      <td>0.000000</td>\n",
       "      <td>0.0</td>\n",
       "    </tr>\n",
       "  </tbody>\n",
       "</table>\n",
       "</div>"
      ],
      "text/plain": [
       "   N-dims  Number of Elements  Memory Size(in MB)  Numpy_Runtime  \\\n",
       "0       2               10000                0.08       0.132831   \n",
       "1       3             2000000               15.26       0.110059   \n",
       "2       4            50000000              381.47       4.926430   \n",
       "3       5           100000000              762.94       8.844711   \n",
       "4       6           200000000             1525.88      17.915647   \n",
       "5       7           400000000             3051.76      35.840367   \n",
       "\n",
       "   Scipy_Runtime  Aesara_Numpy_Runtime  Aesara_Scipy_Runtime  \n",
       "0       0.039996              0.182514                   0.0  \n",
       "1       0.156457              0.000000                   0.0  \n",
       "2       3.963787              0.000000                   0.0  \n",
       "3       8.312742              0.015628                   0.0  \n",
       "4      21.123423              0.000000                   0.0  \n",
       "5      43.743180              0.000000                   0.0  "
      ]
     },
     "execution_count": 9,
     "metadata": {},
     "output_type": "execute_result"
    }
   ],
   "source": [
    "g = globals()\n",
    "run_time = []\n",
    "\n",
    "for i in range(2,8):\n",
    "    data_name = 'data_{}d'.format(i)\n",
    "    data = g[data_name]\n",
    "    start = time.time()\n",
    "    \n",
    "    at.linalg.cholesky(data)\n",
    "\n",
    "    end = time.time()\n",
    "    run_time.append(round((end - start), 6))\n",
    "\n",
    "\n",
    "df[\"Aesara_Scipy_Runtime\"] = run_time\n",
    "df"
   ]
  },
  {
   "cell_type": "markdown",
   "id": "a5644cdb",
   "metadata": {},
   "source": [
    "### Comparing output of Numpy and Aesara-Scipy cholesky method"
   ]
  },
  {
   "cell_type": "code",
   "execution_count": 10,
   "id": "134fc2ee",
   "metadata": {},
   "outputs": [
    {
     "name": "stdout",
     "output_type": "stream",
     "text": [
      "data_2d  ->  True\n",
      "data_3d  ->  True\n",
      "data_4d  ->  True\n",
      "data_5d  ->  True\n"
     ]
    }
   ],
   "source": [
    "g = globals()\n",
    "\n",
    "for i in range(2,6):\n",
    "    data_name = 'data_{}d'.format(i)\n",
    "    data = g[data_name]\n",
    "    \n",
    "    print(data_name, \" -> \", np.allclose(at.linalg.cholesky(data).eval(), np.linalg.cholesky(data)))"
   ]
  },
  {
   "cell_type": "markdown",
   "id": "e05966cb",
   "metadata": {},
   "source": [
    "### Comparing output of Numpy and Aesara-Numpy cholesky method"
   ]
  },
  {
   "cell_type": "code",
   "execution_count": 12,
   "id": "03752854",
   "metadata": {},
   "outputs": [
    {
     "name": "stdout",
     "output_type": "stream",
     "text": [
      "data_2d  ->  True\n",
      "data_3d  ->  True\n",
      "data_4d  ->  True\n",
      "data_5d  ->  True\n"
     ]
    }
   ],
   "source": [
    "g = globals()\n",
    "\n",
    "for i in range(2,6):\n",
    "    data_name = 'data_{}d'.format(i)\n",
    "    data = g[data_name]\n",
    "    \n",
    "    print(data_name, \" -> \", np.allclose(at.linalg.cholesky_np(data).eval(), np.linalg.cholesky(data)))"
   ]
  },
  {
   "cell_type": "code",
   "execution_count": 14,
   "id": "efd4144b",
   "metadata": {},
   "outputs": [],
   "source": [
    "## Saving result to csv file\n",
    "df.to_csv(\"cholesky_data.csv\", index=False)"
   ]
  },
  {
   "cell_type": "code",
   "execution_count": 21,
   "id": "7b661465",
   "metadata": {},
   "outputs": [
    {
     "data": {
      "text/html": [
       "<div>\n",
       "<style scoped>\n",
       "    .dataframe tbody tr th:only-of-type {\n",
       "        vertical-align: middle;\n",
       "    }\n",
       "\n",
       "    .dataframe tbody tr th {\n",
       "        vertical-align: top;\n",
       "    }\n",
       "\n",
       "    .dataframe thead th {\n",
       "        text-align: right;\n",
       "    }\n",
       "</style>\n",
       "<table border=\"1\" class=\"dataframe\">\n",
       "  <thead>\n",
       "    <tr style=\"text-align: right;\">\n",
       "      <th></th>\n",
       "      <th>N-dims</th>\n",
       "      <th>Number of Elements</th>\n",
       "      <th>Memory Size(in MB)</th>\n",
       "      <th>Numpy_Runtime</th>\n",
       "      <th>Scipy_Runtime</th>\n",
       "      <th>Aesara_Numpy_Runtime</th>\n",
       "      <th>Aesara_Scipy_Runtime</th>\n",
       "    </tr>\n",
       "  </thead>\n",
       "  <tbody>\n",
       "    <tr>\n",
       "      <th>0</th>\n",
       "      <td>2</td>\n",
       "      <td>10000</td>\n",
       "      <td>0.08</td>\n",
       "      <td>0.132831</td>\n",
       "      <td>0.039996</td>\n",
       "      <td>0.182514</td>\n",
       "      <td>0.0</td>\n",
       "    </tr>\n",
       "    <tr>\n",
       "      <th>1</th>\n",
       "      <td>3</td>\n",
       "      <td>2000000</td>\n",
       "      <td>15.26</td>\n",
       "      <td>0.110059</td>\n",
       "      <td>0.156457</td>\n",
       "      <td>0.000000</td>\n",
       "      <td>0.0</td>\n",
       "    </tr>\n",
       "    <tr>\n",
       "      <th>2</th>\n",
       "      <td>4</td>\n",
       "      <td>50000000</td>\n",
       "      <td>381.47</td>\n",
       "      <td>4.926430</td>\n",
       "      <td>3.963787</td>\n",
       "      <td>0.000000</td>\n",
       "      <td>0.0</td>\n",
       "    </tr>\n",
       "    <tr>\n",
       "      <th>3</th>\n",
       "      <td>5</td>\n",
       "      <td>100000000</td>\n",
       "      <td>762.94</td>\n",
       "      <td>8.844711</td>\n",
       "      <td>8.312742</td>\n",
       "      <td>0.015628</td>\n",
       "      <td>0.0</td>\n",
       "    </tr>\n",
       "    <tr>\n",
       "      <th>4</th>\n",
       "      <td>6</td>\n",
       "      <td>200000000</td>\n",
       "      <td>1525.88</td>\n",
       "      <td>17.915647</td>\n",
       "      <td>21.123423</td>\n",
       "      <td>0.000000</td>\n",
       "      <td>0.0</td>\n",
       "    </tr>\n",
       "    <tr>\n",
       "      <th>5</th>\n",
       "      <td>7</td>\n",
       "      <td>400000000</td>\n",
       "      <td>3051.76</td>\n",
       "      <td>35.840367</td>\n",
       "      <td>43.743180</td>\n",
       "      <td>0.000000</td>\n",
       "      <td>0.0</td>\n",
       "    </tr>\n",
       "  </tbody>\n",
       "</table>\n",
       "</div>"
      ],
      "text/plain": [
       "   N-dims  Number of Elements  Memory Size(in MB)  Numpy_Runtime  \\\n",
       "0       2               10000                0.08       0.132831   \n",
       "1       3             2000000               15.26       0.110059   \n",
       "2       4            50000000              381.47       4.926430   \n",
       "3       5           100000000              762.94       8.844711   \n",
       "4       6           200000000             1525.88      17.915647   \n",
       "5       7           400000000             3051.76      35.840367   \n",
       "\n",
       "   Scipy_Runtime  Aesara_Numpy_Runtime  Aesara_Scipy_Runtime  \n",
       "0       0.039996              0.182514                   0.0  \n",
       "1       0.156457              0.000000                   0.0  \n",
       "2       3.963787              0.000000                   0.0  \n",
       "3       8.312742              0.015628                   0.0  \n",
       "4      21.123423              0.000000                   0.0  \n",
       "5      43.743180              0.000000                   0.0  "
      ]
     },
     "execution_count": 21,
     "metadata": {},
     "output_type": "execute_result"
    }
   ],
   "source": [
    "df"
   ]
  },
  {
   "cell_type": "markdown",
   "id": "6c43cdef",
   "metadata": {},
   "source": [
    "## Visualization"
   ]
  },
  {
   "cell_type": "code",
   "execution_count": 110,
   "id": "6bb5d866",
   "metadata": {},
   "outputs": [],
   "source": [
    "from matplotlib import pyplot as plt"
   ]
  },
  {
   "cell_type": "markdown",
   "id": "51ec01c2",
   "metadata": {},
   "source": [
    "#### Memory size of diff data"
   ]
  },
  {
   "cell_type": "code",
   "execution_count": 75,
   "id": "644f78b2",
   "metadata": {},
   "outputs": [
    {
     "data": {
      "text/plain": [
       "<BarContainer object of 6 artists>"
      ]
     },
     "execution_count": 75,
     "metadata": {},
     "output_type": "execute_result"
    },
    {
     "data": {
      "image/png": "[encoded data removed]",
      "text/plain": [
       "<Figure size 432x288 with 1 Axes>"
      ]
     },
     "metadata": {
      "needs_background": "light"
     },
     "output_type": "display_data"
    }
   ],
   "source": [
    "plt.bar(df[\"N-dims\"], df[\"Memory Size(in MB)\"])"
   ]
  },
  {
   "cell_type": "markdown",
   "id": "66a05cae",
   "metadata": {},
   "source": [
    "### Runtime of diff methods"
   ]
  },
  {
   "cell_type": "code",
   "execution_count": 111,
   "id": "239022a7",
   "metadata": {},
   "outputs": [
    {
     "data": {
      "text/plain": [
       "<matplotlib.legend.Legend at 0x2cca1fcb2b0>"
      ]
     },
     "execution_count": 111,
     "metadata": {},
     "output_type": "execute_result"
    },
    {
     "data": {
      "image/png": "[encoded data removed]",
      "text/plain": [
       "<Figure size 864x432 with 1 Axes>"
      ]
     },
     "metadata": {
      "needs_background": "light"
     },
     "output_type": "display_data"
    }
   ],
   "source": [
    "plt.figure(figsize=(12,6))\n",
    "\n",
    "plt.plot(df[\"N-dims\"], df[\"Numpy_Runtime\"], lw = 2, marker = 'o', ms = 10, label = \"Numpy_Runtime\")\n",
    "plt.plot(df[\"N-dims\"], df[\"Scipy_Runtime\"], lw = 2, marker = '^', ms = 10, label = \"Scipy_Runtime\")\n",
    "plt.plot(df[\"N-dims\"], df[\"Aesara_Numpy_Runtime\"], lw = 4, marker = 'x', ms = 20, label = \"Aesara_Numpy_Runtime\")\n",
    "plt.plot(df[\"N-dims\"], df[\"Aesara_Scipy_Runtime\"], lw = 2, marker = 'd', ms = 8, label = \"Aesara_Scipy_Runtime\")\n",
    "plt.legend()"
   ]
  },
  {
   "cell_type": "code",
   "execution_count": null,
   "id": "26615c1f",
   "metadata": {},
   "outputs": [],
   "source": []
  }
 ],
 "metadata": {
  "kernelspec": {
   "display_name": "Python 3 (ipykernel)",
   "language": "python",
   "name": "python3"
  },
  "language_info": {
   "codemirror_mode": {
    "name": "ipython",
    "version": 3
   },
   "file_extension": ".py",
   "mimetype": "text/x-python",
   "name": "python",
   "nbconvert_exporter": "python",
   "pygments_lexer": "ipython3",
   "version": "3.10.5"
  }
 },
 "nbformat": 4,
 "nbformat_minor": 5
}
