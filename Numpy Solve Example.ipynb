{
 "cells": [
  {
   "cell_type": "code",
   "execution_count": 1,
   "id": "0485cbaf",
   "metadata": {},
   "outputs": [],
   "source": [
    "import aesara.tensor as at\n",
    "import numpy as np"
   ]
  },
  {
   "cell_type": "markdown",
   "id": "dd90d60f",
   "metadata": {},
   "source": [
    "#### Solve the system of equations \n",
    "``x0 + 2 * x1 = 1``\n",
    "\n",
    "``3 * x0 + 5 * x1 = 2``"
   ]
  },
  {
   "cell_type": "markdown",
   "id": "3dab1432",
   "metadata": {},
   "source": [
    "### Float data - No Error"
   ]
  },
  {
   "cell_type": "code",
   "execution_count": 2,
   "id": "4b64b92a",
   "metadata": {},
   "outputs": [],
   "source": [
    "a = np.array([[1, 2], [3, 5]], dtype = 'float64')\n",
    "b = np.array([1, 2], dtype = 'float64')"
   ]
  },
  {
   "cell_type": "code",
   "execution_count": 3,
   "id": "65a3485f",
   "metadata": {},
   "outputs": [
    {
     "data": {
      "text/plain": [
       "array([-1.,  1.])"
      ]
     },
     "execution_count": 3,
     "metadata": {},
     "output_type": "execute_result"
    }
   ],
   "source": [
    "# Numpy solve\n",
    "np.linalg.solve(a, b)"
   ]
  },
  {
   "cell_type": "code",
   "execution_count": 4,
   "id": "cde5ec2f",
   "metadata": {
    "scrolled": true
   },
   "outputs": [
    {
     "data": {
      "text/plain": [
       "array([-1.,  1.])"
      ]
     },
     "execution_count": 4,
     "metadata": {},
     "output_type": "execute_result"
    }
   ],
   "source": [
    "#Aesara Scipy solve\n",
    "at.slinalg.solve(a, b).eval()"
   ]
  },
  {
   "cell_type": "code",
   "execution_count": 5,
   "id": "ea37df25",
   "metadata": {},
   "outputs": [
    {
     "data": {
      "text/plain": [
       "array([-1.,  1.])"
      ]
     },
     "execution_count": 5,
     "metadata": {},
     "output_type": "execute_result"
    }
   ],
   "source": [
    "#Aesara Numpy solve\n",
    "at.nlinalg.solve(a, b).eval()"
   ]
  },
  {
   "cell_type": "markdown",
   "id": "2cac4fe0",
   "metadata": {},
   "source": [
    "### Int data"
   ]
  },
  {
   "cell_type": "code",
   "execution_count": 6,
   "id": "d43c55c4",
   "metadata": {},
   "outputs": [],
   "source": [
    "a = np.array([[1, 2], [3, 5]])\n",
    "b = np.array([1, 2])"
   ]
  },
  {
   "cell_type": "code",
   "execution_count": 7,
   "id": "7e7ae855",
   "metadata": {},
   "outputs": [
    {
     "data": {
      "text/plain": [
       "array([-1.,  1.])"
      ]
     },
     "execution_count": 7,
     "metadata": {},
     "output_type": "execute_result"
    }
   ],
   "source": [
    "# Numpy solve\n",
    "np.linalg.solve(a, b)"
   ]
  },
  {
   "cell_type": "code",
   "execution_count": 8,
   "id": "8bafd9c4",
   "metadata": {},
   "outputs": [
    {
     "data": {
      "text/plain": [
       "array([-1.,  1.])"
      ]
     },
     "execution_count": 8,
     "metadata": {},
     "output_type": "execute_result"
    }
   ],
   "source": [
    "#Aesara Scipy solve\n",
    "at.slinalg.solve(a, b).eval()"
   ]
  },
  {
   "cell_type": "code",
   "execution_count": 9,
   "id": "8353c75c",
   "metadata": {},
   "outputs": [
    {
     "name": "stderr",
     "output_type": "stream",
     "text": [
      "ERROR (aesara.graph.opt): Optimization failure due to: constant_folding\n",
      "ERROR (aesara.graph.opt): node: Solve(TensorConstant{[[1 2]\n",
      " [3 5]]}, TensorConstant{[1 2]})\n",
      "ERROR (aesara.graph.opt): TRACEBACK:\n",
      "ERROR (aesara.graph.opt): Traceback (most recent call last):\n",
      "  File \"D:\\OpenSource\\aesara\\aesara\\graph\\opt.py\", line 1861, in process_node\n",
      "    replacements = lopt.transform(fgraph, node)\n",
      "  File \"D:\\OpenSource\\aesara\\aesara\\graph\\opt.py\", line 1066, in transform\n",
      "    return self.fn(fgraph, node)\n",
      "  File \"D:\\OpenSource\\aesara\\aesara\\tensor\\basic_opt.py\", line 2807, in constant_folding\n",
      "    v = output_type.make_constant(data)\n",
      "  File \"D:\\OpenSource\\aesara\\aesara\\graph\\type.py\", line 213, in make_constant\n",
      "    return self.constant_type(type=self, data=value, name=name)\n",
      "  File \"D:\\OpenSource\\aesara\\aesara\\tensor\\var.py\", line 1011, in __init__\n",
      "    Constant.__init__(self, new_type, data, name)\n",
      "  File \"D:\\OpenSource\\aesara\\aesara\\graph\\basic.py\", line 729, in __init__\n",
      "    self.data = type.filter(data)\n",
      "  File \"D:\\OpenSource\\aesara\\aesara\\tensor\\type.py\", line 189, in filter\n",
      "    raise TypeError(err_msg)\n",
      "TypeError: TensorType(int32, (2,)) cannot store a value of dtype float64 without risking loss of precision. If you do not mind this loss, you can: 1) explicitly cast your data to int32, or 2) set \"allow_input_downcast=True\" when calling \"function\". Value: \"array([-1.,  1.])\"\n",
      "\n",
      "ERROR (aesara.graph.opt): Optimization failure due to: constant_folding\n",
      "ERROR (aesara.graph.opt): node: Solve(TensorConstant{[[1 2]\n",
      " [3 5]]}, TensorConstant{[1 2]})\n",
      "ERROR (aesara.graph.opt): TRACEBACK:\n",
      "ERROR (aesara.graph.opt): Traceback (most recent call last):\n",
      "  File \"D:\\OpenSource\\aesara\\aesara\\graph\\opt.py\", line 1861, in process_node\n",
      "    replacements = lopt.transform(fgraph, node)\n",
      "  File \"D:\\OpenSource\\aesara\\aesara\\graph\\opt.py\", line 1066, in transform\n",
      "    return self.fn(fgraph, node)\n",
      "  File \"D:\\OpenSource\\aesara\\aesara\\tensor\\basic_opt.py\", line 2807, in constant_folding\n",
      "    v = output_type.make_constant(data)\n",
      "  File \"D:\\OpenSource\\aesara\\aesara\\graph\\type.py\", line 213, in make_constant\n",
      "    return self.constant_type(type=self, data=value, name=name)\n",
      "  File \"D:\\OpenSource\\aesara\\aesara\\tensor\\var.py\", line 1011, in __init__\n",
      "    Constant.__init__(self, new_type, data, name)\n",
      "  File \"D:\\OpenSource\\aesara\\aesara\\graph\\basic.py\", line 729, in __init__\n",
      "    self.data = type.filter(data)\n",
      "  File \"D:\\OpenSource\\aesara\\aesara\\tensor\\type.py\", line 189, in filter\n",
      "    raise TypeError(err_msg)\n",
      "TypeError: TensorType(int32, (2,)) cannot store a value of dtype float64 without risking loss of precision. If you do not mind this loss, you can: 1) explicitly cast your data to int32, or 2) set \"allow_input_downcast=True\" when calling \"function\". Value: \"array([-1.,  1.])\"\n",
      "\n",
      "ERROR (aesara.graph.opt): Optimization failure due to: constant_folding\n",
      "ERROR (aesara.graph.opt): node: Solve(TensorConstant{[[1 2]\n",
      " [3 5]]}, TensorConstant{[1 2]})\n",
      "ERROR (aesara.graph.opt): TRACEBACK:\n",
      "ERROR (aesara.graph.opt): Traceback (most recent call last):\n",
      "  File \"D:\\OpenSource\\aesara\\aesara\\graph\\opt.py\", line 1861, in process_node\n",
      "    replacements = lopt.transform(fgraph, node)\n",
      "  File \"D:\\OpenSource\\aesara\\aesara\\graph\\opt.py\", line 1066, in transform\n",
      "    return self.fn(fgraph, node)\n",
      "  File \"D:\\OpenSource\\aesara\\aesara\\tensor\\basic_opt.py\", line 2807, in constant_folding\n",
      "    v = output_type.make_constant(data)\n",
      "  File \"D:\\OpenSource\\aesara\\aesara\\graph\\type.py\", line 213, in make_constant\n",
      "    return self.constant_type(type=self, data=value, name=name)\n",
      "  File \"D:\\OpenSource\\aesara\\aesara\\tensor\\var.py\", line 1011, in __init__\n",
      "    Constant.__init__(self, new_type, data, name)\n",
      "  File \"D:\\OpenSource\\aesara\\aesara\\graph\\basic.py\", line 729, in __init__\n",
      "    self.data = type.filter(data)\n",
      "  File \"D:\\OpenSource\\aesara\\aesara\\tensor\\type.py\", line 189, in filter\n",
      "    raise TypeError(err_msg)\n",
      "TypeError: TensorType(int32, (2,)) cannot store a value of dtype float64 without risking loss of precision. If you do not mind this loss, you can: 1) explicitly cast your data to int32, or 2) set \"allow_input_downcast=True\" when calling \"function\". Value: \"array([-1.,  1.])\"\n",
      "\n",
      "ERROR (aesara.graph.opt): Optimization failure due to: constant_folding\n",
      "ERROR (aesara.graph.opt): node: Solve(TensorConstant{[[1 2]\n",
      " [3 5]]}, TensorConstant{[1 2]})\n",
      "ERROR (aesara.graph.opt): TRACEBACK:\n",
      "ERROR (aesara.graph.opt): Traceback (most recent call last):\n",
      "  File \"D:\\OpenSource\\aesara\\aesara\\graph\\opt.py\", line 1861, in process_node\n",
      "    replacements = lopt.transform(fgraph, node)\n",
      "  File \"D:\\OpenSource\\aesara\\aesara\\graph\\opt.py\", line 1066, in transform\n",
      "    return self.fn(fgraph, node)\n",
      "  File \"D:\\OpenSource\\aesara\\aesara\\tensor\\basic_opt.py\", line 2807, in constant_folding\n",
      "    v = output_type.make_constant(data)\n",
      "  File \"D:\\OpenSource\\aesara\\aesara\\graph\\type.py\", line 213, in make_constant\n",
      "    return self.constant_type(type=self, data=value, name=name)\n",
      "  File \"D:\\OpenSource\\aesara\\aesara\\tensor\\var.py\", line 1011, in __init__\n",
      "    Constant.__init__(self, new_type, data, name)\n",
      "  File \"D:\\OpenSource\\aesara\\aesara\\graph\\basic.py\", line 729, in __init__\n",
      "    self.data = type.filter(data)\n",
      "  File \"D:\\OpenSource\\aesara\\aesara\\tensor\\type.py\", line 189, in filter\n",
      "    raise TypeError(err_msg)\n",
      "TypeError: TensorType(int32, (2,)) cannot store a value of dtype float64 without risking loss of precision. If you do not mind this loss, you can: 1) explicitly cast your data to int32, or 2) set \"allow_input_downcast=True\" when calling \"function\". Value: \"array([-1.,  1.])\"\n",
      "\n",
      "ERROR (aesara.graph.opt): Optimization failure due to: constant_folding\n",
      "ERROR (aesara.graph.opt): node: Solve(TensorConstant{[[1 2]\n",
      " [3 5]]}, TensorConstant{[1 2]})\n",
      "ERROR (aesara.graph.opt): TRACEBACK:\n",
      "ERROR (aesara.graph.opt): Traceback (most recent call last):\n",
      "  File \"D:\\OpenSource\\aesara\\aesara\\graph\\opt.py\", line 1861, in process_node\n",
      "    replacements = lopt.transform(fgraph, node)\n",
      "  File \"D:\\OpenSource\\aesara\\aesara\\graph\\opt.py\", line 1066, in transform\n",
      "    return self.fn(fgraph, node)\n",
      "  File \"D:\\OpenSource\\aesara\\aesara\\tensor\\basic_opt.py\", line 2807, in constant_folding\n",
      "    v = output_type.make_constant(data)\n",
      "  File \"D:\\OpenSource\\aesara\\aesara\\graph\\type.py\", line 213, in make_constant\n",
      "    return self.constant_type(type=self, data=value, name=name)\n",
      "  File \"D:\\OpenSource\\aesara\\aesara\\tensor\\var.py\", line 1011, in __init__\n",
      "    Constant.__init__(self, new_type, data, name)\n",
      "  File \"D:\\OpenSource\\aesara\\aesara\\graph\\basic.py\", line 729, in __init__\n",
      "    self.data = type.filter(data)\n",
      "  File \"D:\\OpenSource\\aesara\\aesara\\tensor\\type.py\", line 189, in filter\n",
      "    raise TypeError(err_msg)\n",
      "TypeError: TensorType(int32, (2,)) cannot store a value of dtype float64 without risking loss of precision. If you do not mind this loss, you can: 1) explicitly cast your data to int32, or 2) set \"allow_input_downcast=True\" when calling \"function\". Value: \"array([-1.,  1.])\"\n",
      "\n"
     ]
    },
    {
     "data": {
      "text/plain": [
       "array([-1.,  1.])"
      ]
     },
     "execution_count": 9,
     "metadata": {},
     "output_type": "execute_result"
    }
   ],
   "source": [
    "#Aesara Numpy solve\n",
    "at.nlinalg.solve(a, b).eval()"
   ]
  },
  {
   "cell_type": "code",
   "execution_count": null,
   "id": "27c0892e",
   "metadata": {},
   "outputs": [],
   "source": []
  }
 ],
 "metadata": {
  "kernelspec": {
   "display_name": "Python 3 (ipykernel)",
   "language": "python",
   "name": "python3"
  },
  "language_info": {
   "codemirror_mode": {
    "name": "ipython",
    "version": 3
   },
   "file_extension": ".py",
   "mimetype": "text/x-python",
   "name": "python",
   "nbconvert_exporter": "python",
   "pygments_lexer": "ipython3",
   "version": "3.10.5"
  }
 },
 "nbformat": 4,
 "nbformat_minor": 5
}
