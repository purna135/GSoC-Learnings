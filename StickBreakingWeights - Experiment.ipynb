{
 "cells": [
  {
   "cell_type": "code",
   "execution_count": 1,
   "id": "a07ab6bc",
   "metadata": {},
   "outputs": [],
   "source": [
    "import pymc as pm\n",
    "import numpy as np"
   ]
  },
  {
   "cell_type": "markdown",
   "id": "9e716cc2",
   "metadata": {},
   "source": [
    "### alpha - scalar"
   ]
  },
  {
   "cell_type": "code",
   "execution_count": 2,
   "id": "2e124649",
   "metadata": {},
   "outputs": [
    {
     "data": {
      "text/plain": [
       "array(1.51263013)"
      ]
     },
     "execution_count": 2,
     "metadata": {},
     "output_type": "execute_result"
    }
   ],
   "source": [
    "K = 4\n",
    "alpha = 0.5\n",
    "value = np.array([5, 4, 3, 2, 1]) / 15\n",
    "\n",
    "pm.logp(pm.StickBreakingWeights.dist(alpha=alpha, K=K), value).eval()"
   ]
  },
  {
   "cell_type": "code",
   "execution_count": 3,
   "id": "292e9c06",
   "metadata": {},
   "outputs": [
    {
     "data": {
      "text/plain": [
       "array(1.51263013)"
      ]
     },
     "execution_count": 3,
     "metadata": {},
     "output_type": "execute_result"
    }
   ],
   "source": [
    "K = 4\n",
    "alpha = 0.5\n",
    "value = np.array([5, 4, 3, 2, 1]) / 15\n",
    "\n",
    "pm.logp(pm.StickBreakingWeights_Batched.dist(alpha=alpha, K=K), value).eval()"
   ]
  },
  {
   "cell_type": "markdown",
   "id": "5c13add2",
   "metadata": {},
   "source": [
    "### alpha - 1D Array"
   ]
  },
  {
   "cell_type": "code",
   "execution_count": null,
   "id": "659e5a93",
   "metadata": {},
   "outputs": [],
   "source": [
    "pm.logp(pm.StickBreakingWeights.dist(alpha=alpha, K=K), value).eval()"
   ]
  },
  {
   "cell_type": "code",
   "execution_count": 39,
   "id": "e499398c",
   "metadata": {},
   "outputs": [],
   "source": [
    "K = 4\n",
    "alpha = [0.5, 1, 2, 3]\n",
    "value = np.array([5, 4, 3, 2, 1]) / 15"
   ]
  },
  {
   "cell_type": "code",
   "execution_count": 40,
   "id": "213e4ec9",
   "metadata": {},
   "outputs": [
    {
     "data": {
      "text/plain": [
       "array([1.51263013, 2.93119375, 2.99573227, 1.9095425 ])"
      ]
     },
     "execution_count": 40,
     "metadata": {},
     "output_type": "execute_result"
    }
   ],
   "source": [
    "stick_break_batch = pm.logp(pm.StickBreakingWeights_Batched.dist(alpha=alpha, K=K), value).eval()\n",
    "stick_break_batch"
   ]
  },
  {
   "cell_type": "code",
   "execution_count": 41,
   "id": "005df228",
   "metadata": {},
   "outputs": [],
   "source": [
    "# pm.logp(pm.StickBreakingWeights.dist(alpha=alpha, K=K), value).eval()            #ERROR\n",
    "\n",
    "vfun = np.vectorize(pm.StickBreakingWeights.dist)"
   ]
  },
  {
   "cell_type": "code",
   "execution_count": 42,
   "id": "d187d63a",
   "metadata": {},
   "outputs": [
    {
     "data": {
      "text/plain": [
       "[array(1.51263013), array(2.93119375), array(2.99573227), array(1.9095425)]"
      ]
     },
     "execution_count": 42,
     "metadata": {},
     "output_type": "execute_result"
    }
   ],
   "source": [
    "stick_break = [pm.logp(stick, value).eval() for stick in vfun(alpha=alpha, K=K)]\n",
    "stick_break"
   ]
  },
  {
   "cell_type": "code",
   "execution_count": 43,
   "id": "f5169467",
   "metadata": {},
   "outputs": [
    {
     "data": {
      "text/plain": [
       "True"
      ]
     },
     "execution_count": 43,
     "metadata": {},
     "output_type": "execute_result"
    }
   ],
   "source": [
    "np.allclose(stick_break, stick_break_batch)"
   ]
  },
  {
   "cell_type": "markdown",
   "id": "0ebd029c",
   "metadata": {},
   "source": [
    "### alpha - 2D Array"
   ]
  },
  {
   "cell_type": "code",
   "execution_count": 44,
   "id": "8fb61a7f",
   "metadata": {},
   "outputs": [],
   "source": [
    "K = 4\n",
    "alpha = np.arange(1, 13).reshape(3, 4)\n",
    "value = np.array([5, 4, 3, 2, 1]) / 15"
   ]
  },
  {
   "cell_type": "code",
   "execution_count": 45,
   "id": "903b5b92",
   "metadata": {},
   "outputs": [
    {
     "data": {
      "text/plain": [
       "array([[  2.93119375,   2.99573227,   1.9095425 ,   0.35222059],\n",
       "       [ -1.4632554 ,  -3.44201938,  -5.53346686,  -7.70739149],\n",
       "       [ -9.94430955, -12.23091769, -14.55772717, -16.91773186]])"
      ]
     },
     "execution_count": 45,
     "metadata": {},
     "output_type": "execute_result"
    }
   ],
   "source": [
    "stick_break_batch = pm.logp(pm.StickBreakingWeights_Batched.dist(alpha=alpha, K=K), value).eval()\n",
    "stick_break_batch"
   ]
  },
  {
   "cell_type": "code",
   "execution_count": 48,
   "id": "06bb9b9e",
   "metadata": {},
   "outputs": [
    {
     "data": {
      "text/plain": [
       "[array(2.93119375),\n",
       " array(2.99573227),\n",
       " array(1.9095425),\n",
       " array(0.35222059),\n",
       " array(-1.4632554),\n",
       " array(-3.44201938),\n",
       " array(-5.53346686),\n",
       " array(-7.70739149),\n",
       " array(-9.94430955),\n",
       " array(-12.23091769),\n",
       " array(-14.55772717),\n",
       " array(-16.91773186)]"
      ]
     },
     "execution_count": 48,
     "metadata": {},
     "output_type": "execute_result"
    }
   ],
   "source": [
    "stick_break = [pm.logp(stick, value).eval() for stick in vfun(alpha=alpha, K=K).reshape(-1)]\n",
    "stick_break"
   ]
  },
  {
   "cell_type": "code",
   "execution_count": 50,
   "id": "13023839",
   "metadata": {},
   "outputs": [
    {
     "data": {
      "text/plain": [
       "True"
      ]
     },
     "execution_count": 50,
     "metadata": {},
     "output_type": "execute_result"
    }
   ],
   "source": [
    "np.allclose(stick_break, stick_break_batch.reshape(-1))"
   ]
  },
  {
   "cell_type": "markdown",
   "id": "8dd860eb",
   "metadata": {},
   "source": [
    "### alpha - 3D Array"
   ]
  },
  {
   "cell_type": "code",
   "execution_count": null,
   "id": "26267cad",
   "metadata": {},
   "outputs": [],
   "source": [
    "K = 4\n",
    "alpha = np.arange(1, 2*3*4+1).reshape(2, 3, 4)\n",
    "value = np.array([5, 4, 3, 2, 1]) / 15\n",
    "\n",
    "pm.logp(pm.StickBreakingWeights.dist(alpha=alpha, K=K), value).eval()"
   ]
  },
  {
   "cell_type": "code",
   "execution_count": 51,
   "id": "dd78fb63",
   "metadata": {},
   "outputs": [
    {
     "data": {
      "text/plain": [
       "array([[  2.93119375,   2.99573227,   1.9095425 ,   0.35222059],\n",
       "       [ -1.4632554 ,  -3.44201938,  -5.53346686,  -7.70739149],\n",
       "       [ -9.94430955, -12.23091769, -14.55772717, -16.91773186]])"
      ]
     },
     "execution_count": 51,
     "metadata": {},
     "output_type": "execute_result"
    }
   ],
   "source": [
    "stick_break_batch = pm.logp(pm.StickBreakingWeights_Batched.dist(alpha=alpha, K=K), value).eval()\n",
    "stick_break_batch"
   ]
  },
  {
   "cell_type": "code",
   "execution_count": 52,
   "id": "7fb4dcd2",
   "metadata": {},
   "outputs": [
    {
     "data": {
      "text/plain": [
       "[array(2.93119375),\n",
       " array(2.99573227),\n",
       " array(1.9095425),\n",
       " array(0.35222059),\n",
       " array(-1.4632554),\n",
       " array(-3.44201938),\n",
       " array(-5.53346686),\n",
       " array(-7.70739149),\n",
       " array(-9.94430955),\n",
       " array(-12.23091769),\n",
       " array(-14.55772717),\n",
       " array(-16.91773186)]"
      ]
     },
     "execution_count": 52,
     "metadata": {},
     "output_type": "execute_result"
    }
   ],
   "source": [
    "stick_break = [pm.logp(stick, value).eval() for stick in vfun(alpha=alpha, K=K).reshape(-1)]\n",
    "stick_break"
   ]
  },
  {
   "cell_type": "code",
   "execution_count": 53,
   "id": "5c8e3d65",
   "metadata": {},
   "outputs": [
    {
     "data": {
      "text/plain": [
       "True"
      ]
     },
     "execution_count": 53,
     "metadata": {},
     "output_type": "execute_result"
    }
   ],
   "source": [
    "np.allclose(stick_break, stick_break_batch.reshape(-1))"
   ]
  },
  {
   "cell_type": "code",
   "execution_count": null,
   "id": "3adee3ae",
   "metadata": {},
   "outputs": [],
   "source": []
  }
 ],
 "metadata": {
  "kernelspec": {
   "display_name": "Python 3 (ipykernel)",
   "language": "python",
   "name": "python3"
  },
  "language_info": {
   "codemirror_mode": {
    "name": "ipython",
    "version": 3
   },
   "file_extension": ".py",
   "mimetype": "text/x-python",
   "name": "python",
   "nbconvert_exporter": "python",
   "pygments_lexer": "ipython3",
   "version": "3.8.13"
  }
 },
 "nbformat": 4,
 "nbformat_minor": 5
}
