{
 "cells": [
  {
   "cell_type": "code",
   "execution_count": 17,
   "id": "a07ab6bc",
   "metadata": {},
   "outputs": [],
   "source": [
    "import pymc as pm\n",
    "import numpy as np"
   ]
  },
  {
   "cell_type": "markdown",
   "id": "9e716cc2",
   "metadata": {},
   "source": [
    "### alpha - scalar"
   ]
  },
  {
   "cell_type": "code",
   "execution_count": 18,
   "id": "2e124649",
   "metadata": {},
   "outputs": [
    {
     "data": {
      "text/plain": [
       "array(1.51263013)"
      ]
     },
     "execution_count": 18,
     "metadata": {},
     "output_type": "execute_result"
    }
   ],
   "source": [
    "K = 4\n",
    "alpha = 0.5\n",
    "value = np.array([5, 4, 3, 2, 1]) / 15\n",
    "\n",
    "pm.logp(pm.StickBreakingWeights.dist(alpha=alpha, K=K), value).eval()"
   ]
  },
  {
   "cell_type": "markdown",
   "id": "5c13add2",
   "metadata": {},
   "source": [
    "### alpha - 1D Array"
   ]
  },
  {
   "cell_type": "code",
   "execution_count": 19,
   "id": "005df228",
   "metadata": {},
   "outputs": [
    {
     "data": {
      "text/plain": [
       "array([1.51263013, 2.93119375, 2.99573227, 1.9095425 ])"
      ]
     },
     "execution_count": 19,
     "metadata": {},
     "output_type": "execute_result"
    }
   ],
   "source": [
    "K = 4\n",
    "alpha = [0.5, 1, 2, 3]\n",
    "value = np.array([5, 4, 3, 2, 1]) / 15\n",
    "\n",
    "pm.logp(pm.StickBreakingWeights.dist(alpha=alpha, K=K), value).eval()"
   ]
  },
  {
   "cell_type": "markdown",
   "id": "0ebd029c",
   "metadata": {},
   "source": [
    "### alpha - 2D Array"
   ]
  },
  {
   "cell_type": "code",
   "execution_count": 20,
   "id": "8fb61a7f",
   "metadata": {},
   "outputs": [
    {
     "data": {
      "text/plain": [
       "array([[  2.93119375,   2.99573227,   1.9095425 ,   0.35222059],\n",
       "       [ -1.4632554 ,  -3.44201938,  -5.53346686,  -7.70739149],\n",
       "       [ -9.94430955, -12.23091769, -14.55772717, -16.91773186]])"
      ]
     },
     "execution_count": 20,
     "metadata": {},
     "output_type": "execute_result"
    }
   ],
   "source": [
    "K = 4\n",
    "alpha = np.arange(1, 13).reshape(3, 4)\n",
    "value = np.array([5, 4, 3, 2, 1]) / 15\n",
    "\n",
    "pm.logp(pm.StickBreakingWeights.dist(alpha=alpha, K=K), value).eval()"
   ]
  },
  {
   "cell_type": "markdown",
   "id": "8dd860eb",
   "metadata": {},
   "source": [
    "### alpha - 3D Array"
   ]
  },
  {
   "cell_type": "code",
   "execution_count": 35,
   "id": "26267cad",
   "metadata": {},
   "outputs": [
    {
     "data": {
      "text/plain": [
       "array([[[  2.93119375,   2.99573227,   1.9095425 ,   0.35222059],\n",
       "        [ -1.4632554 ,  -3.44201938,  -5.53346686,  -7.70739149],\n",
       "        [ -9.94430955, -12.23091769, -14.55772717, -16.91773186]],\n",
       "\n",
       "       [[-19.30561123, -21.71722954, -24.14930826, -26.59920438],\n",
       "        [-29.06475609, -31.54417263, -34.03595395, -36.53883097],\n",
       "        [-39.05172052, -41.57369066, -44.10393381, -46.64174555]]])"
      ]
     },
     "execution_count": 35,
     "metadata": {},
     "output_type": "execute_result"
    }
   ],
   "source": [
    "K = 4\n",
    "alpha = np.arange(1, 2*3*4+1).reshape(2, 3, 4)\n",
    "value = np.array([5, 4, 3, 2, 1]) / 15\n",
    "\n",
    "pm.logp(pm.StickBreakingWeights.dist(alpha=alpha, K=K), value).eval()"
   ]
  },
  {
   "cell_type": "code",
   "execution_count": null,
   "id": "4115e315",
   "metadata": {},
   "outputs": [],
   "source": []
  }
 ],
 "metadata": {
  "kernelspec": {
   "display_name": "Python 3 (ipykernel)",
   "language": "python",
   "name": "python3"
  },
  "language_info": {
   "codemirror_mode": {
    "name": "ipython",
    "version": 3
   },
   "file_extension": ".py",
   "mimetype": "text/x-python",
   "name": "python",
   "nbconvert_exporter": "python",
   "pygments_lexer": "ipython3",
   "version": "3.8.13"
  }
 },
 "nbformat": 4,
 "nbformat_minor": 5
}
