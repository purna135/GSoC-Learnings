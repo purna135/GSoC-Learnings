{
 "cells": [
  {
   "cell_type": "markdown",
   "id": "e17f6e21",
   "metadata": {},
   "source": [
    "## Defining data"
   ]
  },
  {
   "cell_type": "code",
   "execution_count": 2,
   "id": "aa460a32",
   "metadata": {},
   "outputs": [
    {
     "data": {
      "text/plain": [
       "array([[ 0,  1,  2,  3],\n",
       "       [ 4,  5,  6,  7],\n",
       "       [ 8,  9, 10, 11]])"
      ]
     },
     "execution_count": 2,
     "metadata": {},
     "output_type": "execute_result"
    }
   ],
   "source": [
    "d2_data = np.arange(3*4).reshape(3,4)\n",
    "d2_data"
   ]
  },
  {
   "cell_type": "code",
   "execution_count": 3,
   "id": "f01be559",
   "metadata": {},
   "outputs": [
    {
     "data": {
      "text/plain": [
       "array([[[ 0,  1,  2,  3,  4],\n",
       "        [ 5,  6,  7,  8,  9],\n",
       "        [10, 11, 12, 13, 14],\n",
       "        [15, 16, 17, 18, 19]],\n",
       "\n",
       "       [[20, 21, 22, 23, 24],\n",
       "        [25, 26, 27, 28, 29],\n",
       "        [30, 31, 32, 33, 34],\n",
       "        [35, 36, 37, 38, 39]],\n",
       "\n",
       "       [[40, 41, 42, 43, 44],\n",
       "        [45, 46, 47, 48, 49],\n",
       "        [50, 51, 52, 53, 54],\n",
       "        [55, 56, 57, 58, 59]]])"
      ]
     },
     "execution_count": 3,
     "metadata": {},
     "output_type": "execute_result"
    }
   ],
   "source": [
    "d3_data = np.arange(3*4*5).reshape(3,4,5)\n",
    "d3_data"
   ]
  },
  {
   "cell_type": "code",
   "execution_count": 4,
   "id": "c7f65900",
   "metadata": {},
   "outputs": [
    {
     "data": {
      "text/plain": [
       "array([[[[  0,   1,   2,   3,   4],\n",
       "         [  5,   6,   7,   8,   9],\n",
       "         [ 10,  11,  12,  13,  14],\n",
       "         [ 15,  16,  17,  18,  19]],\n",
       "\n",
       "        [[ 20,  21,  22,  23,  24],\n",
       "         [ 25,  26,  27,  28,  29],\n",
       "         [ 30,  31,  32,  33,  34],\n",
       "         [ 35,  36,  37,  38,  39]],\n",
       "\n",
       "        [[ 40,  41,  42,  43,  44],\n",
       "         [ 45,  46,  47,  48,  49],\n",
       "         [ 50,  51,  52,  53,  54],\n",
       "         [ 55,  56,  57,  58,  59]]],\n",
       "\n",
       "\n",
       "       [[[ 60,  61,  62,  63,  64],\n",
       "         [ 65,  66,  67,  68,  69],\n",
       "         [ 70,  71,  72,  73,  74],\n",
       "         [ 75,  76,  77,  78,  79]],\n",
       "\n",
       "        [[ 80,  81,  82,  83,  84],\n",
       "         [ 85,  86,  87,  88,  89],\n",
       "         [ 90,  91,  92,  93,  94],\n",
       "         [ 95,  96,  97,  98,  99]],\n",
       "\n",
       "        [[100, 101, 102, 103, 104],\n",
       "         [105, 106, 107, 108, 109],\n",
       "         [110, 111, 112, 113, 114],\n",
       "         [115, 116, 117, 118, 119]]]])"
      ]
     },
     "execution_count": 4,
     "metadata": {},
     "output_type": "execute_result"
    }
   ],
   "source": [
    "d4_data = np.arange(2*3*4*5).reshape(2,3,4,5)\n",
    "d4_data"
   ]
  },
  {
   "cell_type": "markdown",
   "id": "bb56bd4d",
   "metadata": {},
   "source": [
    "## Numpy Tril Method"
   ]
  },
  {
   "cell_type": "code",
   "execution_count": 6,
   "id": "6be8cba5",
   "metadata": {},
   "outputs": [
    {
     "data": {
      "text/plain": [
       "array([[ 0,  0,  0,  0],\n",
       "       [ 4,  5,  0,  0],\n",
       "       [ 8,  9, 10,  0]])"
      ]
     },
     "execution_count": 6,
     "metadata": {},
     "output_type": "execute_result"
    }
   ],
   "source": [
    "# for 2D Data\n",
    "np.tril(d2_data)"
   ]
  },
  {
   "cell_type": "code",
   "execution_count": 7,
   "id": "586b5b79",
   "metadata": {},
   "outputs": [
    {
     "data": {
      "text/plain": [
       "array([[[ 0,  0,  0,  0,  0],\n",
       "        [ 5,  6,  0,  0,  0],\n",
       "        [10, 11, 12,  0,  0],\n",
       "        [15, 16, 17, 18,  0]],\n",
       "\n",
       "       [[20,  0,  0,  0,  0],\n",
       "        [25, 26,  0,  0,  0],\n",
       "        [30, 31, 32,  0,  0],\n",
       "        [35, 36, 37, 38,  0]],\n",
       "\n",
       "       [[40,  0,  0,  0,  0],\n",
       "        [45, 46,  0,  0,  0],\n",
       "        [50, 51, 52,  0,  0],\n",
       "        [55, 56, 57, 58,  0]]])"
      ]
     },
     "execution_count": 7,
     "metadata": {},
     "output_type": "execute_result"
    }
   ],
   "source": [
    "# for 3D Data\n",
    "np.tril(d3_data)"
   ]
  },
  {
   "cell_type": "code",
   "execution_count": 8,
   "id": "71d9cf90",
   "metadata": {},
   "outputs": [
    {
     "data": {
      "text/plain": [
       "array([[[[  0,   0,   0,   0,   0],\n",
       "         [  5,   6,   0,   0,   0],\n",
       "         [ 10,  11,  12,   0,   0],\n",
       "         [ 15,  16,  17,  18,   0]],\n",
       "\n",
       "        [[ 20,   0,   0,   0,   0],\n",
       "         [ 25,  26,   0,   0,   0],\n",
       "         [ 30,  31,  32,   0,   0],\n",
       "         [ 35,  36,  37,  38,   0]],\n",
       "\n",
       "        [[ 40,   0,   0,   0,   0],\n",
       "         [ 45,  46,   0,   0,   0],\n",
       "         [ 50,  51,  52,   0,   0],\n",
       "         [ 55,  56,  57,  58,   0]]],\n",
       "\n",
       "\n",
       "       [[[ 60,   0,   0,   0,   0],\n",
       "         [ 65,  66,   0,   0,   0],\n",
       "         [ 70,  71,  72,   0,   0],\n",
       "         [ 75,  76,  77,  78,   0]],\n",
       "\n",
       "        [[ 80,   0,   0,   0,   0],\n",
       "         [ 85,  86,   0,   0,   0],\n",
       "         [ 90,  91,  92,   0,   0],\n",
       "         [ 95,  96,  97,  98,   0]],\n",
       "\n",
       "        [[100,   0,   0,   0,   0],\n",
       "         [105, 106,   0,   0,   0],\n",
       "         [110, 111, 112,   0,   0],\n",
       "         [115, 116, 117, 118,   0]]]])"
      ]
     },
     "execution_count": 8,
     "metadata": {},
     "output_type": "execute_result"
    }
   ],
   "source": [
    "# for 4D Data\n",
    "np.tril(d4_data)"
   ]
  },
  {
   "cell_type": "markdown",
   "id": "ff6ae94f",
   "metadata": {},
   "source": [
    "## Aesara Tril - Before"
   ]
  },
  {
   "cell_type": "code",
   "execution_count": 1,
   "id": "a22aae2c",
   "metadata": {},
   "outputs": [
    {
     "name": "stdout",
     "output_type": "stream",
     "text": [
      "WARN: Could not locate executable g77\n",
      "WARN: Could not locate executable f77\n",
      "WARN: Could not locate executable ifort\n",
      "WARN: Could not locate executable ifl\n",
      "WARN: Could not locate executable f90\n",
      "WARN: Could not locate executable DF\n",
      "WARN: Could not locate executable efl\n"
     ]
    }
   ],
   "source": [
    "import numpy as np\n",
    "import aesara.tensor as at"
   ]
  },
  {
   "cell_type": "code",
   "execution_count": 6,
   "id": "2da23b9b",
   "metadata": {},
   "outputs": [
    {
     "data": {
      "text/plain": [
       "array([[ 0,  0,  0,  0],\n",
       "       [ 4,  5,  0,  0],\n",
       "       [ 8,  9, 10,  0]])"
      ]
     },
     "execution_count": 6,
     "metadata": {},
     "output_type": "execute_result"
    }
   ],
   "source": [
    "at.tril(d2_data).eval()"
   ]
  },
  {
   "cell_type": "code",
   "execution_count": 7,
   "id": "6b929727",
   "metadata": {},
   "outputs": [
    {
     "name": "stderr",
     "output_type": "stream",
     "text": [
      "ERROR (aesara.graph.opt): Optimization failure due to: constant_folding\n",
      "ERROR (aesara.graph.opt): node: Elemwise{mul,no_inplace}(TensorConstant{[[[ 0  1  ..7 58 59]]]}, TensorConstant{[[[1 0 0 0..1 1 1 0]]]})\n",
      "ERROR (aesara.graph.opt): TRACEBACK:\n",
      "ERROR (aesara.graph.opt): Traceback (most recent call last):\n",
      "  File \"D:\\OpenSource\\aesara\\aesara\\graph\\opt.py\", line 1861, in process_node\n",
      "    replacements = lopt.transform(fgraph, node)\n",
      "  File \"D:\\OpenSource\\aesara\\aesara\\graph\\opt.py\", line 1066, in transform\n",
      "    return self.fn(fgraph, node)\n",
      "  File \"D:\\OpenSource\\aesara\\aesara\\tensor\\basic_opt.py\", line 2868, in constant_folding\n",
      "    required = thunk()\n",
      "  File \"D:\\OpenSource\\aesara\\aesara\\link\\c\\op.py\", line 103, in rval\n",
      "    thunk()\n",
      "  File \"D:\\OpenSource\\aesara\\aesara\\link\\c\\basic.py\", line 1769, in __call__\n",
      "    raise exc_value.with_traceback(exc_trace)\n",
      "ValueError: Input dimension mismatch. One other input has shape[1] = 4, but input[1].shape[1] = 3.\n",
      "\n",
      "ERROR (aesara.graph.opt): Optimization failure due to: constant_folding\n",
      "ERROR (aesara.graph.opt): node: Elemwise{mul,no_inplace}(TensorConstant{[[[ 0  1  ..7 58 59]]]}, TensorConstant{[[[1 0 0 0..1 1 1 0]]]})\n",
      "ERROR (aesara.graph.opt): TRACEBACK:\n",
      "ERROR (aesara.graph.opt): Traceback (most recent call last):\n",
      "  File \"D:\\OpenSource\\aesara\\aesara\\graph\\opt.py\", line 1861, in process_node\n",
      "    replacements = lopt.transform(fgraph, node)\n",
      "  File \"D:\\OpenSource\\aesara\\aesara\\graph\\opt.py\", line 1066, in transform\n",
      "    return self.fn(fgraph, node)\n",
      "  File \"D:\\OpenSource\\aesara\\aesara\\tensor\\basic_opt.py\", line 2868, in constant_folding\n",
      "    required = thunk()\n",
      "  File \"D:\\OpenSource\\aesara\\aesara\\link\\c\\op.py\", line 103, in rval\n",
      "    thunk()\n",
      "  File \"D:\\OpenSource\\aesara\\aesara\\link\\c\\basic.py\", line 1769, in __call__\n",
      "    raise exc_value.with_traceback(exc_trace)\n",
      "ValueError: Input dimension mismatch. One other input has shape[1] = 4, but input[1].shape[1] = 3.\n",
      "\n",
      "ERROR (aesara.graph.opt): Optimization failure due to: constant_folding\n",
      "ERROR (aesara.graph.opt): node: Elemwise{mul,no_inplace}(TensorConstant{[[[ 0  1  ..7 58 59]]]}, TensorConstant{[[[1 0 0 0..1 1 1 0]]]})\n",
      "ERROR (aesara.graph.opt): TRACEBACK:\n",
      "ERROR (aesara.graph.opt): Traceback (most recent call last):\n",
      "  File \"D:\\OpenSource\\aesara\\aesara\\graph\\opt.py\", line 1861, in process_node\n",
      "    replacements = lopt.transform(fgraph, node)\n",
      "  File \"D:\\OpenSource\\aesara\\aesara\\graph\\opt.py\", line 1066, in transform\n",
      "    return self.fn(fgraph, node)\n",
      "  File \"D:\\OpenSource\\aesara\\aesara\\tensor\\basic_opt.py\", line 2868, in constant_folding\n",
      "    required = thunk()\n",
      "  File \"D:\\OpenSource\\aesara\\aesara\\link\\c\\op.py\", line 103, in rval\n",
      "    thunk()\n",
      "  File \"D:\\OpenSource\\aesara\\aesara\\link\\c\\basic.py\", line 1769, in __call__\n",
      "    raise exc_value.with_traceback(exc_trace)\n",
      "ValueError: Input dimension mismatch. One other input has shape[1] = 4, but input[1].shape[1] = 3.\n",
      "\n",
      "ERROR (aesara.graph.opt): Optimization failure due to: constant_folding\n",
      "ERROR (aesara.graph.opt): node: Elemwise{mul,no_inplace}(TensorConstant{[[[ 0  1  ..7 58 59]]]}, TensorConstant{[[[1 0 0 0..1 1 1 0]]]})\n",
      "ERROR (aesara.graph.opt): TRACEBACK:\n",
      "ERROR (aesara.graph.opt): Traceback (most recent call last):\n",
      "  File \"D:\\OpenSource\\aesara\\aesara\\graph\\opt.py\", line 1861, in process_node\n",
      "    replacements = lopt.transform(fgraph, node)\n",
      "  File \"D:\\OpenSource\\aesara\\aesara\\graph\\opt.py\", line 1066, in transform\n",
      "    return self.fn(fgraph, node)\n",
      "  File \"D:\\OpenSource\\aesara\\aesara\\tensor\\basic_opt.py\", line 2868, in constant_folding\n",
      "    required = thunk()\n",
      "  File \"D:\\OpenSource\\aesara\\aesara\\link\\c\\op.py\", line 103, in rval\n",
      "    thunk()\n",
      "  File \"D:\\OpenSource\\aesara\\aesara\\link\\c\\basic.py\", line 1769, in __call__\n",
      "    raise exc_value.with_traceback(exc_trace)\n",
      "ValueError: Input dimension mismatch. One other input has shape[1] = 4, but input[1].shape[1] = 3.\n",
      "\n",
      "ERROR (aesara.graph.opt): Optimization failure due to: constant_folding\n",
      "ERROR (aesara.graph.opt): node: Elemwise{mul,no_inplace}(TensorConstant{[[[ 0  1  ..7 58 59]]]}, TensorConstant{[[[1 0 0 0..1 1 1 0]]]})\n",
      "ERROR (aesara.graph.opt): TRACEBACK:\n",
      "ERROR (aesara.graph.opt): Traceback (most recent call last):\n",
      "  File \"D:\\OpenSource\\aesara\\aesara\\graph\\opt.py\", line 1861, in process_node\n",
      "    replacements = lopt.transform(fgraph, node)\n",
      "  File \"D:\\OpenSource\\aesara\\aesara\\graph\\opt.py\", line 1066, in transform\n",
      "    return self.fn(fgraph, node)\n",
      "  File \"D:\\OpenSource\\aesara\\aesara\\tensor\\basic_opt.py\", line 2868, in constant_folding\n",
      "    required = thunk()\n",
      "  File \"D:\\OpenSource\\aesara\\aesara\\link\\c\\op.py\", line 103, in rval\n",
      "    thunk()\n",
      "  File \"D:\\OpenSource\\aesara\\aesara\\link\\c\\basic.py\", line 1769, in __call__\n",
      "    raise exc_value.with_traceback(exc_trace)\n",
      "ValueError: Input dimension mismatch. One other input has shape[1] = 4, but input[1].shape[1] = 3.\n",
      "\n",
      "ERROR (aesara.graph.opt): Optimization failure due to: constant_folding\n",
      "ERROR (aesara.graph.opt): node: Elemwise{mul,no_inplace}(TensorConstant{[[[ 0  1  ..7 58 59]]]}, TensorConstant{[[[1 0 0 0..1 1 1 0]]]})\n",
      "ERROR (aesara.graph.opt): TRACEBACK:\n",
      "ERROR (aesara.graph.opt): Traceback (most recent call last):\n",
      "  File \"D:\\OpenSource\\aesara\\aesara\\graph\\opt.py\", line 1861, in process_node\n",
      "    replacements = lopt.transform(fgraph, node)\n",
      "  File \"D:\\OpenSource\\aesara\\aesara\\graph\\opt.py\", line 1066, in transform\n",
      "    return self.fn(fgraph, node)\n",
      "  File \"D:\\OpenSource\\aesara\\aesara\\tensor\\basic_opt.py\", line 2868, in constant_folding\n",
      "    required = thunk()\n",
      "  File \"D:\\OpenSource\\aesara\\aesara\\link\\c\\op.py\", line 103, in rval\n",
      "    thunk()\n",
      "  File \"D:\\OpenSource\\aesara\\aesara\\link\\c\\basic.py\", line 1769, in __call__\n",
      "    raise exc_value.with_traceback(exc_trace)\n",
      "ValueError: Input dimension mismatch. One other input has shape[1] = 4, but input[1].shape[1] = 3.\n",
      "\n"
     ]
    },
    {
     "ename": "ValueError",
     "evalue": "Input dimension mismatch. One other input has shape[1] = 4, but input[1].shape[1] = 3.\nApply node that caused the error: Elemwise{mul,no_inplace}(TensorConstant{[[[ 0  1  ..7 58 59]]]}, TensorConstant{[[[1 0 0 0..1 1 1 0]]]})\nToposort index: 0\nInputs types: [TensorType(int32, (3, 4, 5)), TensorType(int32, (1, 3, 4))]\nInputs shapes: [(3, 4, 5), (1, 3, 4)]\nInputs strides: [(80, 20, 4), (48, 16, 4)]\nInputs values: ['not shown', 'not shown']\nOutputs clients: [['output']]\n\nBacktrace when the node is created (use Aesara flag traceback__limit=N to make it longer):\n  File \"C:\\Users\\Purna\\anaconda3\\envs\\aesara-dev\\lib\\site-packages\\ipykernel\\zmqshell.py\", line 528, in run_cell\n    return super().run_cell(*args, **kwargs)\n  File \"C:\\Users\\Purna\\anaconda3\\envs\\aesara-dev\\lib\\site-packages\\IPython\\core\\interactiveshell.py\", line 2881, in run_cell\n    result = self._run_cell(\n  File \"C:\\Users\\Purna\\anaconda3\\envs\\aesara-dev\\lib\\site-packages\\IPython\\core\\interactiveshell.py\", line 2936, in _run_cell\n    return runner(coro)\n  File \"C:\\Users\\Purna\\anaconda3\\envs\\aesara-dev\\lib\\site-packages\\IPython\\core\\async_helpers.py\", line 129, in _pseudo_sync_runner\n    coro.send(None)\n  File \"C:\\Users\\Purna\\anaconda3\\envs\\aesara-dev\\lib\\site-packages\\IPython\\core\\interactiveshell.py\", line 3135, in run_cell_async\n    has_raised = await self.run_ast_nodes(code_ast.body, cell_name,\n  File \"C:\\Users\\Purna\\anaconda3\\envs\\aesara-dev\\lib\\site-packages\\IPython\\core\\interactiveshell.py\", line 3338, in run_ast_nodes\n    if await self.run_code(code, result, async_=asy):\n  File \"C:\\Users\\Purna\\anaconda3\\envs\\aesara-dev\\lib\\site-packages\\IPython\\core\\interactiveshell.py\", line 3398, in run_code\n    exec(code_obj, self.user_global_ns, self.user_ns)\n  File \"C:\\Users\\Purna\\AppData\\Local\\Temp\\ipykernel_5944\\3809819310.py\", line 1, in <cell line: 1>\n    at.tril(d3_data).eval()\n\nHINT: Use the Aesara flag `exception_verbosity=high` for a debug print-out and storage map footprint of this Apply node.",
     "output_type": "error",
     "traceback": [
      "\u001b[1;31m---------------------------------------------------------------------------\u001b[0m",
      "\u001b[1;31mValueError\u001b[0m                                Traceback (most recent call last)",
      "File \u001b[1;32mD:\\OpenSource\\aesara\\aesara\\compile\\function\\types.py:975\u001b[0m, in \u001b[0;36mFunction.__call__\u001b[1;34m(self, *args, **kwargs)\u001b[0m\n\u001b[0;32m    973\u001b[0m \u001b[38;5;28;01mtry\u001b[39;00m:\n\u001b[0;32m    974\u001b[0m     outputs \u001b[38;5;241m=\u001b[39m (\n\u001b[1;32m--> 975\u001b[0m         \u001b[38;5;28;43mself\u001b[39;49m\u001b[38;5;241;43m.\u001b[39;49m\u001b[43mvm\u001b[49m\u001b[43m(\u001b[49m\u001b[43m)\u001b[49m\n\u001b[0;32m    976\u001b[0m         \u001b[38;5;28;01mif\u001b[39;00m output_subset \u001b[38;5;129;01mis\u001b[39;00m \u001b[38;5;28;01mNone\u001b[39;00m\n\u001b[0;32m    977\u001b[0m         \u001b[38;5;28;01melse\u001b[39;00m \u001b[38;5;28mself\u001b[39m\u001b[38;5;241m.\u001b[39mvm(output_subset\u001b[38;5;241m=\u001b[39moutput_subset)\n\u001b[0;32m    978\u001b[0m     )\n\u001b[0;32m    979\u001b[0m \u001b[38;5;28;01mexcept\u001b[39;00m \u001b[38;5;167;01mException\u001b[39;00m:\n",
      "\u001b[1;31mValueError\u001b[0m: Input dimension mismatch. One other input has shape[1] = 4, but input[1].shape[1] = 3.",
      "\nDuring handling of the above exception, another exception occurred:\n",
      "\u001b[1;31mValueError\u001b[0m                                Traceback (most recent call last)",
      "Input \u001b[1;32mIn [7]\u001b[0m, in \u001b[0;36m<cell line: 1>\u001b[1;34m()\u001b[0m\n\u001b[1;32m----> 1\u001b[0m \u001b[43mat\u001b[49m\u001b[38;5;241;43m.\u001b[39;49m\u001b[43mtril\u001b[49m\u001b[43m(\u001b[49m\u001b[43md3_data\u001b[49m\u001b[43m)\u001b[49m\u001b[38;5;241;43m.\u001b[39;49m\u001b[43meval\u001b[49m\u001b[43m(\u001b[49m\u001b[43m)\u001b[49m\n",
      "File \u001b[1;32mD:\\OpenSource\\aesara\\aesara\\graph\\basic.py:602\u001b[0m, in \u001b[0;36mVariable.eval\u001b[1;34m(self, inputs_to_values)\u001b[0m\n\u001b[0;32m    599\u001b[0m     \u001b[38;5;28mself\u001b[39m\u001b[38;5;241m.\u001b[39m_fn_cache[inputs] \u001b[38;5;241m=\u001b[39m function(inputs, \u001b[38;5;28mself\u001b[39m)\n\u001b[0;32m    600\u001b[0m args \u001b[38;5;241m=\u001b[39m [inputs_to_values[param] \u001b[38;5;28;01mfor\u001b[39;00m param \u001b[38;5;129;01min\u001b[39;00m inputs]\n\u001b[1;32m--> 602\u001b[0m rval \u001b[38;5;241m=\u001b[39m \u001b[38;5;28;43mself\u001b[39;49m\u001b[38;5;241;43m.\u001b[39;49m\u001b[43m_fn_cache\u001b[49m\u001b[43m[\u001b[49m\u001b[43minputs\u001b[49m\u001b[43m]\u001b[49m\u001b[43m(\u001b[49m\u001b[38;5;241;43m*\u001b[39;49m\u001b[43margs\u001b[49m\u001b[43m)\u001b[49m\n\u001b[0;32m    604\u001b[0m \u001b[38;5;28;01mreturn\u001b[39;00m rval\n",
      "File \u001b[1;32mD:\\OpenSource\\aesara\\aesara\\compile\\function\\types.py:988\u001b[0m, in \u001b[0;36mFunction.__call__\u001b[1;34m(self, *args, **kwargs)\u001b[0m\n\u001b[0;32m    986\u001b[0m     \u001b[38;5;28;01mif\u001b[39;00m \u001b[38;5;28mhasattr\u001b[39m(\u001b[38;5;28mself\u001b[39m\u001b[38;5;241m.\u001b[39mvm, \u001b[38;5;124m\"\u001b[39m\u001b[38;5;124mthunks\u001b[39m\u001b[38;5;124m\"\u001b[39m):\n\u001b[0;32m    987\u001b[0m         thunk \u001b[38;5;241m=\u001b[39m \u001b[38;5;28mself\u001b[39m\u001b[38;5;241m.\u001b[39mvm\u001b[38;5;241m.\u001b[39mthunks[\u001b[38;5;28mself\u001b[39m\u001b[38;5;241m.\u001b[39mvm\u001b[38;5;241m.\u001b[39mposition_of_error]\n\u001b[1;32m--> 988\u001b[0m     \u001b[43mraise_with_op\u001b[49m\u001b[43m(\u001b[49m\n\u001b[0;32m    989\u001b[0m \u001b[43m        \u001b[49m\u001b[38;5;28;43mself\u001b[39;49m\u001b[38;5;241;43m.\u001b[39;49m\u001b[43mmaker\u001b[49m\u001b[38;5;241;43m.\u001b[39;49m\u001b[43mfgraph\u001b[49m\u001b[43m,\u001b[49m\n\u001b[0;32m    990\u001b[0m \u001b[43m        \u001b[49m\u001b[43mnode\u001b[49m\u001b[38;5;241;43m=\u001b[39;49m\u001b[38;5;28;43mself\u001b[39;49m\u001b[38;5;241;43m.\u001b[39;49m\u001b[43mvm\u001b[49m\u001b[38;5;241;43m.\u001b[39;49m\u001b[43mnodes\u001b[49m\u001b[43m[\u001b[49m\u001b[38;5;28;43mself\u001b[39;49m\u001b[38;5;241;43m.\u001b[39;49m\u001b[43mvm\u001b[49m\u001b[38;5;241;43m.\u001b[39;49m\u001b[43mposition_of_error\u001b[49m\u001b[43m]\u001b[49m\u001b[43m,\u001b[49m\n\u001b[0;32m    991\u001b[0m \u001b[43m        \u001b[49m\u001b[43mthunk\u001b[49m\u001b[38;5;241;43m=\u001b[39;49m\u001b[43mthunk\u001b[49m\u001b[43m,\u001b[49m\n\u001b[0;32m    992\u001b[0m \u001b[43m        \u001b[49m\u001b[43mstorage_map\u001b[49m\u001b[38;5;241;43m=\u001b[39;49m\u001b[38;5;28;43mgetattr\u001b[39;49m\u001b[43m(\u001b[49m\u001b[38;5;28;43mself\u001b[39;49m\u001b[38;5;241;43m.\u001b[39;49m\u001b[43mvm\u001b[49m\u001b[43m,\u001b[49m\u001b[43m \u001b[49m\u001b[38;5;124;43m\"\u001b[39;49m\u001b[38;5;124;43mstorage_map\u001b[39;49m\u001b[38;5;124;43m\"\u001b[39;49m\u001b[43m,\u001b[49m\u001b[43m \u001b[49m\u001b[38;5;28;43;01mNone\u001b[39;49;00m\u001b[43m)\u001b[49m\u001b[43m,\u001b[49m\n\u001b[0;32m    993\u001b[0m \u001b[43m    \u001b[49m\u001b[43m)\u001b[49m\n\u001b[0;32m    994\u001b[0m \u001b[38;5;28;01melse\u001b[39;00m:\n\u001b[0;32m    995\u001b[0m     \u001b[38;5;66;03m# old-style linkers raise their own exceptions\u001b[39;00m\n\u001b[0;32m    996\u001b[0m     \u001b[38;5;28;01mraise\u001b[39;00m\n",
      "File \u001b[1;32mD:\\OpenSource\\aesara\\aesara\\link\\utils.py:534\u001b[0m, in \u001b[0;36mraise_with_op\u001b[1;34m(fgraph, node, thunk, exc_info, storage_map)\u001b[0m\n\u001b[0;32m    529\u001b[0m     warnings\u001b[38;5;241m.\u001b[39mwarn(\n\u001b[0;32m    530\u001b[0m         \u001b[38;5;124mf\u001b[39m\u001b[38;5;124m\"\u001b[39m\u001b[38;5;132;01m{\u001b[39;00mexc_type\u001b[38;5;132;01m}\u001b[39;00m\u001b[38;5;124m error does not allow us to add an extra error message\u001b[39m\u001b[38;5;124m\"\u001b[39m\n\u001b[0;32m    531\u001b[0m     )\n\u001b[0;32m    532\u001b[0m     \u001b[38;5;66;03m# Some exception need extra parameter in inputs. So forget the\u001b[39;00m\n\u001b[0;32m    533\u001b[0m     \u001b[38;5;66;03m# extra long error message in that case.\u001b[39;00m\n\u001b[1;32m--> 534\u001b[0m \u001b[38;5;28;01mraise\u001b[39;00m exc_value\u001b[38;5;241m.\u001b[39mwith_traceback(exc_trace)\n",
      "File \u001b[1;32mD:\\OpenSource\\aesara\\aesara\\compile\\function\\types.py:975\u001b[0m, in \u001b[0;36mFunction.__call__\u001b[1;34m(self, *args, **kwargs)\u001b[0m\n\u001b[0;32m    972\u001b[0m t0_fn \u001b[38;5;241m=\u001b[39m time\u001b[38;5;241m.\u001b[39mtime()\n\u001b[0;32m    973\u001b[0m \u001b[38;5;28;01mtry\u001b[39;00m:\n\u001b[0;32m    974\u001b[0m     outputs \u001b[38;5;241m=\u001b[39m (\n\u001b[1;32m--> 975\u001b[0m         \u001b[38;5;28;43mself\u001b[39;49m\u001b[38;5;241;43m.\u001b[39;49m\u001b[43mvm\u001b[49m\u001b[43m(\u001b[49m\u001b[43m)\u001b[49m\n\u001b[0;32m    976\u001b[0m         \u001b[38;5;28;01mif\u001b[39;00m output_subset \u001b[38;5;129;01mis\u001b[39;00m \u001b[38;5;28;01mNone\u001b[39;00m\n\u001b[0;32m    977\u001b[0m         \u001b[38;5;28;01melse\u001b[39;00m \u001b[38;5;28mself\u001b[39m\u001b[38;5;241m.\u001b[39mvm(output_subset\u001b[38;5;241m=\u001b[39moutput_subset)\n\u001b[0;32m    978\u001b[0m     )\n\u001b[0;32m    979\u001b[0m \u001b[38;5;28;01mexcept\u001b[39;00m \u001b[38;5;167;01mException\u001b[39;00m:\n\u001b[0;32m    980\u001b[0m     restore_defaults()\n",
      "\u001b[1;31mValueError\u001b[0m: Input dimension mismatch. One other input has shape[1] = 4, but input[1].shape[1] = 3.\nApply node that caused the error: Elemwise{mul,no_inplace}(TensorConstant{[[[ 0  1  ..7 58 59]]]}, TensorConstant{[[[1 0 0 0..1 1 1 0]]]})\nToposort index: 0\nInputs types: [TensorType(int32, (3, 4, 5)), TensorType(int32, (1, 3, 4))]\nInputs shapes: [(3, 4, 5), (1, 3, 4)]\nInputs strides: [(80, 20, 4), (48, 16, 4)]\nInputs values: ['not shown', 'not shown']\nOutputs clients: [['output']]\n\nBacktrace when the node is created (use Aesara flag traceback__limit=N to make it longer):\n  File \"C:\\Users\\Purna\\anaconda3\\envs\\aesara-dev\\lib\\site-packages\\ipykernel\\zmqshell.py\", line 528, in run_cell\n    return super().run_cell(*args, **kwargs)\n  File \"C:\\Users\\Purna\\anaconda3\\envs\\aesara-dev\\lib\\site-packages\\IPython\\core\\interactiveshell.py\", line 2881, in run_cell\n    result = self._run_cell(\n  File \"C:\\Users\\Purna\\anaconda3\\envs\\aesara-dev\\lib\\site-packages\\IPython\\core\\interactiveshell.py\", line 2936, in _run_cell\n    return runner(coro)\n  File \"C:\\Users\\Purna\\anaconda3\\envs\\aesara-dev\\lib\\site-packages\\IPython\\core\\async_helpers.py\", line 129, in _pseudo_sync_runner\n    coro.send(None)\n  File \"C:\\Users\\Purna\\anaconda3\\envs\\aesara-dev\\lib\\site-packages\\IPython\\core\\interactiveshell.py\", line 3135, in run_cell_async\n    has_raised = await self.run_ast_nodes(code_ast.body, cell_name,\n  File \"C:\\Users\\Purna\\anaconda3\\envs\\aesara-dev\\lib\\site-packages\\IPython\\core\\interactiveshell.py\", line 3338, in run_ast_nodes\n    if await self.run_code(code, result, async_=asy):\n  File \"C:\\Users\\Purna\\anaconda3\\envs\\aesara-dev\\lib\\site-packages\\IPython\\core\\interactiveshell.py\", line 3398, in run_code\n    exec(code_obj, self.user_global_ns, self.user_ns)\n  File \"C:\\Users\\Purna\\AppData\\Local\\Temp\\ipykernel_5944\\3809819310.py\", line 1, in <cell line: 1>\n    at.tril(d3_data).eval()\n\nHINT: Use the Aesara flag `exception_verbosity=high` for a debug print-out and storage map footprint of this Apply node."
     ]
    }
   ],
   "source": [
    "at.tril(d3_data).eval()"
   ]
  },
  {
   "cell_type": "code",
   "execution_count": null,
   "id": "0f272521",
   "metadata": {},
   "outputs": [],
   "source": []
  },
  {
   "cell_type": "markdown",
   "id": "2e9beb2f",
   "metadata": {},
   "source": [
    "## Aesara Tril - After"
   ]
  },
  {
   "cell_type": "code",
   "execution_count": 1,
   "id": "98ea4a27",
   "metadata": {},
   "outputs": [
    {
     "name": "stdout",
     "output_type": "stream",
     "text": [
      "WARN: Could not locate executable g77\n",
      "WARN: Could not locate executable f77\n",
      "WARN: Could not locate executable ifort\n",
      "WARN: Could not locate executable ifl\n",
      "WARN: Could not locate executable f90\n",
      "WARN: Could not locate executable DF\n",
      "WARN: Could not locate executable efl\n"
     ]
    }
   ],
   "source": [
    "import numpy as np\n",
    "import aesara.tensor as at"
   ]
  },
  {
   "cell_type": "code",
   "execution_count": 10,
   "id": "52f8d27d",
   "metadata": {},
   "outputs": [
    {
     "name": "stdout",
     "output_type": "stream",
     "text": [
      "PRINTING JUST TO CHECK THIS LINE IS EXECUTING :) :) :)\n"
     ]
    },
    {
     "data": {
      "text/plain": [
       "array([[ 0,  0,  0,  0],\n",
       "       [ 4,  5,  0,  0],\n",
       "       [ 8,  9, 10,  0]])"
      ]
     },
     "execution_count": 10,
     "metadata": {},
     "output_type": "execute_result"
    }
   ],
   "source": [
    "# for 2D Data\n",
    "at.tril(d2_data).eval()"
   ]
  },
  {
   "cell_type": "code",
   "execution_count": 11,
   "id": "bc937d62",
   "metadata": {},
   "outputs": [
    {
     "name": "stdout",
     "output_type": "stream",
     "text": [
      "PRINTING JUST TO CHECK THIS LINE IS EXECUTING :) :) :)\n"
     ]
    },
    {
     "data": {
      "text/plain": [
       "array([[[ 0,  0,  0,  0,  0],\n",
       "        [ 5,  6,  0,  0,  0],\n",
       "        [10, 11, 12,  0,  0],\n",
       "        [15, 16, 17, 18,  0]],\n",
       "\n",
       "       [[20,  0,  0,  0,  0],\n",
       "        [25, 26,  0,  0,  0],\n",
       "        [30, 31, 32,  0,  0],\n",
       "        [35, 36, 37, 38,  0]],\n",
       "\n",
       "       [[40,  0,  0,  0,  0],\n",
       "        [45, 46,  0,  0,  0],\n",
       "        [50, 51, 52,  0,  0],\n",
       "        [55, 56, 57, 58,  0]]])"
      ]
     },
     "execution_count": 11,
     "metadata": {},
     "output_type": "execute_result"
    }
   ],
   "source": [
    "# for 3D Data\n",
    "at.tril(d3_data).eval()"
   ]
  },
  {
   "cell_type": "code",
   "execution_count": 12,
   "id": "d89db026",
   "metadata": {},
   "outputs": [
    {
     "name": "stdout",
     "output_type": "stream",
     "text": [
      "PRINTING JUST TO CHECK THIS LINE IS EXECUTING :) :) :)\n"
     ]
    },
    {
     "data": {
      "text/plain": [
       "array([[[[  0,   0,   0,   0,   0],\n",
       "         [  5,   6,   0,   0,   0],\n",
       "         [ 10,  11,  12,   0,   0],\n",
       "         [ 15,  16,  17,  18,   0]],\n",
       "\n",
       "        [[ 20,   0,   0,   0,   0],\n",
       "         [ 25,  26,   0,   0,   0],\n",
       "         [ 30,  31,  32,   0,   0],\n",
       "         [ 35,  36,  37,  38,   0]],\n",
       "\n",
       "        [[ 40,   0,   0,   0,   0],\n",
       "         [ 45,  46,   0,   0,   0],\n",
       "         [ 50,  51,  52,   0,   0],\n",
       "         [ 55,  56,  57,  58,   0]]],\n",
       "\n",
       "\n",
       "       [[[ 60,   0,   0,   0,   0],\n",
       "         [ 65,  66,   0,   0,   0],\n",
       "         [ 70,  71,  72,   0,   0],\n",
       "         [ 75,  76,  77,  78,   0]],\n",
       "\n",
       "        [[ 80,   0,   0,   0,   0],\n",
       "         [ 85,  86,   0,   0,   0],\n",
       "         [ 90,  91,  92,   0,   0],\n",
       "         [ 95,  96,  97,  98,   0]],\n",
       "\n",
       "        [[100,   0,   0,   0,   0],\n",
       "         [105, 106,   0,   0,   0],\n",
       "         [110, 111, 112,   0,   0],\n",
       "         [115, 116, 117, 118,   0]]]])"
      ]
     },
     "execution_count": 12,
     "metadata": {},
     "output_type": "execute_result"
    }
   ],
   "source": [
    "# for 4D Data\n",
    "at.tril(d4_data).eval()"
   ]
  },
  {
   "cell_type": "code",
   "execution_count": null,
   "id": "e7944390",
   "metadata": {},
   "outputs": [],
   "source": []
  }
 ],
 "metadata": {
  "kernelspec": {
   "display_name": "Python 3 (ipykernel)",
   "language": "python",
   "name": "python3"
  },
  "language_info": {
   "codemirror_mode": {
    "name": "ipython",
    "version": 3
   },
   "file_extension": ".py",
   "mimetype": "text/x-python",
   "name": "python",
   "nbconvert_exporter": "python",
   "pygments_lexer": "ipython3",
   "version": "3.10.5"
  }
 },
 "nbformat": 4,
 "nbformat_minor": 5
}
