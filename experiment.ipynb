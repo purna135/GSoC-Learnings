{
 "cells": [
  {
   "cell_type": "code",
   "execution_count": 1,
   "metadata": {},
   "outputs": [
    {
     "name": "stderr",
     "output_type": "stream",
     "text": [
      "WARNING (aesara.tensor.blas): Using NumPy C-API based implementation for BLAS functions.\n"
     ]
    }
   ],
   "source": [
    "import aesara.tensor as at\n",
    "import numpy as np"
   ]
  },
  {
   "cell_type": "code",
   "execution_count": 2,
   "metadata": {},
   "outputs": [
    {
     "data": {
      "text/plain": [
       "((3,), (3, 3), (2, 3, 3))"
      ]
     },
     "execution_count": 2,
     "metadata": {},
     "output_type": "execute_result"
    }
   ],
   "source": [
    "d1 = np.arange(1,4)\n",
    "d2 = np.arange(1,10).reshape(3,3)\n",
    "d3 = np.arange(1,19).reshape(2,3,3)\n",
    "\n",
    "d1.shape, d2.shape, d3.shape"
   ]
  },
  {
   "cell_type": "code",
   "execution_count": 8,
   "metadata": {},
   "outputs": [
    {
     "name": "stdout",
     "output_type": "stream",
     "text": [
      "True\n",
      "True\n",
      "True\n"
     ]
    }
   ],
   "source": [
    "#tril\n",
    "print(np.allclose(at.tril(d1).eval(), np.tril(d1)))\n",
    "print(np.allclose(at.tril(d2).eval(), np.tril(d2)))\n",
    "print(np.allclose(at.tril(d3).eval(), np.tril(d3)))"
   ]
  },
  {
   "cell_type": "code",
   "execution_count": 7,
   "metadata": {},
   "outputs": [
    {
     "name": "stdout",
     "output_type": "stream",
     "text": [
      "True\n",
      "True\n",
      "True\n"
     ]
    }
   ],
   "source": [
    "#triu\n",
    "print(np.allclose(at.triu(d1).eval(), np.triu(d1)))\n",
    "print(np.allclose(at.triu(d2).eval(), np.triu(d2)))\n",
    "print(np.allclose(at.triu(d3).eval(), np.triu(d3)))"
   ]
  },
  {
   "cell_type": "code",
   "execution_count": 6,
   "metadata": {},
   "outputs": [
    {
     "name": "stdout",
     "output_type": "stream",
     "text": [
      "True\n",
      "True\n"
     ]
    }
   ],
   "source": [
    "#diag\n",
    "print(np.allclose(at.diag(d1).eval(), np.diag(d1)))\n",
    "print(np.allclose(at.diag(d2).eval(), np.diag(d2)))"
   ]
  },
  {
   "cell_type": "code",
   "execution_count": 9,
   "metadata": {},
   "outputs": [
    {
     "data": {
      "text/plain": [
       "array([[ 1, 13],\n",
       "       [ 2, 14],\n",
       "       [ 3, 15]])"
      ]
     },
     "execution_count": 9,
     "metadata": {},
     "output_type": "execute_result"
    }
   ],
   "source": [
    "at.diag(d3).eval()"
   ]
  },
  {
   "cell_type": "code",
   "execution_count": 10,
   "metadata": {},
   "outputs": [
    {
     "ename": "ValueError",
     "evalue": "Input must be 1- or 2-d.",
     "output_type": "error",
     "traceback": [
      "\u001b[1;31m---------------------------------------------------------------------------\u001b[0m",
      "\u001b[1;31mValueError\u001b[0m                                Traceback (most recent call last)",
      "\u001b[1;32md:\\OpenSource\\aesara\\experiment.ipynb Cell 7'\u001b[0m in \u001b[0;36m<cell line: 1>\u001b[1;34m()\u001b[0m\n\u001b[1;32m----> <a href='vscode-notebook-cell:/d%3A/OpenSource/aesara/experiment.ipynb#ch0000006?line=0'>1</a>\u001b[0m np\u001b[39m.\u001b[39;49mdiag(d3)\u001b[39m.\u001b[39meval()\n",
      "File \u001b[1;32m<__array_function__ internals>:180\u001b[0m, in \u001b[0;36mdiag\u001b[1;34m(*args, **kwargs)\u001b[0m\n",
      "File \u001b[1;32mc:\\Users\\Purna\\anaconda3\\envs\\aesara-dev\\lib\\site-packages\\numpy\\lib\\twodim_base.py:303\u001b[0m, in \u001b[0;36mdiag\u001b[1;34m(v, k)\u001b[0m\n\u001b[0;32m    301\u001b[0m     \u001b[39mreturn\u001b[39;00m diagonal(v, k)\n\u001b[0;32m    302\u001b[0m \u001b[39melse\u001b[39;00m:\n\u001b[1;32m--> 303\u001b[0m     \u001b[39mraise\u001b[39;00m \u001b[39mValueError\u001b[39;00m(\u001b[39m\"\u001b[39m\u001b[39mInput must be 1- or 2-d.\u001b[39m\u001b[39m\"\u001b[39m)\n",
      "\u001b[1;31mValueError\u001b[0m: Input must be 1- or 2-d."
     ]
    }
   ],
   "source": [
    "np.diag(d3).eval()"
   ]
  },
  {
   "cell_type": "code",
   "execution_count": 12,
   "metadata": {},
   "outputs": [
    {
     "data": {
      "text/plain": [
       "array([ 4,  3, -3,  1, -5,  0, -2,  1,  0, -2])"
      ]
     },
     "execution_count": 12,
     "metadata": {},
     "output_type": "execute_result"
    }
   ],
   "source": [
    "from tests.tensor.utils import random_of_dtype\n",
    "m = random_of_dtype((10,), \"int32\")\n",
    "m"
   ]
  },
  {
   "cell_type": "code",
   "execution_count": 15,
   "metadata": {},
   "outputs": [
    {
     "ename": "ValueError",
     "evalue": "input array must be 2-d",
     "output_type": "error",
     "traceback": [
      "\u001b[1;31m---------------------------------------------------------------------------\u001b[0m",
      "\u001b[1;31mValueError\u001b[0m                                Traceback (most recent call last)",
      "\u001b[1;32md:\\OpenSource\\aesara\\experiment.ipynb Cell 9'\u001b[0m in \u001b[0;36m<cell line: 1>\u001b[1;34m()\u001b[0m\n\u001b[1;32m----> <a href='vscode-notebook-cell:/d%3A/OpenSource/aesara/experiment.ipynb#ch0000008?line=0'>1</a>\u001b[0m np\u001b[39m.\u001b[39;49mtriu_indices_from(d1)\n",
      "File \u001b[1;32m<__array_function__ internals>:180\u001b[0m, in \u001b[0;36mtriu_indices_from\u001b[1;34m(*args, **kwargs)\u001b[0m\n",
      "File \u001b[1;32mc:\\Users\\Purna\\anaconda3\\envs\\aesara-dev\\lib\\site-packages\\numpy\\lib\\twodim_base.py:1126\u001b[0m, in \u001b[0;36mtriu_indices_from\u001b[1;34m(arr, k)\u001b[0m\n\u001b[0;32m   1099\u001b[0m \u001b[39m\"\"\"\u001b[39;00m\n\u001b[0;32m   1100\u001b[0m \u001b[39mReturn the indices for the upper-triangle of arr.\u001b[39;00m\n\u001b[0;32m   1101\u001b[0m \n\u001b[1;32m   (...)\u001b[0m\n\u001b[0;32m   1123\u001b[0m \n\u001b[0;32m   1124\u001b[0m \u001b[39m\"\"\"\u001b[39;00m\n\u001b[0;32m   1125\u001b[0m \u001b[39mif\u001b[39;00m arr\u001b[39m.\u001b[39mndim \u001b[39m!=\u001b[39m \u001b[39m2\u001b[39m:\n\u001b[1;32m-> 1126\u001b[0m     \u001b[39mraise\u001b[39;00m \u001b[39mValueError\u001b[39;00m(\u001b[39m\"\u001b[39m\u001b[39minput array must be 2-d\u001b[39m\u001b[39m\"\u001b[39m)\n\u001b[0;32m   1127\u001b[0m \u001b[39mreturn\u001b[39;00m triu_indices(arr\u001b[39m.\u001b[39mshape[\u001b[39m-\u001b[39m\u001b[39m2\u001b[39m], k\u001b[39m=\u001b[39mk, m\u001b[39m=\u001b[39marr\u001b[39m.\u001b[39mshape[\u001b[39m-\u001b[39m\u001b[39m1\u001b[39m])\n",
      "\u001b[1;31mValueError\u001b[0m: input array must be 2-d"
     ]
    }
   ],
   "source": [
    "np.triu_indices_from(d1)"
   ]
  },
  {
   "cell_type": "code",
   "execution_count": 16,
   "metadata": {},
   "outputs": [
    {
     "data": {
      "text/plain": [
       "(Nonzero.0, Nonzero.1)"
      ]
     },
     "execution_count": 16,
     "metadata": {},
     "output_type": "execute_result"
    }
   ],
   "source": [
    "at.triu_indices_from(d2)"
   ]
  },
  {
   "cell_type": "code",
   "execution_count": 18,
   "metadata": {},
   "outputs": [
    {
     "ename": "ValueError",
     "evalue": "The input array must be two dimensional.",
     "output_type": "error",
     "traceback": [
      "\u001b[1;31m---------------------------------------------------------------------------\u001b[0m",
      "\u001b[1;31mValueError\u001b[0m                                Traceback (most recent call last)",
      "\u001b[1;32md:\\OpenSource\\aesara\\experiment.ipynb Cell 11'\u001b[0m in \u001b[0;36m<cell line: 1>\u001b[1;34m()\u001b[0m\n\u001b[1;32m----> <a href='vscode-notebook-cell:/d%3A/OpenSource/aesara/experiment.ipynb#ch0000010?line=0'>1</a>\u001b[0m at\u001b[39m.\u001b[39;49mtriu_indices_from(d1)\n",
      "File \u001b[1;32md:\\OpenSource\\aesara\\aesara\\tensor\\basic.py:1355\u001b[0m, in \u001b[0;36mtriu_indices_from\u001b[1;34m(a, k)\u001b[0m\n\u001b[0;32m   1333\u001b[0m \u001b[39m\"\"\"\u001b[39;00m\n\u001b[0;32m   1334\u001b[0m \u001b[39mReturn the indices for the upper-triangle of arr.\u001b[39;00m\n\u001b[0;32m   1335\u001b[0m \n\u001b[1;32m   (...)\u001b[0m\n\u001b[0;32m   1352\u001b[0m \u001b[39m    If the input is not a 2d array.\u001b[39;00m\n\u001b[0;32m   1353\u001b[0m \u001b[39m\"\"\"\u001b[39;00m\n\u001b[0;32m   1354\u001b[0m \u001b[39mif\u001b[39;00m a\u001b[39m.\u001b[39mndim \u001b[39m!=\u001b[39m \u001b[39m2\u001b[39m:\n\u001b[1;32m-> 1355\u001b[0m     \u001b[39mraise\u001b[39;00m \u001b[39mValueError\u001b[39;00m(\u001b[39m\"\u001b[39m\u001b[39mThe input array must be two dimensional.\u001b[39m\u001b[39m\"\u001b[39m)\n\u001b[0;32m   1356\u001b[0m \u001b[39mreturn\u001b[39;00m triu_indices(a\u001b[39m.\u001b[39mshape[\u001b[39m0\u001b[39m], k\u001b[39m=\u001b[39mk, m\u001b[39m=\u001b[39ma\u001b[39m.\u001b[39mshape[\u001b[39m1\u001b[39m])\n",
      "\u001b[1;31mValueError\u001b[0m: The input array must be two dimensional."
     ]
    }
   ],
   "source": [
    "at.triu_indices_from(d1)"
   ]
  },
  {
   "cell_type": "code",
   "execution_count": 20,
   "metadata": {},
   "outputs": [
    {
     "data": {
      "text/plain": [
       "array([[[ 0,  0,  0,  0,  0],\n",
       "        [ 5,  6,  0,  0,  0],\n",
       "        [10, 11, 12,  0,  0],\n",
       "        [15, 16, 17, 18,  0]],\n",
       "\n",
       "       [[20,  0,  0,  0,  0],\n",
       "        [25, 26,  0,  0,  0],\n",
       "        [30, 31, 32,  0,  0],\n",
       "        [35, 36, 37, 38,  0]],\n",
       "\n",
       "       [[40,  0,  0,  0,  0],\n",
       "        [45, 46,  0,  0,  0],\n",
       "        [50, 51, 52,  0,  0],\n",
       "        [55, 56, 57, 58,  0]]])"
      ]
     },
     "execution_count": 20,
     "metadata": {},
     "output_type": "execute_result"
    }
   ],
   "source": [
    "at.tril(np.arange(3*4*5).reshape(3, 4, 5)).eval()"
   ]
  },
  {
   "cell_type": "code",
   "execution_count": 24,
   "metadata": {},
   "outputs": [
    {
     "data": {
      "text/plain": [
       "array([[ 0,  0,  0],\n",
       "       [ 4,  0,  0],\n",
       "       [ 7,  8,  0],\n",
       "       [10, 11, 12]])"
      ]
     },
     "execution_count": 24,
     "metadata": {},
     "output_type": "execute_result"
    }
   ],
   "source": [
    "at.tril(np.arange(1,13).reshape(4,3), -1).eval()"
   ]
  },
  {
   "cell_type": "code",
   "execution_count": 25,
   "metadata": {},
   "outputs": [
    {
     "data": {
      "text/plain": [
       "array([[ 1,  2,  3],\n",
       "       [ 4,  5,  6],\n",
       "       [ 0,  8,  9],\n",
       "       [ 0,  0, 12]])"
      ]
     },
     "execution_count": 25,
     "metadata": {},
     "output_type": "execute_result"
    }
   ],
   "source": [
    "at.triu(np.arange(1,13).reshape(4,3), -1).eval()"
   ]
  },
  {
   "cell_type": "code",
   "execution_count": 26,
   "metadata": {},
   "outputs": [
    {
     "data": {
      "text/plain": [
       "array([[[ 0,  1,  2,  3,  4],\n",
       "        [ 0,  6,  7,  8,  9],\n",
       "        [ 0,  0, 12, 13, 14],\n",
       "        [ 0,  0,  0, 18, 19]],\n",
       "\n",
       "       [[20, 21, 22, 23, 24],\n",
       "        [ 0, 26, 27, 28, 29],\n",
       "        [ 0,  0, 32, 33, 34],\n",
       "        [ 0,  0,  0, 38, 39]],\n",
       "\n",
       "       [[40, 41, 42, 43, 44],\n",
       "        [ 0, 46, 47, 48, 49],\n",
       "        [ 0,  0, 52, 53, 54],\n",
       "        [ 0,  0,  0, 58, 59]]])"
      ]
     },
     "execution_count": 26,
     "metadata": {},
     "output_type": "execute_result"
    }
   ],
   "source": [
    "at.triu(np.arange(3*4*5).reshape(3, 4, 5)).eval()"
   ]
  },
  {
   "cell_type": "code",
   "execution_count": null,
   "metadata": {},
   "outputs": [],
   "source": []
  }
 ],
 "metadata": {
  "kernelspec": {
   "display_name": "Python 3.10.5 ('aesara-dev')",
   "language": "python",
   "name": "python3"
  },
  "language_info": {
   "codemirror_mode": {
    "name": "ipython",
    "version": 3
   },
   "file_extension": ".py",
   "mimetype": "text/x-python",
   "name": "python",
   "nbconvert_exporter": "python",
   "pygments_lexer": "ipython3",
   "version": "3.10.5"
  },
  "orig_nbformat": 4,
  "vscode": {
   "interpreter": {
    "hash": "ac4648821aa06180b98b7c9c893da116101fbb6fac58caf5edce86ce2a349ee1"
   }
  }
 },
 "nbformat": 4,
 "nbformat_minor": 2
}
