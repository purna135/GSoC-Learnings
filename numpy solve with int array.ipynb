{
 "cells": [
  {
   "cell_type": "code",
   "execution_count": 1,
   "id": "8f40dada",
   "metadata": {},
   "outputs": [],
   "source": [
    "import numpy as np\n",
    "import aesara.tensor as at\n",
    "from aesara.tensor.type import matrix, tensor3\n",
    "import aesara"
   ]
  },
  {
   "cell_type": "markdown",
   "id": "bd7e178c",
   "metadata": {},
   "source": [
    "### Creating int array"
   ]
  },
  {
   "cell_type": "code",
   "execution_count": 3,
   "id": "26ef32ec",
   "metadata": {},
   "outputs": [
    {
     "data": {
      "text/plain": [
       "(dtype('int32'), dtype('int32'))"
      ]
     },
     "execution_count": 3,
     "metadata": {},
     "output_type": "execute_result"
    }
   ],
   "source": [
    "a = np.full((2,3,3), np.eye(3), dtype = \"int32\")\n",
    "b = np.arange(2*3).reshape(2,3)\n",
    "\n",
    "a.dtype, b.dtype"
   ]
  },
  {
   "cell_type": "markdown",
   "id": "82edc5a5",
   "metadata": {},
   "source": [
    "# Calse - 1:\n",
    "#### Infer dtype by solving the most simple case with 1x1 matrices\n",
    "```\n",
    "out_dtype = np.linalg.solve(\n",
    "    np.eye(1).astype(a.dtype), np.eye(1).astype(b.dtype)\n",
    ").dtype\n",
    "```"
   ]
  },
  {
   "cell_type": "markdown",
   "id": "68fa0085",
   "metadata": {},
   "source": [
    "### 1. Compile graph using aesara.function - No Error"
   ]
  },
  {
   "cell_type": "code",
   "execution_count": 8,
   "id": "0aca45b3",
   "metadata": {},
   "outputs": [
    {
     "data": {
      "text/plain": [
       "array([[0., 1., 2.],\n",
       "       [3., 4., 5.]])"
      ]
     },
     "execution_count": 8,
     "metadata": {},
     "output_type": "execute_result"
    }
   ],
   "source": [
    "A = tensor3()\n",
    "B = matrix()\n",
    "y = at.nlinalg.solve(A, B)\n",
    "f = aesara.function([A, B], y)\n",
    "\n",
    "f(a ,b)"
   ]
  },
  {
   "cell_type": "markdown",
   "id": "87a66b27",
   "metadata": {},
   "source": [
    "### 2. Compile graph using eval() - No Error"
   ]
  },
  {
   "cell_type": "code",
   "execution_count": 9,
   "id": "38a95551",
   "metadata": {},
   "outputs": [
    {
     "data": {
      "text/plain": [
       "array([[0., 1., 2.],\n",
       "       [3., 4., 5.]])"
      ]
     },
     "execution_count": 9,
     "metadata": {},
     "output_type": "execute_result"
    }
   ],
   "source": [
    "at.nlinalg.solve(a, b).eval()"
   ]
  },
  {
   "cell_type": "markdown",
   "id": "266e8d8b",
   "metadata": {},
   "source": [
    "# Calse - 2:\n",
    "#### Infer dtype by using aesara.scalar.upcast\n",
    "```\n",
    "out_dtype = aes.upcast(a.dtype, b.dtype)\n",
    "```"
   ]
  },
  {
   "cell_type": "markdown",
   "id": "c3f011c1",
   "metadata": {},
   "source": [
    "### 2.1. Compile graph using aesara.function - No Error"
   ]
  },
  {
   "cell_type": "code",
   "execution_count": 4,
   "id": "31194b6c",
   "metadata": {},
   "outputs": [
    {
     "data": {
      "text/plain": [
       "array([[0., 1., 2.],\n",
       "       [3., 4., 5.]])"
      ]
     },
     "execution_count": 4,
     "metadata": {},
     "output_type": "execute_result"
    }
   ],
   "source": [
    "A = tensor3()\n",
    "B = matrix()\n",
    "y = at.nlinalg.solve(A, B)\n",
    "f = aesara.function([A, B], y)\n",
    "\n",
    "f(a ,b)"
   ]
  },
  {
   "cell_type": "markdown",
   "id": "8e89e1d7",
   "metadata": {},
   "source": [
    "### 2.2. Compile graph using eval() - Optimization Error"
   ]
  },
  {
   "cell_type": "code",
   "execution_count": 5,
   "id": "638cfdc5",
   "metadata": {},
   "outputs": [
    {
     "name": "stderr",
     "output_type": "stream",
     "text": [
      "ERROR (aesara.graph.opt): Optimization failure due to: constant_folding\n",
      "ERROR (aesara.graph.opt): node: Solve(TensorConstant{[[[1 0 0]\n",
      ".. [0 0 1]]]}, TensorConstant{[[0 1 2]\n",
      " [3 4 5]]})\n",
      "ERROR (aesara.graph.opt): TRACEBACK:\n",
      "ERROR (aesara.graph.opt): Traceback (most recent call last):\n",
      "  File \"D:\\OpenSource\\aesara\\aesara\\graph\\opt.py\", line 1861, in process_node\n",
      "    replacements = lopt.transform(fgraph, node)\n",
      "  File \"D:\\OpenSource\\aesara\\aesara\\graph\\opt.py\", line 1066, in transform\n",
      "    return self.fn(fgraph, node)\n",
      "  File \"D:\\OpenSource\\aesara\\aesara\\tensor\\basic_opt.py\", line 2807, in constant_folding\n",
      "    v = output_type.make_constant(data)\n",
      "  File \"D:\\OpenSource\\aesara\\aesara\\graph\\type.py\", line 213, in make_constant\n",
      "    return self.constant_type(type=self, data=value, name=name)\n",
      "  File \"D:\\OpenSource\\aesara\\aesara\\tensor\\var.py\", line 1011, in __init__\n",
      "    Constant.__init__(self, new_type, data, name)\n",
      "  File \"D:\\OpenSource\\aesara\\aesara\\graph\\basic.py\", line 729, in __init__\n",
      "    self.data = type.filter(data)\n",
      "  File \"D:\\OpenSource\\aesara\\aesara\\tensor\\type.py\", line 189, in filter\n",
      "    raise TypeError(err_msg)\n",
      "TypeError: TensorType(int32, (2, 3)) cannot store a value of dtype float64 without risking loss of precision. If you do not mind this loss, you can: 1) explicitly cast your data to int32, or 2) set \"allow_input_downcast=True\" when calling \"function\". Value: \"array([[0., 1., 2.],\n",
      "       [3., 4., 5.]])\"\n",
      "\n",
      "ERROR (aesara.graph.opt): Optimization failure due to: constant_folding\n",
      "ERROR (aesara.graph.opt): node: Solve(TensorConstant{[[[1 0 0]\n",
      ".. [0 0 1]]]}, TensorConstant{[[0 1 2]\n",
      " [3 4 5]]})\n",
      "ERROR (aesara.graph.opt): TRACEBACK:\n",
      "ERROR (aesara.graph.opt): Traceback (most recent call last):\n",
      "  File \"D:\\OpenSource\\aesara\\aesara\\graph\\opt.py\", line 1861, in process_node\n",
      "    replacements = lopt.transform(fgraph, node)\n",
      "  File \"D:\\OpenSource\\aesara\\aesara\\graph\\opt.py\", line 1066, in transform\n",
      "    return self.fn(fgraph, node)\n",
      "  File \"D:\\OpenSource\\aesara\\aesara\\tensor\\basic_opt.py\", line 2807, in constant_folding\n",
      "    v = output_type.make_constant(data)\n",
      "  File \"D:\\OpenSource\\aesara\\aesara\\graph\\type.py\", line 213, in make_constant\n",
      "    return self.constant_type(type=self, data=value, name=name)\n",
      "  File \"D:\\OpenSource\\aesara\\aesara\\tensor\\var.py\", line 1011, in __init__\n",
      "    Constant.__init__(self, new_type, data, name)\n",
      "  File \"D:\\OpenSource\\aesara\\aesara\\graph\\basic.py\", line 729, in __init__\n",
      "    self.data = type.filter(data)\n",
      "  File \"D:\\OpenSource\\aesara\\aesara\\tensor\\type.py\", line 189, in filter\n",
      "    raise TypeError(err_msg)\n",
      "TypeError: TensorType(int32, (2, 3)) cannot store a value of dtype float64 without risking loss of precision. If you do not mind this loss, you can: 1) explicitly cast your data to int32, or 2) set \"allow_input_downcast=True\" when calling \"function\". Value: \"array([[0., 1., 2.],\n",
      "       [3., 4., 5.]])\"\n",
      "\n",
      "ERROR (aesara.graph.opt): Optimization failure due to: constant_folding\n",
      "ERROR (aesara.graph.opt): node: Solve(TensorConstant{[[[1 0 0]\n",
      ".. [0 0 1]]]}, TensorConstant{[[0 1 2]\n",
      " [3 4 5]]})\n",
      "ERROR (aesara.graph.opt): TRACEBACK:\n",
      "ERROR (aesara.graph.opt): Traceback (most recent call last):\n",
      "  File \"D:\\OpenSource\\aesara\\aesara\\graph\\opt.py\", line 1861, in process_node\n",
      "    replacements = lopt.transform(fgraph, node)\n",
      "  File \"D:\\OpenSource\\aesara\\aesara\\graph\\opt.py\", line 1066, in transform\n",
      "    return self.fn(fgraph, node)\n",
      "  File \"D:\\OpenSource\\aesara\\aesara\\tensor\\basic_opt.py\", line 2807, in constant_folding\n",
      "    v = output_type.make_constant(data)\n",
      "  File \"D:\\OpenSource\\aesara\\aesara\\graph\\type.py\", line 213, in make_constant\n",
      "    return self.constant_type(type=self, data=value, name=name)\n",
      "  File \"D:\\OpenSource\\aesara\\aesara\\tensor\\var.py\", line 1011, in __init__\n",
      "    Constant.__init__(self, new_type, data, name)\n",
      "  File \"D:\\OpenSource\\aesara\\aesara\\graph\\basic.py\", line 729, in __init__\n",
      "    self.data = type.filter(data)\n",
      "  File \"D:\\OpenSource\\aesara\\aesara\\tensor\\type.py\", line 189, in filter\n",
      "    raise TypeError(err_msg)\n",
      "TypeError: TensorType(int32, (2, 3)) cannot store a value of dtype float64 without risking loss of precision. If you do not mind this loss, you can: 1) explicitly cast your data to int32, or 2) set \"allow_input_downcast=True\" when calling \"function\". Value: \"array([[0., 1., 2.],\n",
      "       [3., 4., 5.]])\"\n",
      "\n",
      "ERROR (aesara.graph.opt): Optimization failure due to: constant_folding\n",
      "ERROR (aesara.graph.opt): node: Solve(TensorConstant{[[[1 0 0]\n",
      ".. [0 0 1]]]}, TensorConstant{[[0 1 2]\n",
      " [3 4 5]]})\n",
      "ERROR (aesara.graph.opt): TRACEBACK:\n",
      "ERROR (aesara.graph.opt): Traceback (most recent call last):\n",
      "  File \"D:\\OpenSource\\aesara\\aesara\\graph\\opt.py\", line 1861, in process_node\n",
      "    replacements = lopt.transform(fgraph, node)\n",
      "  File \"D:\\OpenSource\\aesara\\aesara\\graph\\opt.py\", line 1066, in transform\n",
      "    return self.fn(fgraph, node)\n",
      "  File \"D:\\OpenSource\\aesara\\aesara\\tensor\\basic_opt.py\", line 2807, in constant_folding\n",
      "    v = output_type.make_constant(data)\n",
      "  File \"D:\\OpenSource\\aesara\\aesara\\graph\\type.py\", line 213, in make_constant\n",
      "    return self.constant_type(type=self, data=value, name=name)\n",
      "  File \"D:\\OpenSource\\aesara\\aesara\\tensor\\var.py\", line 1011, in __init__\n",
      "    Constant.__init__(self, new_type, data, name)\n",
      "  File \"D:\\OpenSource\\aesara\\aesara\\graph\\basic.py\", line 729, in __init__\n",
      "    self.data = type.filter(data)\n",
      "  File \"D:\\OpenSource\\aesara\\aesara\\tensor\\type.py\", line 189, in filter\n",
      "    raise TypeError(err_msg)\n",
      "TypeError: TensorType(int32, (2, 3)) cannot store a value of dtype float64 without risking loss of precision. If you do not mind this loss, you can: 1) explicitly cast your data to int32, or 2) set \"allow_input_downcast=True\" when calling \"function\". Value: \"array([[0., 1., 2.],\n",
      "       [3., 4., 5.]])\"\n",
      "\n",
      "ERROR (aesara.graph.opt): Optimization failure due to: constant_folding\n",
      "ERROR (aesara.graph.opt): node: Solve(TensorConstant{[[[1 0 0]\n",
      ".. [0 0 1]]]}, TensorConstant{[[0 1 2]\n",
      " [3 4 5]]})\n",
      "ERROR (aesara.graph.opt): TRACEBACK:\n",
      "ERROR (aesara.graph.opt): Traceback (most recent call last):\n",
      "  File \"D:\\OpenSource\\aesara\\aesara\\graph\\opt.py\", line 1861, in process_node\n",
      "    replacements = lopt.transform(fgraph, node)\n",
      "  File \"D:\\OpenSource\\aesara\\aesara\\graph\\opt.py\", line 1066, in transform\n",
      "    return self.fn(fgraph, node)\n",
      "  File \"D:\\OpenSource\\aesara\\aesara\\tensor\\basic_opt.py\", line 2807, in constant_folding\n",
      "    v = output_type.make_constant(data)\n",
      "  File \"D:\\OpenSource\\aesara\\aesara\\graph\\type.py\", line 213, in make_constant\n",
      "    return self.constant_type(type=self, data=value, name=name)\n",
      "  File \"D:\\OpenSource\\aesara\\aesara\\tensor\\var.py\", line 1011, in __init__\n",
      "    Constant.__init__(self, new_type, data, name)\n",
      "  File \"D:\\OpenSource\\aesara\\aesara\\graph\\basic.py\", line 729, in __init__\n",
      "    self.data = type.filter(data)\n",
      "  File \"D:\\OpenSource\\aesara\\aesara\\tensor\\type.py\", line 189, in filter\n",
      "    raise TypeError(err_msg)\n",
      "TypeError: TensorType(int32, (2, 3)) cannot store a value of dtype float64 without risking loss of precision. If you do not mind this loss, you can: 1) explicitly cast your data to int32, or 2) set \"allow_input_downcast=True\" when calling \"function\". Value: \"array([[0., 1., 2.],\n",
      "       [3., 4., 5.]])\"\n",
      "\n"
     ]
    },
    {
     "data": {
      "text/plain": [
       "array([[0., 1., 2.],\n",
       "       [3., 4., 5.]])"
      ]
     },
     "execution_count": 5,
     "metadata": {},
     "output_type": "execute_result"
    }
   ],
   "source": [
    "at.nlinalg.solve(a, b).eval()"
   ]
  },
  {
   "cell_type": "code",
   "execution_count": null,
   "id": "98d54c17",
   "metadata": {},
   "outputs": [],
   "source": []
  }
 ],
 "metadata": {
  "kernelspec": {
   "display_name": "Python 3 (ipykernel)",
   "language": "python",
   "name": "python3"
  },
  "language_info": {
   "codemirror_mode": {
    "name": "ipython",
    "version": 3
   },
   "file_extension": ".py",
   "mimetype": "text/x-python",
   "name": "python",
   "nbconvert_exporter": "python",
   "pygments_lexer": "ipython3",
   "version": "3.10.5"
  }
 },
 "nbformat": 4,
 "nbformat_minor": 5
}
